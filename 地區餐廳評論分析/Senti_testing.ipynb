{
 "cells": [
  {
   "cell_type": "code",
   "execution_count": 12,
   "id": "initial_id",
   "metadata": {
    "collapsed": true,
    "ExecuteTime": {
     "end_time": "2023-09-17T15:28:13.777913Z",
     "start_time": "2023-09-17T15:27:39.843792100Z"
    }
   },
   "outputs": [
    {
     "name": "stderr",
     "output_type": "stream",
     "text": [
      "Predicting: 100%|██████████| 2/2 [00:04<00:00,  2.08s/it]"
     ]
    },
    {
     "name": "stdout",
     "output_type": "stream",
     "text": [
      "                                            Sentences Preds\n",
      "0                                            我很喜歡這家店！    正面\n",
      "1                                              超級無敵棒！    正面\n",
      "2                                        這個服務生很不親切...    負面\n",
      "3           這間Fridays的空間不大，座位安排略顯擁擠，尤其是有隔板的兩人桌，真的超級小。    負面\n",
      "4                          唯一印象深刻的事... 蛤蜊好大顆，大蝦毛毛蟲好吃！    正面\n",
      "5                                     帶家人一起來吃，看環境還不錯。    正面\n",
      "6   但真的夠難吃，義大利面沒什麼味道，另外一道豬肉根本咬不斷 我媽直接放棄吐出來⋯唯一可以吃的還...    負面\n",
      "7   星期六晚生意太好東西算好吃 適合聚會有電視牆 看球賽一定很過癮美中不足是⋯用餐到一半有一桌上...    衝突\n",
      "8   松阪豬腥味超重每一道菜擺盤很美，但味道很廉價，然後同行的人回家拉肚子，另一個半夜拉肚子，真的很不推    負面\n",
      "9                                  份量很大，加麵或飯都可以兩人分著吃。    正面\n",
      "10                                       喜歡炸物的粉漿，不厚重。    正面\n",
      "11                                     服務人員態度也好，很適合聚餐    正面\n"
     ]
    },
    {
     "name": "stderr",
     "output_type": "stream",
     "text": [
      "\n"
     ]
    }
   ],
   "source": [
    "from senti_c import SentenceSentimentClassification\n",
    "\n",
    "sentence_classifier = SentenceSentimentClassification(logging_level = \"detail\")\n",
    "test_data = [\"我很喜歡這家店！超級無敵棒！\",\n",
    "             \"這個服務生很不親切...\",\n",
    "             \"這間Fridays的空間不大，座位安排略顯擁擠，尤其是有隔板的兩人桌，真的超級小。\",\n",
    "             \"唯一印象深刻的事... 蛤蜊好大顆，大蝦毛毛蟲好吃！\",\n",
    "             \"帶家人一起來吃，看環境還不錯。但真的夠難吃，義大利面沒什麼味道，另外一道豬肉根本咬不斷 我媽直接放棄吐出來⋯唯一可以吃的還是薯條 夠雷\",\n",
    "             \"星期六晚生意太好東西算好吃 適合聚會有電視牆 看球賽一定很過癮美中不足是⋯用餐到一半有一桌上了鐵板料理鐵板很燙狂冒白煙 不誇張是狂冒頓時整個室內都是煙和鐵板的油膩味影響到其他客人用餐\",\n",
    "             \"松阪豬腥味超重每一道菜擺盤很美，但味道很廉價，然後同行的人回家拉肚子，另一個半夜拉肚子，真的很不推\",\n",
    "             \"份量很大，加麵或飯都可以兩人分著吃。喜歡炸物的粉漿，不厚重。服務人員態度也好，很適合聚餐\"]\n",
    "result = sentence_classifier.predict(test_data, run_split = True, aggregate_strategy = False)\n",
    "print(result.iloc[:, 1:])"
   ]
  },
  {
   "cell_type": "code",
   "execution_count": 11,
   "outputs": [
    {
     "data": {
      "text/plain": "                                              Inputs Preds\n0                                     我很喜歡這家店！超級無敵棒！    正面\n1                                       這個服務生很不親切...    負面\n2          這間Fridays的空間不大，座位安排略顯擁擠，尤其是有隔板的兩人桌，真的超級小。    負面\n3                         唯一印象深刻的事... 蛤蜊好大顆，大蝦毛毛蟲好吃！    正面\n4  帶家人一起來吃，看環境還不錯。但真的夠難吃，義大利面沒什麼味道，另外一道豬肉根本咬不斷 我媽...    衝突\n5  星期六晚生意太好東西算好吃 適合聚會有電視牆 看球賽一定很過癮美中不足是⋯用餐到一半有一桌上...    衝突\n6  松阪豬腥味超重每一道菜擺盤很美，但味道很廉價，然後同行的人回家拉肚子，另一個半夜拉肚子，真的很不推    負面\n7       份量很大，加麵或飯都可以兩人分著吃。喜歡炸物的粉漿，不厚重。服務人員態度也好，很適合聚餐    正面",
      "text/html": "<div>\n<style scoped>\n    .dataframe tbody tr th:only-of-type {\n        vertical-align: middle;\n    }\n\n    .dataframe tbody tr th {\n        vertical-align: top;\n    }\n\n    .dataframe thead th {\n        text-align: right;\n    }\n</style>\n<table border=\"1\" class=\"dataframe\">\n  <thead>\n    <tr style=\"text-align: right;\">\n      <th></th>\n      <th>Inputs</th>\n      <th>Preds</th>\n    </tr>\n  </thead>\n  <tbody>\n    <tr>\n      <th>0</th>\n      <td>我很喜歡這家店！超級無敵棒！</td>\n      <td>正面</td>\n    </tr>\n    <tr>\n      <th>1</th>\n      <td>這個服務生很不親切...</td>\n      <td>負面</td>\n    </tr>\n    <tr>\n      <th>2</th>\n      <td>這間Fridays的空間不大，座位安排略顯擁擠，尤其是有隔板的兩人桌，真的超級小。</td>\n      <td>負面</td>\n    </tr>\n    <tr>\n      <th>3</th>\n      <td>唯一印象深刻的事... 蛤蜊好大顆，大蝦毛毛蟲好吃！</td>\n      <td>正面</td>\n    </tr>\n    <tr>\n      <th>4</th>\n      <td>帶家人一起來吃，看環境還不錯。但真的夠難吃，義大利面沒什麼味道，另外一道豬肉根本咬不斷 我媽...</td>\n      <td>衝突</td>\n    </tr>\n    <tr>\n      <th>5</th>\n      <td>星期六晚生意太好東西算好吃 適合聚會有電視牆 看球賽一定很過癮美中不足是⋯用餐到一半有一桌上...</td>\n      <td>衝突</td>\n    </tr>\n    <tr>\n      <th>6</th>\n      <td>松阪豬腥味超重每一道菜擺盤很美，但味道很廉價，然後同行的人回家拉肚子，另一個半夜拉肚子，真的很不推</td>\n      <td>負面</td>\n    </tr>\n    <tr>\n      <th>7</th>\n      <td>份量很大，加麵或飯都可以兩人分著吃。喜歡炸物的粉漿，不厚重。服務人員態度也好，很適合聚餐</td>\n      <td>正面</td>\n    </tr>\n  </tbody>\n</table>\n</div>"
     },
     "execution_count": 11,
     "metadata": {},
     "output_type": "execute_result"
    }
   ],
   "source": [
    "result"
   ],
   "metadata": {
    "collapsed": false,
    "ExecuteTime": {
     "end_time": "2023-09-17T15:27:25.155732100Z",
     "start_time": "2023-09-17T15:27:25.076029100Z"
    }
   },
   "id": "158a7cc9cbb79c57"
  },
  {
   "cell_type": "code",
   "execution_count": 3,
   "outputs": [
    {
     "name": "stdout",
     "output_type": "stream",
     "text": [
      "<class 'pandas.core.frame.DataFrame'>\n"
     ]
    }
   ],
   "source": [
    "print(type(result))"
   ],
   "metadata": {
    "collapsed": false,
    "ExecuteTime": {
     "end_time": "2023-09-15T13:53:18.532864100Z",
     "start_time": "2023-09-15T13:53:18.467572400Z"
    }
   },
   "id": "5fd895d1a3b809a3"
  },
  {
   "cell_type": "code",
   "execution_count": 4,
   "outputs": [
    {
     "data": {
      "text/plain": "                                      Inputs  \\\n0                             我很喜歡這家店！超級無敵棒！   \n1                             我很喜歡這家店！超級無敵棒！   \n2                               這個服務生很不親切...   \n3  這間Fridays的空間不大，座位安排略顯擁擠，尤其是有隔板的兩人桌，真的超級小。   \n4                 唯一印象深刻的事... 蛤蜊好大顆，大蝦毛毛蟲好吃！   \n\n                                   Sentences Preds  \n0                                   我很喜歡這家店！    正面  \n1                                     超級無敵棒！    正面  \n2                               這個服務生很不親切...    負面  \n3  這間Fridays的空間不大，座位安排略顯擁擠，尤其是有隔板的兩人桌，真的超級小。    負面  \n4                 唯一印象深刻的事... 蛤蜊好大顆，大蝦毛毛蟲好吃！    正面  ",
      "text/html": "<div>\n<style scoped>\n    .dataframe tbody tr th:only-of-type {\n        vertical-align: middle;\n    }\n\n    .dataframe tbody tr th {\n        vertical-align: top;\n    }\n\n    .dataframe thead th {\n        text-align: right;\n    }\n</style>\n<table border=\"1\" class=\"dataframe\">\n  <thead>\n    <tr style=\"text-align: right;\">\n      <th></th>\n      <th>Inputs</th>\n      <th>Sentences</th>\n      <th>Preds</th>\n    </tr>\n  </thead>\n  <tbody>\n    <tr>\n      <th>0</th>\n      <td>我很喜歡這家店！超級無敵棒！</td>\n      <td>我很喜歡這家店！</td>\n      <td>正面</td>\n    </tr>\n    <tr>\n      <th>1</th>\n      <td>我很喜歡這家店！超級無敵棒！</td>\n      <td>超級無敵棒！</td>\n      <td>正面</td>\n    </tr>\n    <tr>\n      <th>2</th>\n      <td>這個服務生很不親切...</td>\n      <td>這個服務生很不親切...</td>\n      <td>負面</td>\n    </tr>\n    <tr>\n      <th>3</th>\n      <td>這間Fridays的空間不大，座位安排略顯擁擠，尤其是有隔板的兩人桌，真的超級小。</td>\n      <td>這間Fridays的空間不大，座位安排略顯擁擠，尤其是有隔板的兩人桌，真的超級小。</td>\n      <td>負面</td>\n    </tr>\n    <tr>\n      <th>4</th>\n      <td>唯一印象深刻的事... 蛤蜊好大顆，大蝦毛毛蟲好吃！</td>\n      <td>唯一印象深刻的事... 蛤蜊好大顆，大蝦毛毛蟲好吃！</td>\n      <td>正面</td>\n    </tr>\n  </tbody>\n</table>\n</div>"
     },
     "execution_count": 4,
     "metadata": {},
     "output_type": "execute_result"
    }
   ],
   "source": [
    "result"
   ],
   "metadata": {
    "collapsed": false,
    "ExecuteTime": {
     "end_time": "2023-09-15T13:54:32.952185600Z",
     "start_time": "2023-09-15T13:54:32.883638500Z"
    }
   },
   "id": "fdf6f440bcb78bf9"
  },
  {
   "cell_type": "code",
   "execution_count": 11,
   "outputs": [
    {
     "ename": "TypeError",
     "evalue": "'module' object is not callable",
     "output_type": "error",
     "traceback": [
      "\u001B[1;31m---------------------------------------------------------------------------\u001B[0m",
      "\u001B[1;31mTypeError\u001B[0m                                 Traceback (most recent call last)",
      "Cell \u001B[1;32mIn[11], line 5\u001B[0m\n\u001B[0;32m      1\u001B[0m \u001B[38;5;28;01mimport\u001B[39;00m \u001B[38;5;21;01msenti_c\u001B[39;00m\n\u001B[0;32m      3\u001B[0m text \u001B[38;5;241m=\u001B[39m \u001B[38;5;124m\"\u001B[39m\u001B[38;5;124m這部電影很棒\u001B[39m\u001B[38;5;124m\"\u001B[39m\n\u001B[1;32m----> 5\u001B[0m analyzer \u001B[38;5;241m=\u001B[39m \u001B[43msenti_c\u001B[49m\u001B[38;5;241;43m.\u001B[39;49m\u001B[43maspect_sentiment_analysis\u001B[49m\u001B[43m(\u001B[49m\u001B[43mtext\u001B[49m\u001B[43m)\u001B[49m\n\u001B[0;32m      6\u001B[0m \u001B[38;5;28mprint\u001B[39m(analyzer)\n",
      "\u001B[1;31mTypeError\u001B[0m: 'module' object is not callable"
     ]
    }
   ],
   "source": [
    "import senti_c\n",
    "text = \"這部電影很棒\"\n",
    "analyzer = senti_c.aspect_sentiment_analysis(text)\n",
    "print(analyzer)"
   ],
   "metadata": {
    "collapsed": false,
    "ExecuteTime": {
     "end_time": "2023-09-16T00:38:55.960359400Z",
     "start_time": "2023-09-16T00:38:55.873935200Z"
    }
   },
   "id": "edcda2cba0869af7"
  },
  {
   "cell_type": "code",
   "execution_count": 13,
   "outputs": [
    {
     "ename": "AttributeError",
     "evalue": "module 'senti_c' has no attribute 'AspectTerm'",
     "output_type": "error",
     "traceback": [
      "\u001B[1;31m---------------------------------------------------------------------------\u001B[0m",
      "\u001B[1;31mAttributeError\u001B[0m                            Traceback (most recent call last)",
      "Cell \u001B[1;32mIn[13], line 5\u001B[0m\n\u001B[0;32m      1\u001B[0m \u001B[38;5;28;01mimport\u001B[39;00m \u001B[38;5;21;01msenti_c\u001B[39;00m\n\u001B[0;32m      3\u001B[0m text \u001B[38;5;241m=\u001B[39m \u001B[38;5;124m\"\u001B[39m\u001B[38;5;124m這部電影很棒\u001B[39m\u001B[38;5;124m\"\u001B[39m\n\u001B[1;32m----> 5\u001B[0m aspect_term \u001B[38;5;241m=\u001B[39m \u001B[43msenti_c\u001B[49m\u001B[38;5;241;43m.\u001B[39;49m\u001B[43mAspectTerm\u001B[49m\u001B[38;5;241m.\u001B[39mfrom_text(text, \u001B[38;5;124m\"\u001B[39m\u001B[38;5;124m影片\u001B[39m\u001B[38;5;124m\"\u001B[39m)\n\u001B[0;32m      7\u001B[0m analyzer \u001B[38;5;241m=\u001B[39m senti_c\u001B[38;5;241m.\u001B[39maspect_sentiment_analysis(aspect_term)\n\u001B[0;32m      9\u001B[0m \u001B[38;5;28mprint\u001B[39m(analyzer)\n",
      "\u001B[1;31mAttributeError\u001B[0m: module 'senti_c' has no attribute 'AspectTerm'"
     ]
    }
   ],
   "source": [
    "import senti_c\n",
    "\n",
    "text = \"這部電影很棒\"\n",
    "\n",
    "aspect_term = senti_c.AspectTerm.from_text(text, \"影片\")\n",
    "\n",
    "analyzer = senti_c.aspect_sentiment_analysis(aspect_term)\n",
    "\n",
    "print(analyzer)"
   ],
   "metadata": {
    "collapsed": false,
    "ExecuteTime": {
     "end_time": "2023-09-16T00:50:35.037665300Z",
     "start_time": "2023-09-16T00:50:35.002187200Z"
    }
   },
   "id": "1072f455ed07693"
  },
  {
   "cell_type": "code",
   "execution_count": 5,
   "outputs": [
    {
     "ename": "AttributeError",
     "evalue": "'tuple' object has no attribute 'logits'",
     "output_type": "error",
     "traceback": [
      "\u001B[1;31m---------------------------------------------------------------------------\u001B[0m",
      "\u001B[1;31mAttributeError\u001B[0m                            Traceback (most recent call last)",
      "Cell \u001B[1;32mIn[5], line 19\u001B[0m\n\u001B[0;32m     17\u001B[0m \u001B[38;5;28;01mwith\u001B[39;00m torch\u001B[38;5;241m.\u001B[39mno_grad():\n\u001B[0;32m     18\u001B[0m     outputs \u001B[38;5;241m=\u001B[39m model(\u001B[38;5;241m*\u001B[39m\u001B[38;5;241m*\u001B[39minputs)\n\u001B[1;32m---> 19\u001B[0m     logits \u001B[38;5;241m=\u001B[39m \u001B[43moutputs\u001B[49m\u001B[38;5;241;43m.\u001B[39;49m\u001B[43mlogits\u001B[49m  \u001B[38;5;66;03m# 获取logits部分\u001B[39;00m\n\u001B[0;32m     21\u001B[0m \u001B[38;5;66;03m# 获取各个情感类别的概率值\u001B[39;00m\n\u001B[0;32m     22\u001B[0m probabilities \u001B[38;5;241m=\u001B[39m softmax(logits, dim\u001B[38;5;241m=\u001B[39m\u001B[38;5;241m1\u001B[39m)\n",
      "\u001B[1;31mAttributeError\u001B[0m: 'tuple' object has no attribute 'logits'"
     ]
    }
   ],
   "source": [
    "import torch\n",
    "from transformers import BertTokenizer, BertForSequenceClassification\n",
    "from torch.nn.functional import softmax\n",
    "\n",
    "# 加载预训练的中文BERT模型和tokenizer\n",
    "model_name = \"bert-base-chinese\"\n",
    "tokenizer = BertTokenizer.from_pretrained(model_name)\n",
    "model = BertForSequenceClassification.from_pretrained(model_name)\n",
    "\n",
    "# 定义要分析的文本\n",
    "text = \"这家餐厅的食物非常美味，服务也很好。\"\n",
    "\n",
    "# 使用tokenizer对文本进行编码\n",
    "inputs = tokenizer.encode_plus(text, return_tensors=\"pt\", padding=True, truncation=True, max_length=128)\n",
    "\n",
    "# 进行情感分析\n",
    "with torch.no_grad():\n",
    "    outputs = model(**inputs)\n",
    "    logits = outputs.logits  # 获取logits部分\n",
    "\n",
    "# 获取各个情感类别的概率值\n",
    "probabilities = softmax(logits, dim=1)\n",
    "labels = [\"负面\", \"中性\", \"正面\"]\n",
    "probabilities = probabilities[0].tolist()\n",
    "sentiment_scores = {label: prob for label, prob in zip(labels, probabilities)}\n",
    "\n",
    "# 输出情感分数\n",
    "print(sentiment_scores)\n"
   ],
   "metadata": {
    "collapsed": false,
    "ExecuteTime": {
     "end_time": "2023-09-16T00:33:03.022768900Z",
     "start_time": "2023-09-16T00:32:57.925765300Z"
    }
   },
   "id": "85ab41de6c388ec4"
  }
 ],
 "metadata": {
  "kernelspec": {
   "display_name": "Python 3",
   "language": "python",
   "name": "python3"
  },
  "language_info": {
   "codemirror_mode": {
    "name": "ipython",
    "version": 2
   },
   "file_extension": ".py",
   "mimetype": "text/x-python",
   "name": "python",
   "nbconvert_exporter": "python",
   "pygments_lexer": "ipython2",
   "version": "2.7.6"
  }
 },
 "nbformat": 4,
 "nbformat_minor": 5
}
