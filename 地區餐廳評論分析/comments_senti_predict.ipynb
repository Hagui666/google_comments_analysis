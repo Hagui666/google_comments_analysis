{
 "cells": [
  {
   "cell_type": "code",
   "execution_count": 1,
   "id": "initial_id",
   "metadata": {
    "collapsed": true,
    "ExecuteTime": {
     "end_time": "2023-09-21T13:02:35.634503100Z",
     "start_time": "2023-09-21T13:02:25.914165800Z"
    }
   },
   "outputs": [
    {
     "name": "stderr",
     "output_type": "stream",
     "text": [
      "c:\\users\\niuni\\onedrive\\桌面\\senti_c\\vm4senti\\lib\\site-packages\\tqdm\\auto.py:21: TqdmWarning: IProgress not found. Please update jupyter and ipywidgets. See https://ipywidgets.readthedocs.io/en/stable/user_install.html\n",
      "  from .autonotebook import tqdm as notebook_tqdm\n"
     ]
    }
   ],
   "source": [
    "from senti_c import SentenceSentimentClassification,AspectSentimentAnalysis\n",
    "import pandas as pd\n",
    "import os"
   ]
  },
  {
   "cell_type": "markdown",
   "source": [
    "## 問題\n",
    "    - 使用senti_c 的文本情感分類他會自動將文本中依照\"。\"自動分段，並根據段落輸出不同分類\n",
    "        - ex : (原文)份量很大，加麵或飯都可以兩人分著吃。喜歡炸物的粉漿，不厚重。服務人員態度也好，很適合聚餐\"\n",
    "            - result :  份量很大，加麵或飯都可以兩人分著吃。 -> 正面\n",
    "                        喜歡炸物的粉漿，不厚重。 -> 正面\n",
    "                        服務人員態度也好，很適合聚餐 -> 正面\n",
    "        - ex : (原文)帶家人一起來吃，看環境還不錯。但真的夠難吃，義大利面沒什麼味道，另外一道豬肉根本咬不斷 我媽直接放棄吐出來⋯唯一可以吃的還是薯條 夠雷\n",
    "            - result :  帶家人一起來吃，看環境還不錯。 -> 正面\n",
    "                        但真的夠難吃，義大利面沒什麼味道，另外一道豬肉根本咬不斷 我媽直接放棄吐出來⋯唯一可以吃的還是薯條 夠雷 -> 負面"
   ],
   "metadata": {
    "collapsed": false
   },
   "id": "f84317772daef36a"
  },
  {
   "cell_type": "code",
   "execution_count": null,
   "outputs": [],
   "source": [
    "restaurant_comments_folder = r\"\\專案實作\\地區餐廳評論分析\\google_restaurant_comments_txt\\restaurant_comments_processed\"\n",
    "\n",
    "def senti_analysis(data,col):\n",
    "    comments = data[col].to_list()\n",
    "    sentence_classifier = SentenceSentimentClassification(logging_level=\"detail\")\n",
    "    result = sentence_classifier.predict(comments,run_split=True,aggregate_strategy=False)\n",
    "\n",
    "    return result\n",
    "\n",
    "for root, dirs, files in os.walk(restaurant_comments_folder):\n",
    "    for dir in dirs:\n",
    "        print(\"要處理的餐廳類別\",dir)\n",
    "    for file_name in files:\n",
    "        print(\"正在處理的excel檔案:\",os.path.join(root,file_name))\n",
    "    \n",
    "        if file_name.endswith(\".xlsx\"):\n",
    "            excel_file_path = os.path.join(root,file_name)\n",
    "            file_name = os.path.basename(excel_file_path)\n",
    "            \n",
    "            df_comments = pd.read_excel(excel_file_path)\n",
    "            df_comments['評論留言原內容處理'] = df_comments['評論留言原內容處理'].str.replace(\"。\",\" \").str.replace(\"!\",\" \").str.replace(\"！\",\" \").str.replace(\"～\",\" \").str.replace(\"~\",\" \").str.replace(\"?\",\" \").str.replace(\"？\",\" \")\n",
    "            df_comments = df_comments.dropna()\n",
    "            comment_senti_result = senti_analysis(df_comments,\"評論留言原內容處理\")\n",
    "            comment_senti_result.rename(columns={'Inputs':'評論留言原內容處理'},inplace=True)\n",
    "            comment_senti_result = pd.concat([df_comments,comment_senti_result['Preds']],axis=1).rename(columns={'Preds':'情感分析結果'})\n",
    "            \n",
    "            comment_senti_result_file_name = os.path.splitext(file_name)[0]+ '_result.xlsx'\n",
    "            comment_senti_result_file_path = os.path.join(root,comment_senti_result_file_name)\n",
    "            comment_senti_result.to_excel(comment_senti_result_file_path,index=False)\n"
   ],
   "metadata": {
    "collapsed": false
   },
   "id": "8fca57c5ab05e3f6"
  }
 ],
 "metadata": {
  "kernelspec": {
   "display_name": "Python 3",
   "language": "python",
   "name": "python3"
  },
  "language_info": {
   "codemirror_mode": {
    "name": "ipython",
    "version": 2
   },
   "file_extension": ".py",
   "mimetype": "text/x-python",
   "name": "python",
   "nbconvert_exporter": "python",
   "pygments_lexer": "ipython2",
   "version": "2.7.6"
  }
 },
 "nbformat": 4,
 "nbformat_minor": 5
}
