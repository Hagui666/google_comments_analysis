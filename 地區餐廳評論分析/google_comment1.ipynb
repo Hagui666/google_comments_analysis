{
 "cells": [
  {
   "cell_type": "code",
   "execution_count": 1,
   "id": "initial_id",
   "metadata": {
    "collapsed": true,
    "ExecuteTime": {
     "end_time": "2023-08-29T12:16:07.830937700Z",
     "start_time": "2023-08-29T12:14:59.706394400Z"
    }
   },
   "outputs": [],
   "source": [
    "from selenium import webdriver\n",
    "from selenium.webdriver.common.by import By\n",
    "import time\n",
    "import pyautogui\n",
    "import pandas as pd\n",
    "\n",
    "driver = webdriver.Chrome()\n",
    "\n",
    "driver.get(\"https://www.google.com/maps/search/信義區+餐廳\")\n",
    "\n",
    "scroll_times = 50\n",
    "for _ in range(scroll_times):\n",
    "    pyautogui.press('pagedown')\n",
    "    time.sleep(1)\n",
    "\n",
    "\"\"\"\n",
    "//*[@id=\"QA0Szd\"]/div/div/div[1]/div[2]/div/div[1]/div/div/div[2]/div[1]/div[3]/div/a\n",
    "//*[@id=\"QA0Szd\"]/div/div/div[1]/div[2]/div/div[1]/div/div/div[2]/div[1]/div[5]/div/a\n",
    "//*[@id=\"QA0Szd\"]/div/div/div[1]/div[2]/div/div[1]/div/div/div[2]/div[1]/div[7]/div/a\n",
    "\n",
    "如果藉由XPATH定位點擊，需要取得每個店家的XPATH來循環操作\n",
    "\"\"\"\n",
    "\n",
    "# #用CSS selector\n",
    "# store = driver.find_element(By.CSS_SELECTOR,\"#QA0Szd > div > div > div.w6VYqd > div.bJzME.tTVLSc > div > div.e07Vkf.kA9KIf > div > div > div.m6QErb.DxyBCb.kA9KIf.dS8AEf.ecceSd > div.m6QErb.DxyBCb.kA9KIf.dS8AEf.ecceSd > div:nth-child(3) > div > a\") \n",
    "# store.click()\n",
    "# \n",
    "# #用XPATH\n",
    "# store = driver.find_element(By.XPATH,\"//*[@id=\\\"QA0Szd\\\"]/div/div/div[1]/div[2]/div/div[1]/div/div/div[2]/div[1]/div[3]/div/a\") \n",
    "# store.click()\n",
    "# \n",
    "# #用tag name 找餐廳資訊\n",
    "# store = driver.find_element(By.TAG_NAME,'a') \n",
    "# store.click()\n",
    "\n",
    "# 藉由專屬類名取得店家資料\n",
    "store = driver.find_elements(By.CLASS_NAME,'hfpxzc')\n",
    "# store.click()\n",
    "\n",
    "\n",
    "\n",
    "# 店家店名爬取打包進list \n",
    "store_name_list = []\n",
    "for ele in store:\n",
    "    name = ele.get_attribute('aria-label')\n",
    "    store_name_list.append(name)\n",
    "\n",
    "# 店家詳細資訊連結打包進list\n",
    "store_href_list = []\n",
    "for href in store:\n",
    "    link = href.get_attribute('href')\n",
    "    store_href_list.append(link)\n",
    "    \n",
    "\n",
    "# 點擊店家資訊後再點擊返回鍵返回至搜索首頁\n",
    "# back = driver.find_element(By.CSS_SELECTOR,'#omnibox-singlebox > div > div.fKm1Mb > button > span')\n",
    "# back.click()\n"
   ]
  },
  {
   "cell_type": "code",
   "execution_count": 2,
   "outputs": [
    {
     "name": "stdout",
     "output_type": "stream",
     "text": [
      "120\n",
      "120\n"
     ]
    }
   ],
   "source": [
    "# 檢查爬取下的店家資料是否對應\n",
    "print(len(store_name_list))\n",
    "print(len(store_href_list))"
   ],
   "metadata": {
    "collapsed": false,
    "ExecuteTime": {
     "end_time": "2023-08-29T12:16:07.856566700Z",
     "start_time": "2023-08-29T12:16:07.829940Z"
    }
   },
   "id": "c20ed8fdd2ce1170"
  },
  {
   "cell_type": "code",
   "execution_count": 3,
   "outputs": [
    {
     "data": {
      "text/plain": "                                   RESTAURANT  \\\n0                           合.shabu ∣ 信義區頂級鍋物   \n1                                Miacucina信義店   \n2    JK STUDIO Modern Asia (原JK STUDIO 新義法料理)   \n3                                         非常泰   \n4                                  JOYCE EAST   \n..                                        ...   \n115                            銀座杏子日式豬排-信義威秀店   \n116                           M One Cafe A11館   \n117                               十二籃 粥火鍋 逸仙店   \n118                          We&Me Cafe好好文化創意   \n119                          恆之茶居 HANG'S CAFE   \n\n                                                  LINK  \n0    https://www.google.com/maps/place/%E5%90%88.sh...  \n1    https://www.google.com/maps/place/Miacucina%E4...  \n2    https://www.google.com/maps/place/JK+STUDIO+Mo...  \n3    https://www.google.com/maps/place/%E9%9D%9E%E5...  \n4    https://www.google.com/maps/place/JOYCE+EAST/d...  \n..                                                 ...  \n115  https://www.google.com/maps/place/%E9%8A%80%E5...  \n116  https://www.google.com/maps/place/M+One+Cafe+A...  \n117  https://www.google.com/maps/place/%E5%8D%81%E4...  \n118  https://www.google.com/maps/place/We%26Me+Cafe...  \n119  https://www.google.com/maps/place/%E6%81%86%E4...  \n\n[120 rows x 2 columns]",
      "text/html": "<div>\n<style scoped>\n    .dataframe tbody tr th:only-of-type {\n        vertical-align: middle;\n    }\n\n    .dataframe tbody tr th {\n        vertical-align: top;\n    }\n\n    .dataframe thead th {\n        text-align: right;\n    }\n</style>\n<table border=\"1\" class=\"dataframe\">\n  <thead>\n    <tr style=\"text-align: right;\">\n      <th></th>\n      <th>RESTAURANT</th>\n      <th>LINK</th>\n    </tr>\n  </thead>\n  <tbody>\n    <tr>\n      <th>0</th>\n      <td>合.shabu ∣ 信義區頂級鍋物</td>\n      <td>https://www.google.com/maps/place/%E5%90%88.sh...</td>\n    </tr>\n    <tr>\n      <th>1</th>\n      <td>Miacucina信義店</td>\n      <td>https://www.google.com/maps/place/Miacucina%E4...</td>\n    </tr>\n    <tr>\n      <th>2</th>\n      <td>JK STUDIO Modern Asia (原JK STUDIO 新義法料理)</td>\n      <td>https://www.google.com/maps/place/JK+STUDIO+Mo...</td>\n    </tr>\n    <tr>\n      <th>3</th>\n      <td>非常泰</td>\n      <td>https://www.google.com/maps/place/%E9%9D%9E%E5...</td>\n    </tr>\n    <tr>\n      <th>4</th>\n      <td>JOYCE EAST</td>\n      <td>https://www.google.com/maps/place/JOYCE+EAST/d...</td>\n    </tr>\n    <tr>\n      <th>...</th>\n      <td>...</td>\n      <td>...</td>\n    </tr>\n    <tr>\n      <th>115</th>\n      <td>銀座杏子日式豬排-信義威秀店</td>\n      <td>https://www.google.com/maps/place/%E9%8A%80%E5...</td>\n    </tr>\n    <tr>\n      <th>116</th>\n      <td>M One Cafe A11館</td>\n      <td>https://www.google.com/maps/place/M+One+Cafe+A...</td>\n    </tr>\n    <tr>\n      <th>117</th>\n      <td>十二籃 粥火鍋 逸仙店</td>\n      <td>https://www.google.com/maps/place/%E5%8D%81%E4...</td>\n    </tr>\n    <tr>\n      <th>118</th>\n      <td>We&amp;Me Cafe好好文化創意</td>\n      <td>https://www.google.com/maps/place/We%26Me+Cafe...</td>\n    </tr>\n    <tr>\n      <th>119</th>\n      <td>恆之茶居 HANG'S CAFE</td>\n      <td>https://www.google.com/maps/place/%E6%81%86%E4...</td>\n    </tr>\n  </tbody>\n</table>\n<p>120 rows × 2 columns</p>\n</div>"
     },
     "execution_count": 3,
     "metadata": {},
     "output_type": "execute_result"
    }
   ],
   "source": [
    "# 先建好dataframe，將爬到店家名稱和資訊連結先存入\n",
    "store_data = {'RESTAURANT':store_name_list,'LINK':store_href_list}\n",
    "\n",
    "df_store_info = pd.DataFrame(store_data)\n",
    "df_store_info"
   ],
   "metadata": {
    "collapsed": false,
    "ExecuteTime": {
     "end_time": "2023-08-29T12:16:07.930376500Z",
     "start_time": "2023-08-29T12:16:07.838020300Z"
    }
   },
   "id": "fe331c2f0892d9e1"
  },
  {
   "cell_type": "code",
   "execution_count": 4,
   "outputs": [],
   "source": [
    "# 店家初步資訊導出為csv\n",
    "df_store_info.to_excel(r\"\\專案實作\\地區餐廳評論分析\\店家資訊連結.xlsx\",index=False)"
   ],
   "metadata": {
    "collapsed": false,
    "ExecuteTime": {
     "end_time": "2023-08-29T12:16:08.513073800Z",
     "start_time": "2023-08-29T12:16:07.858563900Z"
    }
   },
   "id": "2fe16077cb433387"
  },
  {
   "cell_type": "markdown",
   "source": [
    "## 構想\n",
    "\n",
    "### 作法一 \n",
    "先取得所有網頁上店家所屬XPATH\n",
    "用XPATH點擊進入 依序取得評論、星級等等所需資訊返回至搜尋結果，然後循環操作直到所有資料打包輸出為csv\n",
    "可能相對費時麻煩，實作邏輯性較複雜\n",
    "\n",
    "### 作法二\n",
    "藉由class name以及屬性取得店家名稱以及店家資訊連結 ps 搜索首頁中鎖定單一店家的網頁代碼中資訊能直接取得僅有名稱及一個連結\n",
    "需要再藉由連結進入才能取得該店家更多資訊 包括評論、星級等等\n",
    "所以先取得店家名稱以及連結放進一個data frame中\n",
    "之後再設計開啟該dataframe中店家連結進入網頁然後爬取所有需要資料，循環操作直到爬完\n",
    "\n"
   ],
   "metadata": {
    "collapsed": false
   },
   "id": "9aba9e445c62e2f6"
  }
 ],
 "metadata": {
  "kernelspec": {
   "display_name": "Python 3",
   "language": "python",
   "name": "python3"
  },
  "language_info": {
   "codemirror_mode": {
    "name": "ipython",
    "version": 2
   },
   "file_extension": ".py",
   "mimetype": "text/x-python",
   "name": "python",
   "nbconvert_exporter": "python",
   "pygments_lexer": "ipython2",
   "version": "2.7.6"
  }
 },
 "nbformat": 4,
 "nbformat_minor": 5
}
