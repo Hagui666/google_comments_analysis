{
 "cells": [
  {
   "cell_type": "code",
   "execution_count": 1,
   "id": "initial_id",
   "metadata": {
    "collapsed": true,
    "ExecuteTime": {
     "end_time": "2023-08-29T12:16:35.661781500Z",
     "start_time": "2023-08-29T12:16:34.682422600Z"
    }
   },
   "outputs": [],
   "source": [
    "import pandas as pd \n",
    "from selenium import webdriver\n",
    "from selenium.webdriver.common.keys import Keys\n",
    "from selenium.webdriver.common.by import By\n",
    "from bs4 import BeautifulSoup\n",
    "from selenium.webdriver.chrome.options import Options\n",
    "from selenium.webdriver.support import expected_conditions as EC\n",
    "from selenium.webdriver.support.wait import WebDriverWait\n",
    "from selenium.common.exceptions import NoSuchElementException, NoSuchWindowException, TimeoutException"
   ]
  },
  {
   "cell_type": "code",
   "execution_count": 2,
   "outputs": [
    {
     "data": {
      "text/plain": "                                   RESTAURANT  \\\n0                           合.shabu ∣ 信義區頂級鍋物   \n1                                Miacucina信義店   \n2    JK STUDIO Modern Asia (原JK STUDIO 新義法料理)   \n3                                         非常泰   \n4                                  JOYCE EAST   \n..                                        ...   \n115                            銀座杏子日式豬排-信義威秀店   \n116                           M One Cafe A11館   \n117                               十二籃 粥火鍋 逸仙店   \n118                          We&Me Cafe好好文化創意   \n119                          恆之茶居 HANG'S CAFE   \n\n                                                  LINK  \n0    https://www.google.com/maps/place/%E5%90%88.sh...  \n1    https://www.google.com/maps/place/Miacucina%E4...  \n2    https://www.google.com/maps/place/JK+STUDIO+Mo...  \n3    https://www.google.com/maps/place/%E9%9D%9E%E5...  \n4    https://www.google.com/maps/place/JOYCE+EAST/d...  \n..                                                 ...  \n115  https://www.google.com/maps/place/%E9%8A%80%E5...  \n116  https://www.google.com/maps/place/M+One+Cafe+A...  \n117  https://www.google.com/maps/place/%E5%8D%81%E4...  \n118  https://www.google.com/maps/place/We%26Me+Cafe...  \n119  https://www.google.com/maps/place/%E6%81%86%E4...  \n\n[120 rows x 2 columns]",
      "text/html": "<div>\n<style scoped>\n    .dataframe tbody tr th:only-of-type {\n        vertical-align: middle;\n    }\n\n    .dataframe tbody tr th {\n        vertical-align: top;\n    }\n\n    .dataframe thead th {\n        text-align: right;\n    }\n</style>\n<table border=\"1\" class=\"dataframe\">\n  <thead>\n    <tr style=\"text-align: right;\">\n      <th></th>\n      <th>RESTAURANT</th>\n      <th>LINK</th>\n    </tr>\n  </thead>\n  <tbody>\n    <tr>\n      <th>0</th>\n      <td>合.shabu ∣ 信義區頂級鍋物</td>\n      <td>https://www.google.com/maps/place/%E5%90%88.sh...</td>\n    </tr>\n    <tr>\n      <th>1</th>\n      <td>Miacucina信義店</td>\n      <td>https://www.google.com/maps/place/Miacucina%E4...</td>\n    </tr>\n    <tr>\n      <th>2</th>\n      <td>JK STUDIO Modern Asia (原JK STUDIO 新義法料理)</td>\n      <td>https://www.google.com/maps/place/JK+STUDIO+Mo...</td>\n    </tr>\n    <tr>\n      <th>3</th>\n      <td>非常泰</td>\n      <td>https://www.google.com/maps/place/%E9%9D%9E%E5...</td>\n    </tr>\n    <tr>\n      <th>4</th>\n      <td>JOYCE EAST</td>\n      <td>https://www.google.com/maps/place/JOYCE+EAST/d...</td>\n    </tr>\n    <tr>\n      <th>...</th>\n      <td>...</td>\n      <td>...</td>\n    </tr>\n    <tr>\n      <th>115</th>\n      <td>銀座杏子日式豬排-信義威秀店</td>\n      <td>https://www.google.com/maps/place/%E9%8A%80%E5...</td>\n    </tr>\n    <tr>\n      <th>116</th>\n      <td>M One Cafe A11館</td>\n      <td>https://www.google.com/maps/place/M+One+Cafe+A...</td>\n    </tr>\n    <tr>\n      <th>117</th>\n      <td>十二籃 粥火鍋 逸仙店</td>\n      <td>https://www.google.com/maps/place/%E5%8D%81%E4...</td>\n    </tr>\n    <tr>\n      <th>118</th>\n      <td>We&amp;Me Cafe好好文化創意</td>\n      <td>https://www.google.com/maps/place/We%26Me+Cafe...</td>\n    </tr>\n    <tr>\n      <th>119</th>\n      <td>恆之茶居 HANG'S CAFE</td>\n      <td>https://www.google.com/maps/place/%E6%81%86%E4...</td>\n    </tr>\n  </tbody>\n</table>\n<p>120 rows × 2 columns</p>\n</div>"
     },
     "execution_count": 2,
     "metadata": {},
     "output_type": "execute_result"
    }
   ],
   "source": [
    "Restaurant_Info = pd.read_excel(r\"店家資訊連結.xlsx\")\n",
    "Restaurant_Info"
   ],
   "metadata": {
    "collapsed": false,
    "ExecuteTime": {
     "end_time": "2023-08-29T12:16:37.682321700Z",
     "start_time": "2023-08-29T12:16:37.334324800Z"
    }
   },
   "id": "e0ed365a1a8eb49c"
  },
  {
   "cell_type": "code",
   "execution_count": 3,
   "outputs": [],
   "source": [
    "driver = webdriver.Chrome()\n",
    "\n",
    "\"\"\"\n",
    "爬取目標\n",
    "餐點類型\n",
    "星級\n",
    "評論數\n",
    "評論內容\n",
    "地址\n",
    "\"\"\"\n",
    "\n",
    "Restaurant_Info['STAR_RATING'] = ''\n",
    "Restaurant_Info['COMMENTS_COUNT'] = ''\n",
    "\n",
    "for index, row in Restaurant_Info.iterrows():\n",
    "    link = row['LINK']\n",
    "    driver.get(link)\n",
    "    \n",
    "    driver.implicitly_wait(5)\n",
    "\n",
    "\n",
    "    stars = driver.find_elements(By.CLASS_NAME,\"ceNzKf\")\n",
    "    star_rating = []\n",
    "    for ele in stars:\n",
    "        star = ele.get_attribute('aria-label')\n",
    "        star_rating.append(star)\n",
    "    star_rating = ','.join(star_rating)\n",
    "    Restaurant_Info.at[index,'STAR_RATING'] = star_rating\n",
    "    \n",
    "    comments = driver.find_elements(By.XPATH,\"//*[@id=\\\"QA0Szd\\\"]/div/div/div[1]/div[2]/div/div[1]/div/div/div[2]/div/div[1]/div[2]/div/div[1]/div[2]/span[2]/span/span\")\n",
    "    comments_count = []\n",
    "    for ele2 in comments:\n",
    "        comment_count = ele2.get_attribute('aria-label')\n",
    "        comments_count.append(comment_count)\n",
    "    comments_count = ','.join(comments_count)\n",
    "    Restaurant_Info.at[index,'COMMENTS_COUNT'] = comments_count"
   ],
   "metadata": {
    "collapsed": false,
    "ExecuteTime": {
     "end_time": "2023-08-29T12:22:58.149812800Z",
     "start_time": "2023-08-29T12:16:50.923139100Z"
    }
   },
   "id": "c374f5dfdcf2d2ca"
  },
  {
   "cell_type": "code",
   "execution_count": 4,
   "outputs": [
    {
     "data": {
      "text/plain": "                                   RESTAURANT  \\\n0                           合.shabu ∣ 信義區頂級鍋物   \n1                                Miacucina信義店   \n2    JK STUDIO Modern Asia (原JK STUDIO 新義法料理)   \n3                                         非常泰   \n4                                  JOYCE EAST   \n..                                        ...   \n115                            銀座杏子日式豬排-信義威秀店   \n116                           M One Cafe A11館   \n117                               十二籃 粥火鍋 逸仙店   \n118                          We&Me Cafe好好文化創意   \n119                          恆之茶居 HANG'S CAFE   \n\n                                                  LINK STAR_RATING  \\\n0    https://www.google.com/maps/place/%E5%90%88.sh...     4.6 星級    \n1    https://www.google.com/maps/place/Miacucina%E4...     3.9 星級    \n2    https://www.google.com/maps/place/JK+STUDIO+Mo...     4.7 星級    \n3    https://www.google.com/maps/place/%E9%9D%9E%E5...     4.2 星級    \n4    https://www.google.com/maps/place/JOYCE+EAST/d...     4.3 星級    \n..                                                 ...         ...   \n115  https://www.google.com/maps/place/%E9%8A%80%E5...     3.9 星級    \n116  https://www.google.com/maps/place/M+One+Cafe+A...     4.4 星級    \n117  https://www.google.com/maps/place/%E5%8D%81%E4...     4.3 星級    \n118  https://www.google.com/maps/place/We%26Me+Cafe...     4.2 星級    \n119  https://www.google.com/maps/place/%E6%81%86%E4...     3.3 星級    \n\n    COMMENTS_COUNT  \n0        3,396 則評論  \n1        2,599 則評論  \n2        1,751 則評論  \n3          691 則評論  \n4          580 則評論  \n..             ...  \n115        812 則評論  \n116      1,102 則評論  \n117      1,222 則評論  \n118        657 則評論  \n119        710 則評論  \n\n[120 rows x 4 columns]",
      "text/html": "<div>\n<style scoped>\n    .dataframe tbody tr th:only-of-type {\n        vertical-align: middle;\n    }\n\n    .dataframe tbody tr th {\n        vertical-align: top;\n    }\n\n    .dataframe thead th {\n        text-align: right;\n    }\n</style>\n<table border=\"1\" class=\"dataframe\">\n  <thead>\n    <tr style=\"text-align: right;\">\n      <th></th>\n      <th>RESTAURANT</th>\n      <th>LINK</th>\n      <th>STAR_RATING</th>\n      <th>COMMENTS_COUNT</th>\n    </tr>\n  </thead>\n  <tbody>\n    <tr>\n      <th>0</th>\n      <td>合.shabu ∣ 信義區頂級鍋物</td>\n      <td>https://www.google.com/maps/place/%E5%90%88.sh...</td>\n      <td>4.6 星級</td>\n      <td>3,396 則評論</td>\n    </tr>\n    <tr>\n      <th>1</th>\n      <td>Miacucina信義店</td>\n      <td>https://www.google.com/maps/place/Miacucina%E4...</td>\n      <td>3.9 星級</td>\n      <td>2,599 則評論</td>\n    </tr>\n    <tr>\n      <th>2</th>\n      <td>JK STUDIO Modern Asia (原JK STUDIO 新義法料理)</td>\n      <td>https://www.google.com/maps/place/JK+STUDIO+Mo...</td>\n      <td>4.7 星級</td>\n      <td>1,751 則評論</td>\n    </tr>\n    <tr>\n      <th>3</th>\n      <td>非常泰</td>\n      <td>https://www.google.com/maps/place/%E9%9D%9E%E5...</td>\n      <td>4.2 星級</td>\n      <td>691 則評論</td>\n    </tr>\n    <tr>\n      <th>4</th>\n      <td>JOYCE EAST</td>\n      <td>https://www.google.com/maps/place/JOYCE+EAST/d...</td>\n      <td>4.3 星級</td>\n      <td>580 則評論</td>\n    </tr>\n    <tr>\n      <th>...</th>\n      <td>...</td>\n      <td>...</td>\n      <td>...</td>\n      <td>...</td>\n    </tr>\n    <tr>\n      <th>115</th>\n      <td>銀座杏子日式豬排-信義威秀店</td>\n      <td>https://www.google.com/maps/place/%E9%8A%80%E5...</td>\n      <td>3.9 星級</td>\n      <td>812 則評論</td>\n    </tr>\n    <tr>\n      <th>116</th>\n      <td>M One Cafe A11館</td>\n      <td>https://www.google.com/maps/place/M+One+Cafe+A...</td>\n      <td>4.4 星級</td>\n      <td>1,102 則評論</td>\n    </tr>\n    <tr>\n      <th>117</th>\n      <td>十二籃 粥火鍋 逸仙店</td>\n      <td>https://www.google.com/maps/place/%E5%8D%81%E4...</td>\n      <td>4.3 星級</td>\n      <td>1,222 則評論</td>\n    </tr>\n    <tr>\n      <th>118</th>\n      <td>We&amp;Me Cafe好好文化創意</td>\n      <td>https://www.google.com/maps/place/We%26Me+Cafe...</td>\n      <td>4.2 星級</td>\n      <td>657 則評論</td>\n    </tr>\n    <tr>\n      <th>119</th>\n      <td>恆之茶居 HANG'S CAFE</td>\n      <td>https://www.google.com/maps/place/%E6%81%86%E4...</td>\n      <td>3.3 星級</td>\n      <td>710 則評論</td>\n    </tr>\n  </tbody>\n</table>\n<p>120 rows × 4 columns</p>\n</div>"
     },
     "execution_count": 4,
     "metadata": {},
     "output_type": "execute_result"
    }
   ],
   "source": [
    "Restaurant_Info"
   ],
   "metadata": {
    "collapsed": false,
    "ExecuteTime": {
     "end_time": "2023-08-29T12:27:11.694339700Z",
     "start_time": "2023-08-29T12:27:11.653305700Z"
    }
   },
   "id": "4387980d9901591b"
  },
  {
   "cell_type": "code",
   "execution_count": 5,
   "outputs": [
    {
     "data": {
      "text/plain": "RESTAURANT        0\nLINK              0\nSTAR_RATING       0\nCOMMENTS_COUNT    0\ndtype: int64"
     },
     "execution_count": 5,
     "metadata": {},
     "output_type": "execute_result"
    }
   ],
   "source": [
    "Restaurant_Info.isna().sum()"
   ],
   "metadata": {
    "collapsed": false,
    "ExecuteTime": {
     "end_time": "2023-08-29T12:27:22.660759300Z",
     "start_time": "2023-08-29T12:27:22.632654100Z"
    }
   },
   "id": "39f93cb252b852d8"
  },
  {
   "cell_type": "code",
   "execution_count": 6,
   "outputs": [
    {
     "data": {
      "text/plain": "                                   RESTAURANT  \\\n0                           合.shabu ∣ 信義區頂級鍋物   \n1                                Miacucina信義店   \n2    JK STUDIO Modern Asia (原JK STUDIO 新義法料理)   \n3                                         非常泰   \n4                                  JOYCE EAST   \n..                                        ...   \n115                            銀座杏子日式豬排-信義威秀店   \n116                           M One Cafe A11館   \n117                               十二籃 粥火鍋 逸仙店   \n118                          We&Me Cafe好好文化創意   \n119                          恆之茶居 HANG'S CAFE   \n\n                                                  LINK STAR_RATING  \\\n0    https://www.google.com/maps/place/%E5%90%88.sh...     4.6 星級    \n1    https://www.google.com/maps/place/Miacucina%E4...     3.9 星級    \n2    https://www.google.com/maps/place/JK+STUDIO+Mo...     4.7 星級    \n3    https://www.google.com/maps/place/%E9%9D%9E%E5...     4.2 星級    \n4    https://www.google.com/maps/place/JOYCE+EAST/d...     4.3 星級    \n..                                                 ...         ...   \n115  https://www.google.com/maps/place/%E9%8A%80%E5...     3.9 星級    \n116  https://www.google.com/maps/place/M+One+Cafe+A...     4.4 星級    \n117  https://www.google.com/maps/place/%E5%8D%81%E4...     4.3 星級    \n118  https://www.google.com/maps/place/We%26Me+Cafe...     4.2 星級    \n119  https://www.google.com/maps/place/%E6%81%86%E4...     3.3 星級    \n\n    COMMENTS_COUNT MEAL_TYPE  \n0        3,396 則評論     涮涮鍋餐廳  \n1        2,599 則評論      素食餐廳  \n2        1,751 則評論        餐廳  \n3          691 則評論      泰國餐廳  \n4          580 則評論      歐洲餐廳  \n..             ...       ...  \n115        812 則評論   日式炸豬扒餐廳  \n116      1,102 則評論        餐廳  \n117      1,222 則評論      火鍋餐廳  \n118        657 則評論       咖啡店  \n119        710 則評論        餐廳  \n\n[120 rows x 5 columns]",
      "text/html": "<div>\n<style scoped>\n    .dataframe tbody tr th:only-of-type {\n        vertical-align: middle;\n    }\n\n    .dataframe tbody tr th {\n        vertical-align: top;\n    }\n\n    .dataframe thead th {\n        text-align: right;\n    }\n</style>\n<table border=\"1\" class=\"dataframe\">\n  <thead>\n    <tr style=\"text-align: right;\">\n      <th></th>\n      <th>RESTAURANT</th>\n      <th>LINK</th>\n      <th>STAR_RATING</th>\n      <th>COMMENTS_COUNT</th>\n      <th>MEAL_TYPE</th>\n    </tr>\n  </thead>\n  <tbody>\n    <tr>\n      <th>0</th>\n      <td>合.shabu ∣ 信義區頂級鍋物</td>\n      <td>https://www.google.com/maps/place/%E5%90%88.sh...</td>\n      <td>4.6 星級</td>\n      <td>3,396 則評論</td>\n      <td>涮涮鍋餐廳</td>\n    </tr>\n    <tr>\n      <th>1</th>\n      <td>Miacucina信義店</td>\n      <td>https://www.google.com/maps/place/Miacucina%E4...</td>\n      <td>3.9 星級</td>\n      <td>2,599 則評論</td>\n      <td>素食餐廳</td>\n    </tr>\n    <tr>\n      <th>2</th>\n      <td>JK STUDIO Modern Asia (原JK STUDIO 新義法料理)</td>\n      <td>https://www.google.com/maps/place/JK+STUDIO+Mo...</td>\n      <td>4.7 星級</td>\n      <td>1,751 則評論</td>\n      <td>餐廳</td>\n    </tr>\n    <tr>\n      <th>3</th>\n      <td>非常泰</td>\n      <td>https://www.google.com/maps/place/%E9%9D%9E%E5...</td>\n      <td>4.2 星級</td>\n      <td>691 則評論</td>\n      <td>泰國餐廳</td>\n    </tr>\n    <tr>\n      <th>4</th>\n      <td>JOYCE EAST</td>\n      <td>https://www.google.com/maps/place/JOYCE+EAST/d...</td>\n      <td>4.3 星級</td>\n      <td>580 則評論</td>\n      <td>歐洲餐廳</td>\n    </tr>\n    <tr>\n      <th>...</th>\n      <td>...</td>\n      <td>...</td>\n      <td>...</td>\n      <td>...</td>\n      <td>...</td>\n    </tr>\n    <tr>\n      <th>115</th>\n      <td>銀座杏子日式豬排-信義威秀店</td>\n      <td>https://www.google.com/maps/place/%E9%8A%80%E5...</td>\n      <td>3.9 星級</td>\n      <td>812 則評論</td>\n      <td>日式炸豬扒餐廳</td>\n    </tr>\n    <tr>\n      <th>116</th>\n      <td>M One Cafe A11館</td>\n      <td>https://www.google.com/maps/place/M+One+Cafe+A...</td>\n      <td>4.4 星級</td>\n      <td>1,102 則評論</td>\n      <td>餐廳</td>\n    </tr>\n    <tr>\n      <th>117</th>\n      <td>十二籃 粥火鍋 逸仙店</td>\n      <td>https://www.google.com/maps/place/%E5%8D%81%E4...</td>\n      <td>4.3 星級</td>\n      <td>1,222 則評論</td>\n      <td>火鍋餐廳</td>\n    </tr>\n    <tr>\n      <th>118</th>\n      <td>We&amp;Me Cafe好好文化創意</td>\n      <td>https://www.google.com/maps/place/We%26Me+Cafe...</td>\n      <td>4.2 星級</td>\n      <td>657 則評論</td>\n      <td>咖啡店</td>\n    </tr>\n    <tr>\n      <th>119</th>\n      <td>恆之茶居 HANG'S CAFE</td>\n      <td>https://www.google.com/maps/place/%E6%81%86%E4...</td>\n      <td>3.3 星級</td>\n      <td>710 則評論</td>\n      <td>餐廳</td>\n    </tr>\n  </tbody>\n</table>\n<p>120 rows × 5 columns</p>\n</div>"
     },
     "execution_count": 6,
     "metadata": {},
     "output_type": "execute_result"
    }
   ],
   "source": [
    "Restaurant_Info['MEAL_TYPE'] = ''\n",
    "\n",
    "chrome_option = Options()\n",
    "chrome_option.add_argument(\"--disable-cache\")\n",
    "driver = webdriver.Chrome(options=chrome_option)\n",
    "wait = WebDriverWait(driver,10)\n",
    "\n",
    "for index, row in Restaurant_Info.iterrows():\n",
    "    link = row['LINK']\n",
    "    driver.get(link)\n",
    "    \n",
    "    try:\n",
    "        meal = wait.until(EC.presence_of_element_located((By.CLASS_NAME,\"DkEaL\")))\n",
    "        meal_type = meal.text\n",
    "        Restaurant_Info.at[index,'MEAL_TYPE'] = meal_type\n",
    "        \n",
    "    except Exception as e:\n",
    "        print(f\"網址連結:{link}，出現錯誤:{str(e)}\")\n",
    "\n",
    "Restaurant_Info"
   ],
   "metadata": {
    "collapsed": false,
    "ExecuteTime": {
     "end_time": "2023-08-29T12:32:59.211750900Z",
     "start_time": "2023-08-29T12:27:25.080340600Z"
    }
   },
   "id": "5eb0efa9b224339f"
  },
  {
   "cell_type": "code",
   "execution_count": 7,
   "outputs": [
    {
     "data": {
      "text/plain": "RESTAURANT        0\nLINK              0\nSTAR_RATING       0\nCOMMENTS_COUNT    0\nMEAL_TYPE         0\ndtype: int64"
     },
     "execution_count": 7,
     "metadata": {},
     "output_type": "execute_result"
    }
   ],
   "source": [
    "Restaurant_Info.isna().sum()"
   ],
   "metadata": {
    "collapsed": false,
    "ExecuteTime": {
     "end_time": "2023-08-28T23:21:07.320949700Z",
     "start_time": "2023-08-28T23:21:07.283317Z"
    }
   },
   "id": "373413ce2ec6b339"
  },
  {
   "cell_type": "code",
   "execution_count": 7,
   "outputs": [],
   "source": [
    "Restaurant_Info['ADDRESS1'] = ''\n",
    "Restaurant_Info['ADDRESS2'] = ''\n",
    "\n",
    "\"\"\"\n",
    "地址資訊在網頁中大多會分兩行顯示\n",
    "要精準獲取需要直接鎖定該行的代碼，所以分別以兩個dataframe欄位來保存抓取資料再合併\n",
    "\n",
    "CSS_SELECTOR 一些網址可能有差異，如下\n",
    "第一行\n",
    "    #QA0Szd > div > div > div.w6VYqd > div.bJzME.tTVLSc > div > div.e07Vkf.kA9KIf > div > div > div:nth-child(11) > div:nth-child(3) > button > div > div.rogA2c > div.Io6YTe.fontBodyMedium.kR99db\n",
    "    #QA0Szd > div > div > div.w6VYqd > div.bJzME.tTVLSc > div > div.e07Vkf.kA9KIf > div > div > div:nth-child(9) > div:nth-child(3) > button > div > div.rogA2c > div.Io6YTe.fontBodyMedium.kR99db\n",
    "    \n",
    "第二行\n",
    "    #QA0Szd > div > div > div.w6VYqd > div.bJzME.tTVLSc > div > div.e07Vkf.kA9KIf > div > div > div:nth-child(11) > div:nth-child(4) > button > div > div.rogA2c > div.Io6YTe.fontBodyMedium.kR99db\n",
    "    #QA0Szd > div > div > div.w6VYqd > div.bJzME.tTVLSc > div > div.e07Vkf.kA9KIf > div > div > div:nth-child(9) > div:nth-child(4) > button > div > div.rogA2c > div.Io6YTe.fontBodyMedium.kR99db\n",
    "\n",
    "XPATH 同樣\n",
    "第一行\n",
    "    完整路徑\n",
    "    /html/body/div[3]/div[8]/div[9]/div/div/div[1]/div[2]/div/div[1]/div/div/div[11]/div[3]/button/div/div[2]/div[1]\n",
    "    相對路徑\n",
    "    //*[@id=\"QA0Szd\"]/div/div/div[1]/div[2]/div/div[1]/div/div/div[11]/div[3]/button/div/div[2]/div[1]\n",
    "    \n",
    "    完整路徑\n",
    "    /html/body/div[3]/div[8]/div[9]/div/div/div[1]/div[2]/div/div[1]/div/div/div[9]/div[3]/button/div/div[2]/div[1]\n",
    "    相對路徑\n",
    "    //*[@id=\"QA0Szd\"]/div/div/div[1]/div[2]/div/div[1]/div/div/div[9]/div[3]/button/div/div[2]/div[1]\n",
    "    \n",
    "第二行\n",
    "    完整路徑\n",
    "    /html/body/div[3]/div[8]/div[9]/div/div/div[1]/div[2]/div/div[1]/div/div/div[9]/div[4]/button/div/div[2]/div[1]\n",
    "    相對路徑\n",
    "    //*[@id=\"QA0Szd\"]/div/div/div[1]/div[2]/div/div[1]/div/div/div[9]/div[4]/button/div/div[2]/div[1]\n",
    "    \n",
    "    完整路徑\n",
    "    /html/body/div[3]/div[8]/div[9]/div/div/div[1]/div[2]/div/div[1]/div/div/div[11]/div[3]/button/div/div[2]/div[1]\n",
    "    相對路徑\n",
    "    //*[@id=\"QA0Szd\"]/div/div/div[1]/div[2]/div/div[1]/div/div/div[11]/div[4]/button/div/div[2]/div[1]\n",
    "\"\"\"\n",
    "\n",
    "chrome_option = Options()\n",
    "chrome_option.add_argument(\"--disable-cache\")\n",
    "driver = webdriver.Chrome(options=chrome_option)\n",
    "\n",
    "wait = WebDriverWait(driver,10)\n",
    "\n",
    "css_selector_list1 = [\n",
    "    \"#QA0Szd > div > div > div.w6VYqd > div.bJzME.tTVLSc > div > div.e07Vkf.kA9KIf > div > div > div:nth-child(11) > div:nth-child(3) > button > div > div.rogA2c > div.Io6YTe.fontBodyMedium.kR99db\",\n",
    "    \"#QA0Szd > div > div > div.w6VYqd > div.bJzME.tTVLSc > div > div.e07Vkf.kA9KIf > div > div > div:nth-child(9) > div:nth-child(3) > button > div > div.rogA2c > div.Io6YTe.fontBodyMedium.kR99db\"\n",
    "]\n",
    "css_selector_list2 = [\n",
    "    \"#QA0Szd > div > div > div.w6VYqd > div.bJzME.tTVLSc > div > div.e07Vkf.kA9KIf > div > div > div:nth-child(11) > div:nth-child(4) > button > div > div.rogA2c > div.Io6YTe.fontBodyMedium.kR99db\",\n",
    "    \"#QA0Szd > div > div > div.w6VYqd > div.bJzME.tTVLSc > div > div.e07Vkf.kA9KIf > div > div > div:nth-child(9) > div:nth-child(4) > button > div > div.rogA2c > div.Io6YTe.fontBodyMedium.kR99db\"\n",
    "]\n",
    "\n",
    "# xpath_list = [\n",
    "#     \"//*[@id=\\\"QA0Szd\\\"]/div/div/div[1]/div[2]/div/div[1]/div/div/div[11]/div[3]/button/div/div[2]/div[1]\",\n",
    "#     \"//*[@id=\\\"QA0Szd\\\"]/div/div/div[1]/div[2]/div/div[1]/div/div/div[9]/div[3]/button/div/div[2]/div[1]\"\n",
    "# ]\n",
    "\n",
    "def address_scraping(driver,wait,Restaurant_Info,css_selector_list,address_col):\n",
    "    for index, row in Restaurant_Info.iterrows():\n",
    "        link = row['LINK']\n",
    "    \n",
    "        for css_selector in css_selector_list:\n",
    "        # for xpath in xpath_list:\n",
    "            try:\n",
    "                driver.get(link)\n",
    "            # 測試 EC.presence_of_all_elements_located() 較 EC.visibility_of_element_located() 準確度高 \n",
    "                address_data = wait.until(EC.presence_of_all_elements_located((By.CSS_SELECTOR,css_selector))) \n",
    "            \n",
    "                addresses = []\n",
    "                for ele4 in address_data:\n",
    "                    restaurant_address = ele4.text\n",
    "                    addresses.append(restaurant_address)\n",
    "            \n",
    "                addresses = ','.join(addresses)\n",
    "                Restaurant_Info.at[index,address_col] = addresses\n",
    "            \n",
    "        \n",
    "            except NoSuchElementException as e:\n",
    "                print(f\"該網址:{link}，獲取數據時錯誤:{str(e)}\")   \n",
    "            \n",
    "            except NoSuchWindowException as e:\n",
    "                print(f\"窗口關閉:{str(e)}\")\n",
    "            \n",
    "            except Exception as e:\n",
    "                print(f\"該網址{link},開啟出現錯誤:{str(e)}\")\n",
    "                "
   ],
   "metadata": {
    "collapsed": false,
    "ExecuteTime": {
     "end_time": "2023-08-29T12:35:00.409982700Z",
     "start_time": "2023-08-29T12:34:58.612697700Z"
    }
   },
   "id": "5ac785efe6af807e"
  },
  {
   "cell_type": "code",
   "execution_count": 8,
   "outputs": [
    {
     "name": "stdout",
     "output_type": "stream",
     "text": [
      "該網址https://www.google.com/maps/place/%E5%90%88.shabu+%E2%88%A3+%E4%BF%A1%E7%BE%A9%E5%8D%80%E9%A0%82%E7%B4%9A%E9%8D%8B%E7%89%A9/data=!4m7!3m6!1s0x3442abbba86a7507:0x95ef4330b5c63da!8m2!3d25.0396219!4d121.567641!16s%2Fg%2F11g_2phpj!19sChIJB3VqqLurQjQR2mNcCzP0Xgk?authuser=0&hl=zh-TW&rclk=1,開啟出現錯誤:Message: \n",
      "該網址https://www.google.com/maps/place/Miacucina%E4%BF%A1%E7%BE%A9%E5%BA%97/data=!4m7!3m6!1s0x3442abba740a1a33:0xe886c8c9afd05088!8m2!3d25.0361121!4d121.5672692!16s%2Fg%2F11cly3t3k0!19sChIJMxoKdLqrQjQRiFDQr8nIhug?authuser=0&hl=zh-TW&rclk=1,開啟出現錯誤:Message: \n",
      "該網址https://www.google.com/maps/place/JK+STUDIO+Modern+Asia+%28%E5%8E%9FJK+STUDIO+%E6%96%B0%E7%BE%A9%E6%B3%95%E6%96%99%E7%90%86%29/data=!4m7!3m6!1s0x3442abbc19ebcfcf:0x530bb9197daa5f0f!8m2!3d25.0428905!4d121.5662123!16s%2Fg%2F11cn5mr14m!19sChIJz8_rGbyrQjQRD1-qfRm5C1M?authuser=0&hl=zh-TW&rclk=1,開啟出現錯誤:Message: \n",
      "該網址https://www.google.com/maps/place/%E9%9D%9E%E5%B8%B8%E6%B3%B0/data=!4m7!3m6!1s0x3442abb0844fd98f:0x1515af86676ee725!8m2!3d25.0355031!4d121.56786!16s%2Fg%2F1tkv7gl3!19sChIJj9lPhLCrQjQRJeduZ4avFRU?authuser=0&hl=zh-TW&rclk=1,開啟出現錯誤:Message: \n",
      "該網址https://www.google.com/maps/place/JOYCE+EAST/data=!4m7!3m6!1s0x3442abb1b078eb93:0x88e358a4dcd451b!8m2!3d25.0324206!4d121.5692132!16s%2Fg%2F1vk6wxn5!19sChIJk-t4sLGrQjQRG0XNTYo1jgg?authuser=0&hl=zh-TW&rclk=1,開啟出現錯誤:Message: \n",
      "該網址https://www.google.com/maps/place/the+Diner+%E6%A8%82%E5%AD%90%E4%BF%A1%E7%BE%A9%E6%97%97%E8%89%A6%E5%BA%97/data=!4m7!3m6!1s0x3442abb0b0c4fc8d:0xa339102f760c962c!8m2!3d25.035347!4d121.5660706!16s%2Fg%2F11gzkv3fk!19sChIJjfzEsLCrQjQRLJYMdi8QOaM?authuser=0&hl=zh-TW&rclk=1,開啟出現錯誤:Message: \n",
      "該網址https://www.google.com/maps/place/%E6%98%9F%E6%9C%9F%E4%BA%94%E7%BE%8E%E5%BC%8F%E9%A4%90%E5%BB%B3+%E4%BF%A1%E7%BE%A9%E9%A4%90%E5%BB%B3/data=!4m7!3m6!1s0x3442abb95faee141:0x95c6e6de82336969!8m2!3d25.0407344!4d121.5653917!16s%2Fg%2F12hp5rlr7!19sChIJQeGuX7mrQjQRaWkzgt7mxpU?authuser=0&hl=zh-TW&rclk=1,開啟出現錯誤:Message: \n",
      "該網址https://www.google.com/maps/place/HOOTERS%E7%BE%8E%E5%BC%8F%E9%A4%90%E5%BB%B3+%E4%BF%A1%E7%BE%A9%E5%BA%97/data=!4m7!3m6!1s0x3442ab8cfd861c45:0x17985ef75e6b5b2d!8m2!3d25.036672!4d121.5681307!16s%2Fg%2F11j5b4rz6g!19sChIJRRyG_YyrQjQRLVtrXvdemBc?authuser=0&hl=zh-TW&rclk=1,開啟出現錯誤:Message: \n",
      "該網址https://www.google.com/maps/place/%E9%A3%9F%E4%BB%A4shabu+%E2%88%A3+%E4%BF%A1%E7%BE%A9%E5%8D%80%E9%A0%82%E7%B4%9A%E9%8D%8B%E7%89%A9+%28%E5%8F%B0%E5%8C%97101%E8%B3%BC%E7%89%A9%E4%B8%AD%E5%BF%83%29/data=!4m7!3m6!1s0x3442ababb720b911:0x661bd181279c1178!8m2!3d25.0334929!4d121.564101!16s%2Fg%2F11jmxrb9_s!19sChIJEbkgt6urQjQReBGcJ4HRG2Y?authuser=0&hl=zh-TW&rclk=1,開啟出現錯誤:Message: \n",
      "該網址https://www.google.com/maps/place/%E5%90%89%E6%AF%94%E9%AE%AE%E9%87%80%E9%A4%90%E5%BB%B3+-+%E4%BF%A1%E7%BE%A9%E5%BA%97/data=!4m7!3m6!1s0x3442abb09ec78f7d:0x6e43fb375234ebc6!8m2!3d25.0371587!4d121.5671263!16s%2Fg%2F1pzq9ptln!19sChIJfY_HnrCrQjQRxus0Ujf7Q24?authuser=0&hl=zh-TW&rclk=1,開啟出現錯誤:Message: \n",
      "該網址https://www.google.com/maps/place/KiKi%E9%A4%90%E5%BB%B3%28%E4%BF%A1%E7%BE%A9%E8%AA%A0%E5%93%81%E5%BA%97%29/data=!4m7!3m6!1s0x3442abbbd465615f:0xd37a9ffbee37a241!8m2!3d25.039664!4d121.5657554!16s%2Fg%2F11g_vrls1!19sChIJX2Fl1LurQjQRQaI37vufetM?authuser=0&hl=zh-TW&rclk=1,開啟出現錯誤:Message: \n",
      "該網址https://www.google.com/maps/place/%E6%AA%80%E5%B3%B6%E9%A6%99%E6%B8%AF%E8%8C%B6%E9%A4%90%E5%BB%B3_%E4%BF%A1%E7%BE%A9%E5%BA%97/data=!4m7!3m6!1s0x3442abba740a1973:0x59c04582fb7969cb!8m2!3d25.0368522!4d121.5672633!16s%2Fg%2F11g7ztkmq6!19sChIJcxkKdLqrQjQRy2l5-4JFwFk?authuser=0&hl=zh-TW&rclk=1,開啟出現錯誤:Message: \n",
      "該網址https://www.google.com/maps/place/%E6%97%AD%E9%9B%86+%E5%92%8C%E9%A3%9F%E9%9B%86%E9%8C%A6+%E4%BF%A1%E7%BE%A9%E5%BA%97/data=!4m7!3m6!1s0x34429fa77fff67a3:0x2e0586ed07ea419!8m2!3d25.0367178!4d121.5679135!16s%2Fg%2F11j1hjktyh!19sChIJo2f_f6efQjQRGaR-0G5Y4AI?authuser=0&hl=zh-TW&rclk=1,開啟出現錯誤:Message: \n",
      "該網址https://www.google.com/maps/place/bar+%26+restaurant+a%C2%B3+%E6%96%B0%E7%BE%A9%E5%BC%8F%E9%A4%90%E5%BB%B3/data=!4m7!3m6!1s0x3442abbba86a7507:0xb86fc4ac5d44ba0c!8m2!3d25.0396219!4d121.567641!16s%2Fg%2F1hc1pgq3d!19sChIJB3VqqLurQjQRDLpEXazEb7g?authuser=0&hl=zh-TW&rclk=1,開啟出現錯誤:Message: \n",
      "該網址https://www.google.com/maps/place/Miga+Kitchen+Pasta+.+%E7%B1%B3%E5%AE%B6%E5%BB%9A%E6%88%BF%E7%BE%A9%E5%A4%A7%E5%88%A9%E9%BA%B5/data=!4m7!3m6!1s0x3442abc9f222936d:0x7ed9c06693833816!8m2!3d25.0335769!4d121.5589501!16s%2Fg%2F11b7v3k4n0!19sChIJbZMi8smrQjQRFjiDk2bA2X4?authuser=0&hl=zh-TW&rclk=1,開啟出現錯誤:Message: \n",
      "該網址https://www.google.com/maps/place/L%E2%80%99ATELIER+de+Jo%C3%ABl+Robuchon%E4%BE%AF%E5%B8%83%E9%9B%84%E6%B3%95%E5%BC%8F%E9%A4%90%E5%BB%B3/data=!4m7!3m6!1s0x3442abbba8fb7f31:0xfe9a2c13dc0092cb!8m2!3d25.0398624!4d121.5676195!16s%2Fg%2F1vyxg3cx!19sChIJMX_7qLurQjQRy5IA3BMsmv4?authuser=0&hl=zh-TW&rclk=1,開啟出現錯誤:Message: \n",
      "該網址https://www.google.com/maps/place/%E3%80%90The+Chips+%E4%BF%A1%E7%BE%A9%E5%BA%97%E3%80%91/data=!4m7!3m6!1s0x3442abc63cc4de1d:0x2b0bfdcf79ea3536!8m2!3d25.03531!4d121.5660665!16s%2Fg%2F12hl940sg!19sChIJHd7EPMarQjQRNjXqec_9Cys?authuser=0&hl=zh-TW&rclk=1,開啟出現錯誤:Message: \n",
      "該網址https://www.google.com/maps/place/PappaRich%E9%87%91%E7%88%B8%E7%88%B8-%E6%96%B0%E5%85%89%E4%BF%A1%E7%BE%A9A9%E5%BA%97/data=!4m7!3m6!1s0x3442abba699fcffd:0x9b31617011ad9314!8m2!3d25.0366706!4d121.5667018!16s%2Fg%2F11cnc0cbx6!19sChIJ_c-fabqrQjQRFJOtEXBhMZs?authuser=0&hl=zh-TW&rclk=1,開啟出現錯誤:Message: \n",
      "該網址https://www.google.com/maps/place/%E8%80%81%E4%B9%BE%E6%9D%AF+%E4%BF%A1%E7%BE%A9%E5%BA%97/data=!4m7!3m6!1s0x3442abb0a47226ad:0x90d88d2120616327!8m2!3d25.0365352!4d121.5667157!16s%2Fg%2F1tfb4810!19sChIJrSZypLCrQjQRJ2NhICGN2JA?authuser=0&hl=zh-TW&rclk=1,開啟出現錯誤:Message: \n",
      "該網址https://www.google.com/maps/place/%E6%B3%B0%E9%9B%86+%E5%BE%AE%E9%A2%A8%E4%BF%A1%E7%BE%A9%E5%BA%97/data=!4m7!3m6!1s0x3442abbb94cbb63d:0x515c23f3a15ad278!8m2!3d25.0405044!4d121.5668964!16s%2Fg%2F11cltvn48z!19sChIJPbbLlLurQjQReNJaofMjXFE?authuser=0&hl=zh-TW&rclk=1,開啟出現錯誤:Message: \n",
      "該網址https://www.google.com/maps/place/%E6%BA%AB%E5%BA%A6%E5%B0%8F%E9%A4%A8Chaleureux/data=!4m7!3m6!1s0x3442abb480e9ee79:0x9f1ff76bd030f122!8m2!3d25.0287577!4d121.5652633!16s%2Fg%2F11cjhsnlkk!19sChIJee7pgLSrQjQRIvEw0Gv3H58?authuser=0&hl=zh-TW&rclk=1,開啟出現錯誤:Message: \n",
      "該網址https://www.google.com/maps/place/Selfish+Burger%E8%87%AA%E7%A7%81%E6%BC%A2%E5%A0%A1/data=!4m7!3m6!1s0x3442abb595396f5d:0xa2fed668f5965c3d!8m2!3d25.0310263!4d121.5611238!16s%2Fg%2F11c0r3j594!19sChIJXW85lbWrQjQRPVyW9WjW_qI?authuser=0&hl=zh-TW&rclk=1,開啟出現錯誤:Message: \n",
      "該網址https://www.google.com/maps/place/%E5%92%8C%E7%89%9B47/data=!4m7!3m6!1s0x3442ab15769689fb:0x2d67917ec3f59725!8m2!3d25.0344547!4d121.5678798!16s%2Fg%2F11g__58z2t!19sChIJ-4mWdhWrQjQRJZf1w36RZy0?authuser=0&hl=zh-TW&rclk=1,開啟出現錯誤:Message: \n",
      "該網址https://www.google.com/maps/place/Meat+Love%E6%A9%A1%E6%9C%A8%E7%82%AD%E7%81%AB%E9%9F%93%E5%9C%8B%E7%83%A4%E8%82%89+%E4%BF%A1%E7%BE%A9%E5%BA%97/data=!4m7!3m6!1s0x3442abca0295f6cb:0x57e1fd44327e882e!8m2!3d25.0328911!4d121.5591635!16s%2Fg%2F11dxdms3gv!19sChIJy_aVAsqrQjQRLoh-MkT94Vc?authuser=0&hl=zh-TW&rclk=1,開啟出現錯誤:Message: \n",
      "該網址https://www.google.com/maps/place/%E5%BF%83%E6%BD%AE%E9%A3%AF%E5%BA%97/data=!4m7!3m6!1s0x3442abce7987eb23:0xd66dd276f16c59a2!8m2!3d25.0405014!4d121.5665695!16s%2Fg%2F11fqz4vll0!19sChIJI-uHec6rQjQRolls8XbSbdY?authuser=0&hl=zh-TW&rclk=1,開啟出現錯誤:Message: \n",
      "該網址https://www.google.com/maps/place/French+Windows+British+Teahouse+%E7%90%BA%E8%98%AD%E7%B6%BA%E7%91%A5%E6%9C%B5%E8%8B%B1%E5%BC%8F%E8%8C%B6%E9%A4%90%E9%A4%A8/data=!4m7!3m6!1s0x3442abbbfeda0867:0x30f250fd1290f96b!8m2!3d25.0433253!4d121.5634186!16s%2Fg%2F1pzq600pk!19sChIJZwja_rurQjQRa_mQEv1Q8jA?authuser=0&hl=zh-TW&rclk=1,開啟出現錯誤:Message: \n",
      "該網址https://www.google.com/maps/place/%E5%90%89%E8%B1%9A%E5%B1%8B+%E8%AA%A0%E5%93%81%E4%BF%A1%E7%BE%A9%E5%BA%97/data=!4m7!3m6!1s0x3442abbbd8e95bab:0xd10ef5e1add0def3!8m2!3d25.0397198!4d121.5658738!16s%2Fg%2F11c1q8fxt1!19sChIJq1vp2LurQjQR897QreH1DtE?authuser=0&hl=zh-TW&rclk=1,開啟出現錯誤:Message: \n",
      "該網址https://www.google.com/maps/place/%E6%B3%B0%E5%B8%82%E5%A0%B4+Spice+Market/data=!4m7!3m6!1s0x3442abbbd49807b9:0x5bea25cbb9ae71ae!8m2!3d25.0395349!4d121.5656192!16s%2Fg%2F1tfl7c41!19sChIJuQeY1LurQjQRrnGuucsl6ls?authuser=0&hl=zh-TW&rclk=1,開啟出現錯誤:Message: \n",
      "該網址https://www.google.com/maps/place/%E9%BB%9E%E9%BB%9E%E5%BF%83+%E4%BF%A1%E7%BE%A9%E5%BD%A2%E8%B1%A1%E5%BA%97/data=!4m7!3m6!1s0x3442abbb92b7e1ad:0xb9c97c495fbc99d7!8m2!3d25.0406764!4d121.5665457!16s%2Fg%2F11cmckvcj9!19sChIJreG3krurQjQR15m8X0l8ybk?authuser=0&hl=zh-TW&rclk=1,開啟出現錯誤:Message: \n",
      "該網址https://www.google.com/maps/place/%E6%A8%82%E8%BB%92%E6%9D%BE%E9%98%AA%E4%BA%AD/data=!4m7!3m6!1s0x3442ab749825aa2f:0xb1a72e3b4e20e2d!8m2!3d25.0395325!4d121.5667147!16s%2Fg%2F11f5w40y3h!19sChIJL6olmHSrQjQRLQ7itONyGgs?authuser=0&hl=zh-TW&rclk=1,開啟出現錯誤:Message: \n",
      "該網址https://www.google.com/maps/place/%E6%A9%98%E8%89%B2%E6%B6%AE%E6%B6%AE%E5%B1%8BA9%E9%A4%A8/data=!4m7!3m6!1s0x3442ab29dd20982f:0xd224611b23f03b98!8m2!3d25.0363392!4d121.5667018!16s%2Fg%2F11gmfxr2zs!19sChIJL5gg3SmrQjQRmDvwIxthJNI?authuser=0&hl=zh-TW&rclk=1,開啟出現錯誤:Message: \n",
      "該網址https://www.google.com/maps/place/L.A+PHO%E8%B6%8A%E5%8D%97%E6%B2%B3%E7%B2%89/data=!4m7!3m6!1s0x3442abb086a12369:0x233a096b968927a1!8m2!3d25.0355731!4d121.5681022!16s%2Fg%2F11hbbrqsw0!19sChIJaSOhhrCrQjQRoSeJlmsJOiM?authuser=0&hl=zh-TW&rclk=1,開啟出現錯誤:Message: \n",
      "該網址https://www.google.com/maps/place/INPARADISE+%E9%A5%97%E9%A5%97+%E4%BF%A1%E7%BE%A9%E5%BA%97/data=!4m7!3m6!1s0x3442abbbeadeeae9:0x78dbb9243e9c680a!8m2!3d25.0405099!4d121.5671637!16s%2Fg%2F11g8fl1vjd!19sChIJ6ere6rurQjQRCmicPiS523g?authuser=0&hl=zh-TW&rclk=1,開啟出現錯誤:Message: \n",
      "該網址https://www.google.com/maps/place/%E6%B7%BB%E5%A5%BD%E9%81%8B+%28%E6%96%B0%E5%85%89%E4%B8%89%E8%B6%8AA8%29/data=!4m7!3m6!1s0x3442abba377564c7:0x1edd390bee64be3f!8m2!3d25.0382241!4d121.5667909!16s%2Fg%2F11b6q8qdnc!19sChIJx2R1N7qrQjQRP75k7gs53R4?authuser=0&hl=zh-TW&rclk=1,開啟出現錯誤:Message: \n",
      "該網址https://www.google.com/maps/place/%E5%88%86%E4%BA%AB%E9%A4%90%E5%BB%B3/data=!4m7!3m6!1s0x3442aa4d335e640f:0xe7ad873992525b01!8m2!3d25.0396219!4d121.567641!16s%2Fg%2F1tdmblj5!19sChIJD2ReM02qQjQRAVtSkjmHrec?authuser=0&hl=zh-TW&rclk=1,開啟出現錯誤:Message: \n",
      "該網址https://www.google.com/maps/place/%E7%93%A6%E5%9F%8E+%E5%8F%B0%E5%8C%97%E5%BE%AE%E9%A2%A8%E4%BF%A1%E7%BE%A9%E5%BA%97/data=!4m7!3m6!1s0x3442ab07d22530e5:0xe13611fd3cc4e3cb!8m2!3d25.0406017!4d121.5670112!16s%2Fg%2F11h6yrl7j4!19sChIJ5TAl0gerQjQRy-PEPP0RNuE?authuser=0&hl=zh-TW&rclk=1,開啟出現錯誤:Message: \n",
      "該網址https://www.google.com/maps/place/%E5%8B%9E%E7%91%9E%E6%96%AF%E7%89%9B%E8%82%8B%E6%8E%92%E9%A4%90%E5%BB%B3/data=!4m7!3m6!1s0x3442abb07fd6078f:0x98a81462e0871f0!8m2!3d25.039633!4d121.5678702!16s%2Fg%2F1tggr6p7!19sChIJjwfWf7CrQjQR8HEILkaBigk?authuser=0&hl=zh-TW&rclk=1,開啟出現錯誤:Message: \n",
      "該網址https://www.google.com/maps/place/%E5%AF%AC%E5%B7%B7%E5%AD%90%E9%8D%8B%E5%93%81%E7%BE%8E%E9%A3%9F+%E5%BE%AE%E9%A2%A8%E4%BF%A1%E7%BE%A9%E5%BA%97/data=!4m7!3m6!1s0x3442abbb94bbee3b:0xff80aeb28966080b!8m2!3d25.0405444!4d121.5667909!16s%2Fg%2F11cmn7tnkn!19sChIJO-67lLurQjQRCwhmibKugP8?authuser=0&hl=zh-TW&rclk=1,開啟出現錯誤:Message: \n",
      "該網址https://www.google.com/maps/place/%E7%93%A6%E5%9F%8E%E6%B3%B0%E5%9C%8B%E6%96%99%E7%90%86+-+%E5%8F%B0%E5%8C%97%E4%B8%89%E8%B6%8A%E4%BF%A1%E7%BE%A9%E5%BA%97/data=!4m7!3m6!1s0x3442abb0a4722229:0x4c445651e4bfad0d!8m2!3d25.0366706!4d121.5667018!16s%2Fg%2F1tfzdg80!19sChIJKSJypLCrQjQRDa2_5FFWREw?authuser=0&hl=zh-TW&rclk=1,開啟出現錯誤:Message: \n",
      "該網址https://www.google.com/maps/place/%E6%96%B0%E9%AB%98%E8%BB%92%E4%BF%A1%E7%BE%A9%E5%BA%97%28A11-B2%29/data=!4m7!3m6!1s0x3442abca004f3b09:0x251b1ea1a38c3c58!8m2!3d25.0367098!4d121.567279!16s%2Fg%2F11hzy7lb_c!19sChIJCTtPAMqrQjQRWDyMo6EeGyU?authuser=0&hl=zh-TW&rclk=1,開啟出現錯誤:Message: \n",
      "該網址https://www.google.com/maps/place/%E7%B4%85%E8%B1%86%E9%A3%9F%E5%BA%9C+%E4%BF%A1%E7%BE%A9%E5%BA%97/data=!4m7!3m6!1s0x3442abb0a4722229:0xe5c7f07cd1738202!8m2!3d25.0363392!4d121.5667018!16s%2Fg%2F1tj7t2f_!19sChIJKSJypLCrQjQRAoJz0Xzwx-U?authuser=0&hl=zh-TW&rclk=1,開啟出現錯誤:Message: \n",
      "該網址https://www.google.com/maps/place/%E5%8B%9E%E7%91%9E%E6%96%AF%E7%89%9B%E8%82%8B%E6%8E%92%E9%A4%90%E5%BB%B3/data=!4m7!3m6!1s0x3442abb07fd6078f:0x98a81462e0871f0!8m2!3d25.039633!4d121.5678702!16s%2Fg%2F1tggr6p7!19sChIJjwfWf7CrQjQR8HEILkaBigk?authuser=0&hl=zh-TW&rclk=1,開啟出現錯誤:Message: \n",
      "該網址https://www.google.com/maps/place/%E9%BB%98%E7%88%BE+pasta+pizza%28%E5%8F%B0%E5%8C%97%E8%AA%A0%E5%93%81%E4%BF%A1%E7%BE%A9%E5%BA%97%29/data=!4m7!3m6!1s0x3442ab3d4575524b:0x2570d825bd5c95c0!8m2!3d25.0397197!4d121.5658739!16s%2Fg%2F11kx2smmzw!19sChIJS1J1RT2rQjQRwJVcvSXYcCU?authuser=0&hl=zh-TW&rclk=1,開啟出現錯誤:Message: \n",
      "該網址https://www.google.com/maps/place/%E5%B4%94%E5%A6%AE%E5%82%91%E6%81%A9+%E5%BE%AE%E9%A2%A8%E4%BF%A1%E7%BE%A9%E5%BA%97/data=!4m7!3m6!1s0x3442abbbeadeeae9:0x807e160cbf6effb2!8m2!3d25.040767!4d121.566845!16s%2Fg%2F11byxg5zbl!19sChIJ6ere6rurQjQRsv9uvwwWfoA?authuser=0&hl=zh-TW&rclk=1,開啟出現錯誤:Message: \n",
      "該網址https://www.google.com/maps/place/%E8%8E%AB%E7%88%BE%E9%A0%93%E7%89%9B%E6%8E%92%E9%A4%A8/data=!4m7!3m6!1s0x3442abbb94cbb63d:0x696e95c68f5262ba!8m2!3d25.0405044!4d121.5668964!16s%2Fg%2F11cmfcnd5t!19sChIJPbbLlLurQjQRumJSj8aVbmk?authuser=0&hl=zh-TW&rclk=1,開啟出現錯誤:Message: \n",
      "該網址https://www.google.com/maps/place/YKNK+club%E7%87%92%E8%82%89%E5%90%83%E5%88%B0%E9%A3%BD/data=!4m7!3m6!1s0x3442abd4e9c79125:0xf61f6ff57f43b68f!8m2!3d25.0367179!4d121.5681308!16s%2Fg%2F11hf3r7hpn!19sChIJJZHH6dSrQjQRj7ZDf_VvH_Y?authuser=0&hl=zh-TW&rclk=1,開啟出現錯誤:Message: \n",
      "該網址https://www.google.com/maps/place/%E9%A5%97%E6%B3%B0%E5%A4%9A+%E5%BE%AE%E9%A2%A8%E6%9D%BE%E9%AB%98%E5%BA%97/data=!4m7!3m6!1s0x3442abba4b902271:0x39a07169351cd6df!8m2!3d25.0387076!4d121.56729!16s%2Fg%2F11hb1ty713!19sChIJcSKQS7qrQjQR39YcNWlxoDk?authuser=0&hl=zh-TW&rclk=1,開啟出現錯誤:Message: \n",
      "該網址https://www.google.com/maps/place/%E9%96%8B%E9%A3%AF%E5%B7%9D%E9%A3%9F%E5%A0%82+%E5%B8%82%E5%BA%9C%E5%BA%97/data=!4m7!3m6!1s0x3442abb95faee141:0xc1d5f226fef09fdb!8m2!3d25.0406227!4d121.5654586!16s%2Fg%2F1pzr2k7h4!19sChIJQeGuX7mrQjQR25_w_iby1cE?authuser=0&hl=zh-TW&rclk=1,開啟出現錯誤:Message: \n",
      "該網址https://www.google.com/maps/place/1010+Hunan+Cuisine+Eslite+Xinyi+Restaurant/data=!4m7!3m6!1s0x3442abbbd49806cb:0x4ac814615eaf6055!8m2!3d25.0397197!4d121.5658739!16s%2Fg%2F1v_skyyg!19sChIJywaY1LurQjQRVWCvXmEUyEo?authuser=0&hl=zh-TW&rclk=1,開啟出現錯誤:Message: \n",
      "該網址https://www.google.com/maps/place/%E5%B8%95%E6%B3%B0%E5%AE%B6Baan+Phadthai+%E6%96%B0%E5%85%89A8%E5%BA%97/data=!4m7!3m6!1s0x3442ab76b6fc1d8f:0xcb3b25301a6b5313!8m2!3d25.0377664!4d121.5669236!16s%2Fg%2F11rwlh2j54!19sChIJjx38tnarQjQRE1NrGjAlO8s?authuser=0&hl=zh-TW&rclk=1,開啟出現錯誤:Message: \n",
      "該網址https://www.google.com/maps/place/%E8%89%BE%E6%9C%8B%E7%89%9B%E6%8E%92%E9%A4%90%E9%85%92%E9%A4%A8+%C3%80+POINT+STEAK+%26+BAR/data=!4m7!3m6!1s0x3442abbb86e23263:0x4bba0dfa5c756556!8m2!3d25.0412825!4d121.5678138!16s%2Fg%2F11gm952zgt!19sChIJYzLihrurQjQRVmV1XPoNuks?authuser=0&hl=zh-TW&rclk=1,開啟出現錯誤:Message: \n",
      "該網址https://www.google.com/maps/place/%E6%AC%A3%E8%91%89%E6%97%A5%E6%9C%AC%E6%96%99%E7%90%86%E4%BF%A1%E7%BE%A9%E5%BA%97/data=!4m7!3m6!1s0x3442abb09ecf193f:0xed8a15b236144c98!8m2!3d25.0360953!4d121.567219!16s%2Fg%2F1tksl1f4!19sChIJPxnPnrCrQjQRmEwUNrIViu0?authuser=0&hl=zh-TW&rclk=1,開啟出現錯誤:Message: \n",
      "該網址https://www.google.com/maps/place/%E9%BC%8E%E6%B3%B0%E8%B1%90+101%E5%BA%97/data=!4m7!3m6!1s0x3442abb6e8257741:0x51d2055f43274319!8m2!3d25.03346!4d121.5644841!16s%2Fg%2F11gzdz57n!19sChIJQXcl6LarQjQRGUMnQ18F0lE?authuser=0&hl=zh-TW&rclk=1,開啟出現錯誤:Message: \n",
      "該網址https://www.google.com/maps/place/%E6%AC%A3%E8%91%89%E5%8F%B0%E8%8F%9C+%E4%BF%A1%E7%BE%A9%E6%96%B0%E5%A4%A9%E5%9C%B0A9%E5%BA%97/data=!4m7!3m6!1s0x3442abb0a47226ad:0xa3c29da266aed574!8m2!3d25.0366706!4d121.5667018!16s%2Fg%2F1twyx6v2!19sChIJrSZypLCrQjQRdNWuZqKdwqM?authuser=0&hl=zh-TW&rclk=1,開啟出現錯誤:Message: \n",
      "該網址https://www.google.com/maps/place/%E7%A8%BB%E8%88%8D%E9%A3%9F%E9%A4%A8+Rice+%26+Shine+%E8%AA%A0%E5%93%81%E4%BF%A1%E7%BE%A9%E5%BA%97/data=!4m7!3m6!1s0x3442ab70e64dab4b:0xe8c2e7b4b6082256!8m2!3d25.0397197!4d121.5658739!16s%2Fg%2F11q2p46_rt!19sChIJS6tN5nCrQjQRViIItrTnwug?authuser=0&hl=zh-TW&rclk=1,開啟出現錯誤:Message: \n",
      "該網址https://www.google.com/maps/place/%E7%8F%8D%E5%AF%B6%E6%B5%B7%E9%AE%AE+%E5%8F%B0%E5%8C%97%E4%BF%A1%E7%BE%A9%E5%BA%97+JUMBO+Seafood/data=!4m7!3m6!1s0x3442abba35ad0ac5:0x6ce2ca11990604cc!8m2!3d25.0387499!4d121.5667774!16s%2Fg%2F11gdlyzh82!19sChIJxQqtNbqrQjQRzAQGmRHK4mw?authuser=0&hl=zh-TW&rclk=1,開啟出現錯誤:Message: \n",
      "該網址https://www.google.com/maps/place/Pap%C3%A0Roy+%E7%BE%A9%E5%BC%8F%E6%89%8B%E4%BD%9C%E6%96%99%E7%90%86/data=!4m7!3m6!1s0x3442abd43f34d27f:0xf0bdf0480c038284!8m2!3d25.0428006!4d121.5629104!16s%2Fg%2F11fvts1zpv!19sChIJf9I0P9SrQjQRhIIDDEjwvfA?authuser=0&hl=zh-TW&rclk=1,開啟出現錯誤:Message: \n",
      "該網址https://www.google.com/maps/place/%E5%AE%8B%E5%BB%9A%E8%8F%9C%E9%A4%A8/data=!4m7!3m6!1s0x3442abb95596bec3:0x1feb3e03f2edcf3d!8m2!3d25.0417878!4d121.5654718!16s%2Fg%2F1tvrxdpt!19sChIJw76WVbmrQjQRPc_t8gM-6x8?authuser=0&hl=zh-TW&rclk=1,開啟出現錯誤:Message: \n",
      "該網址https://www.google.com/maps/place/Salt+and+Stone/data=!4m7!3m6!1s0x3442ab37339ffe73:0x5ac4d593c297ca1d!8m2!3d25.0341222!4d121.5640212!16s%2Fg%2F11gzqd3gd8!19sChIJc_6fMzerQjQRHcqXwpPVxFo?authuser=0&hl=zh-TW&rclk=1,開啟出現錯誤:Message: \n",
      "該網址https://www.google.com/maps/place/%E5%8F%B0%E5%8C%97%E5%90%9B%E6%82%85%E9%85%92%E5%BA%97+ZIGA+ZAGA/data=!4m7!3m6!1s0x3442abb7a75a2dc9:0x8ed184b19b2cb270!8m2!3d25.0353371!4d121.5631414!16s%2Fg%2F1hc34lwvl!19sChIJyS1ap7erQjQRcLIsm7GE0Y4?authuser=0&hl=zh-TW&rclk=1,開啟出現錯誤:Message: \n",
      "該網址https://www.google.com/maps/place/NARA+Thai+Cuisine+%E6%B3%B0%E5%BC%8F%E6%96%99%E7%90%86+%E5%8F%B0%E5%8C%97%E7%B5%B1%E4%B8%80%E6%99%82%E4%BB%A3%E5%BA%97/data=!4m7!3m6!1s0x3442ab925f01148f:0x7ffb865ac5a4f3dc!8m2!3d25.0406227!4d121.5654586!16s%2Fg%2F11h6v33nmn!19sChIJjxQBX5KrQjQR3POkxVqG-38?authuser=0&hl=zh-TW&rclk=1,開啟出現錯誤:Message: \n",
      "該網址https://www.google.com/maps/place/%E5%8F%B0%E5%8C%97%E5%90%9B%E6%82%85%E9%85%92%E5%BA%97+ZIGA+ZAGA/data=!4m7!3m6!1s0x3442abb7a75a2dc9:0x8ed184b19b2cb270!8m2!3d25.0353371!4d121.5631414!16s%2Fg%2F1hc34lwvl!19sChIJyS1ap7erQjQRcLIsm7GE0Y4?authuser=0&hl=zh-TW&rclk=1,開啟出現錯誤:Message: \n",
      "該網址https://www.google.com/maps/place/%E9%BC%8E%E6%B3%B0%E8%B1%90+A13%E5%BA%97/data=!4m7!3m6!1s0x3442abee55b005c1:0x653b1d365b386044!8m2!3d25.0368737!4d121.5679503!16s%2Fg%2F11j8_w0dsq!19sChIJwQWwVe6rQjQRRGA4WzYdO2U?authuser=0&hl=zh-TW&rclk=1,開啟出現錯誤:Message: \n",
      "該網址https://www.google.com/maps/place/%E7%B1%8C%E5%AD%B8%E8%B2%BB%E9%A4%90%E5%BB%B3/data=!4m7!3m6!1s0x3442abc843c61ad1:0xfd31d8c62d5d9de!8m2!3d25.0369568!4d121.557991!16s%2Fg%2F1v3kf5rq!19sChIJ0RrGQ8irQjQR3tnVYowd0w8?authuser=0&hl=zh-TW&rclk=1,開啟出現錯誤:Message: \n",
      "該網址https://www.google.com/maps/place/%E9%A5%97%E9%A3%9F%E5%A4%A9%E5%A0%82+%E5%8F%B0%E5%8C%97%E4%BF%A1%E7%BE%A9%E5%BA%97/data=!4m7!3m6!1s0x3442abb0b0c4fc8d:0xfe03d89700dc455!8m2!3d25.03531!4d121.5660665!16s%2Fg%2F11h03r221!19sChIJjfzEsLCrQjQRVcQNcIk94A8?authuser=0&hl=zh-TW&rclk=1,開啟出現錯誤:Message: \n",
      "該網址https://www.google.com/maps/place/%E9%A5%97%E9%A3%9F%E5%A4%A9%E5%A0%82+%E5%8F%B0%E5%8C%97%E4%BF%A1%E7%BE%A9%E5%BA%97/data=!4m7!3m6!1s0x3442abb0b0c4fc8d:0xfe03d89700dc455!8m2!3d25.03531!4d121.5660665!16s%2Fg%2F11h03r221!19sChIJjfzEsLCrQjQRVcQNcIk94A8?authuser=0&hl=zh-TW&rclk=1,開啟出現錯誤:Message: \n",
      "該網址https://www.google.com/maps/place/%E5%A4%9C%E4%B8%8A%E6%B5%B7+Ye+Shanghai+%28Taipei%29/data=!4m7!3m6!1s0x3442abbbb609d58f:0x1865328c872fd50d!8m2!3d25.039787!4d121.5665893!16s%2Fg%2F11b7y6p6fd!19sChIJj9UJtrurQjQRDdUvh4wyZRg?authuser=0&hl=zh-TW&rclk=1,開啟出現錯誤:Message: \n",
      "該網址https://www.google.com/maps/place/%E9%BC%8E%E6%B3%B0%E8%B1%90+%E6%96%B0%E5%85%89A4%E5%BA%97/data=!4m7!3m6!1s0x3442abbbced155d3:0xe102c076b0599e9e!8m2!3d25.0397398!4d121.5665985!16s%2Fg%2F11bxdvtjc4!19sChIJ01XRzrurQjQRnp5ZsHbAAuE?authuser=0&hl=zh-TW&rclk=1,開啟出現錯誤:Message: \n",
      "該網址https://www.google.com/maps/place/%E6%97%A5%E6%9C%AC%E6%A9%8B%E6%B5%B7%E9%AE%AE%E4%B8%BC%E8%BE%BB%E5%8D%8A+%E5%BE%AE%E9%A2%A8%E4%BF%A1%E7%BE%A9%E5%BA%97/data=!4m7!3m6!1s0x3442ab6af4b09b55:0x1c5ad9a0eda4d2bb!8m2!3d25.0403175!4d121.5668746!16s%2Fg%2F11f62dc6z9!19sChIJVZuw9GqrQjQRu9Kk7aDZWhw?authuser=0&hl=zh-TW&rclk=1,開啟出現錯誤:Message: \n",
      "該網址https://www.google.com/maps/place/%E8%AB%8B%E8%AB%8B%E7%BE%A9%E5%A4%A7%E5%88%A9%E9%A4%90%E5%BB%B3%28%E9%80%B8%E4%BB%99%E5%BA%97%29/data=!4m7!3m6!1s0x3442abb9028cd75b:0xef994e5f95504dbb!8m2!3d25.0405367!4d121.5627951!16s%2Fg%2F11f3wrjqc0!19sChIJW9eMArmrQjQRu01QlV9Ome8?authuser=0&hl=zh-TW&rclk=1,開啟出現錯誤:Message: \n",
      "該網址https://www.google.com/maps/place/%E8%BE%9B%E6%AE%BF%E9%BA%BB%E8%BE%A3%E9%8D%8B%EF%BD%9C%E4%BF%A1%E7%BE%A9%E5%BA%97/data=!4m7!3m6!1s0x3442abb0b11fc55b:0x9893d5ac7ad71aa1!8m2!3d25.03531!4d121.5660665!16s%2Fg%2F11bcdxtf1b!19sChIJW8UfsbCrQjQRoRrXeqzVk5g?authuser=0&hl=zh-TW&rclk=1,開啟出現錯誤:Message: \n",
      "該網址https://www.google.com/maps/place/Wayne%E2%80%99s+New+York+%E7%91%8B%E6%81%A9%E7%B4%90%E7%B4%84%E7%BE%8E%E5%BC%8F%E9%BE%8D%E8%9D%A6%E7%89%9B%E6%8E%92%E9%A4%90%E5%BB%B3/data=!4m7!3m6!1s0x3442ab823343b2b7:0xc043d0a63eaeb78d!8m2!3d25.0301507!4d121.5580054!16s%2Fg%2F11fkmgvj72!19sChIJt7JDM4KrQjQRjbeuPqbQQ8A?authuser=0&hl=zh-TW&rclk=1,開啟出現錯誤:Message: \n",
      "該網址https://www.google.com/maps/place/%E9%87%91%E8%89%B2%E4%B8%89%E9%BA%A5+%E4%BF%A1%E7%BE%A9%E8%AA%A0%E5%93%81%E5%BA%97/data=!4m7!3m6!1s0x3442abbbd49807b9:0x230ccd435b985a9c!8m2!3d25.0397223!4d121.56499!16s%2Fg%2F1tj5hvrw!19sChIJuQeY1LurQjQRnFqYW0PNDCM?authuser=0&hl=zh-TW&rclk=1,開啟出現錯誤:Message: \n",
      "該網址https://www.google.com/maps/place/%E8%81%9A%E8%81%9A%E6%A8%93+eslite+garden/data=!4m7!3m6!1s0x3442abca3d82a9c7:0x270ed261ff576abe!8m2!3d25.0445662!4d121.5614467!16s%2Fg%2F11r1vl_nqr!19sChIJx6mCPcqrQjQRvmpX_2HSDic?authuser=0&hl=zh-TW&rclk=1,開啟出現錯誤:Message: \n",
      "該網址https://www.google.com/maps/place/PACKIE%E9%8A%80%E6%9D%8F%E5%B7%9D%E9%85%92%E8%8F%9C%E9%A4%A8/data=!4m7!3m6!1s0x3442ab5e2697363d:0x778c5a3c3dd09a73!8m2!3d25.0366706!4d121.5667018!16s%2Fg%2F11fd70ln46!19sChIJPTaXJl6rQjQRc5rQPTxajHc?authuser=0&hl=zh-TW&rclk=1,開啟出現錯誤:Message: \n",
      "該網址https://www.google.com/maps/place/%E5%88%9D%E9%AD%9A%E9%90%B5%E6%9D%BF%E7%87%92-%E5%8F%B0%E5%8C%97%E4%BF%A1%E7%BE%A9A9/data=!4m7!3m6!1s0x3442ab536866991b:0xa569166e86b5383f!8m2!3d25.0366706!4d121.5667018!16s%2Fg%2F11fp1nqfh7!19sChIJG5lmaFOrQjQRPzi1hm4WaaU?authuser=0&hl=zh-TW&rclk=1,開啟出現錯誤:Message: \n",
      "該網址https://www.google.com/maps/place/%E5%B0%8F%E7%B4%85%E9%BB%9E%E6%96%B0%E5%8A%A0%E5%9D%A1%E5%BB%9A%E6%88%BF/data=!4m7!3m6!1s0x3442abb3ff075bcd:0x6fc3a18e04b4877a!8m2!3d25.0365442!4d121.567237!16s%2Fg%2F11fhz5wtz4!19sChIJzVsH_7OrQjQReoe0BI6hw28?authuser=0&hl=zh-TW&rclk=1,開啟出現錯誤:Message: \n",
      "該網址https://www.google.com/maps/place/%E5%B0%8F%E5%B7%9D%E9%8D%8B%E7%89%A9+%E6%96%B0%E5%85%89%E4%B8%89%E8%B6%8A%E4%BF%A1%E7%BE%A9A4%E5%BA%97%EF%BD%9C%E5%B0%8F%E8%BE%B2%E8%94%AC%E8%8F%9C%E7%81%AB%E9%8D%8B%EF%BD%9C%E4%BF%A1%E7%BE%A9%E5%8D%80%E7%BE%8E%E9%A3%9F+%E4%BF%A1%E7%BE%A9%E5%8D%80%E7%81%AB%E9%8D%8B+%E4%BF%A1%E7%BE%A9%E5%8D%80%E9%8D%8B%E7%89%A9+%E5%B8%82%E6%94%BF%E5%BA%9C%E7%BE%8E%E9%A3%9F+%E5%B8%82%E6%94%BF%E5%BA%9C%E7%81%AB%E9%8D%8B+%E5%B8%82%E6%94%BF%E5%BA%9C%E9%8D%8B%E7%89%A9+%E5%B0%8F%E8%BE%B2%E9%8D%8B%E7%89%A9/data=!4m7!3m6!1s0x3442ab06b63e95df:0x264dda711e12ac32!8m2!3d25.0396922!4d121.5664837!16s%2Fg%2F11j0ytv2sc!19sChIJ35U-tgarQjQRMqwSHnHaTSY?authuser=0&hl=zh-TW&rclk=1,開啟出現錯誤:Message: \n",
      "該網址https://www.google.com/maps/place/1010%E6%B9%98%E9%A3%9F%E5%A0%82+%E9%81%A0%E7%99%BE%E4%BF%A1%E7%BE%A9%E5%BA%97/data=!4m7!3m6!1s0x3442ab231b4221d1:0xf72618bb52c3e7c7!8m2!3d25.0369075!4d121.568032!16s%2Fg%2F11j0vg7thc!19sChIJ0SFCGyOrQjQRx-fDUrsYJvc?authuser=0&hl=zh-TW&rclk=1,開啟出現錯誤:Message: \n",
      "該網址https://www.google.com/maps/place/Lady+nara+%E6%9B%BC%E8%B0%B7%E6%96%B0%E6%B3%B0%E5%BC%8F%E6%96%99%E7%90%86+%E5%8F%B0%E5%8C%97%E7%B5%B1%E4%B8%80%E6%99%82%E4%BB%A3%E5%BA%97/data=!4m7!3m6!1s0x3442ab2475748553:0x798baab8ad66220b!8m2!3d25.040506!4d121.5651212!16s%2Fg%2F11fkwcxjb1!19sChIJU4V0dSSrQjQRCyJmrbiqi3k?authuser=0&hl=zh-TW&rclk=1,開啟出現錯誤:Message: \n",
      "該網址https://www.google.com/maps/place/%E5%8A%8D%E6%8C%81%E5%B1%8B+%28%E6%96%B0%E5%85%89%E4%B8%89%E8%B6%8AA4%29/data=!4m7!3m6!1s0x3442abbbb609d58f:0xf4d1c5ccd886706f!8m2!3d25.0396958!4d121.5667281!16s%2Fg%2F11btws5qs3!19sChIJj9UJtrurQjQRb3CG2MzF0fQ?authuser=0&hl=zh-TW&rclk=1,開啟出現錯誤:Message: \n",
      "該網址https://www.google.com/maps/place/%E5%B0%8F%E5%87%B1%E6%82%85%E5%8D%97%E6%9D%91%E5%B0%8F%E5%90%83%E5%BA%97/data=!4m7!3m6!1s0x3442abb5ed651da7:0x5678285f3350ff3e!8m2!3d25.0313429!4d121.5605751!16s%2Fg%2F1tfsf33y!19sChIJpx1l7bWrQjQRPv9QM18oeFY?authuser=0&hl=zh-TW&rclk=1,開啟出現錯誤:Message: \n",
      "該網址https://www.google.com/maps/place/Chope+Chope+Eatery/data=!4m7!3m6!1s0x3442aba659d6a701:0xa42f582f9320ea1d!8m2!3d25.0395325!4d121.5667553!16s%2Fg%2F11pxm96yrf!19sChIJAafWWaarQjQRHeogky9YL6Q?authuser=0&hl=zh-TW&rclk=1,開啟出現錯誤:Message: \n",
      "該網址https://www.google.com/maps/place/%E6%BC%BE%E7%B4%85%E8%8A%B1%E9%90%B5%E6%9D%BF%E7%87%92+%E6%96%B0%E5%85%89%E4%B8%89%E8%B6%8A%E4%BF%A1%E7%BE%A9%E6%96%B0%E5%A4%A9%E5%9C%B0A11%E5%BA%97/data=!4m7!3m6!1s0x3442abb09e8d2ea3:0xd141a9956eee7cc3!8m2!3d25.0370149!4d121.5672753!16s%2Fg%2F11c42j64jx!19sChIJoy6NnrCrQjQRw3zubpWpQdE?authuser=0&hl=zh-TW&rclk=1,開啟出現錯誤:Message: \n",
      "該網址https://www.google.com/maps/place/%E6%B6%AE%E4%B9%83%E8%91%89+%E4%BF%A1%E7%BE%A9%E9%81%A0%E7%99%BE%E5%BA%97/data=!4m7!3m6!1s0x3442abc94a673925:0x5862b2fd35913397!8m2!3d25.0368823!4d121.5681356!16s%2Fg%2F11jn4ks17j!19sChIJJTlnSsmrQjQRlzORNf2yYlg?authuser=0&hl=zh-TW&rclk=1,開啟出現錯誤:Message: \n",
      "該網址https://www.google.com/maps/place/Kame+House+%E5%A4%8F%E5%A8%81%E5%A4%B7%E9%A4%90%E5%BB%B3/data=!4m7!3m6!1s0x3442ab1c164a8815:0x2f13544b8c46e204!8m2!3d25.0399137!4d121.5625878!16s%2Fg%2F11ftw63yzr!19sChIJFYhKFhyrQjQRBOJGjEtUEy8?authuser=0&hl=zh-TW&rclk=1,開啟出現錯誤:Message: \n",
      "該網址https://www.google.com/maps/place/%E5%A4%A7%E6%88%B6%E5%B1%8B+%E7%B5%B1%E4%B8%80%E6%99%82%E4%BB%A3%E5%8F%B0%E5%8C%97%E5%BA%97/data=!4m7!3m6!1s0x3442abb9607d6edf:0x7419b32913294dbe!8m2!3d25.0406227!4d121.5654586!16s%2Fg%2F1tf3x1wn!19sChIJ3259YLmrQjQRvk0pEymzGXQ?authuser=0&hl=zh-TW&rclk=1,開啟出現錯誤:Message: \n",
      "該網址https://www.google.com/maps/place/%E5%AF%92%E8%88%8D%E9%A3%9F%E8%AD%9C+%28%E5%8F%B0%E5%8C%97%E5%AF%92%E8%88%8D%E8%89%BE%E7%BE%8E%E9%85%92%E5%BA%97%29/data=!4m7!3m6!1s0x3442abba50d70b7b:0xfd0043d444898a1a!8m2!3d25.0382044!4d121.5680558!16s%2Fg%2F1hhj1gdg1!19sChIJewvXULqrQjQRGoqJRNRDAP0?authuser=0&hl=zh-TW&rclk=1,開啟出現錯誤:Message: \n",
      "該網址https://www.google.com/maps/place/%E5%96%9C%E6%86%A8%E5%85%92ENJOY+%E8%87%BA%E5%8C%97%E9%A4%90%E5%BB%B3/data=!4m7!3m6!1s0x3442abb9dc73545d:0x5167ff468716e829!8m2!3d25.037531!4d121.5639969!16s%2Fg%2F1t_tg_bk!19sChIJXVRz3LmrQjQRKegWh0b_Z1E?authuser=0&hl=zh-TW&rclk=1,開啟出現錯誤:Message: \n",
      "該網址https://www.google.com/maps/place/In+Between%E4%B9%8B%E9%96%93/data=!4m7!3m6!1s0x3442abbf17408db5:0x578b022dbb9c7617!8m2!3d25.044446!4d121.5618904!16s%2Fg%2F11cmqgprdg!19sChIJtY1AF7-rQjQRF3acuy0Ci1c?authuser=0&hl=zh-TW&rclk=1,開啟出現錯誤:Message: \n",
      "該網址https://www.google.com/maps/place/%E5%A6%82%E6%84%8F%E9%A4%90%E5%BB%B3+Ju-Yi+Hall/data=!4m7!3m6!1s0x3442abca24b27045:0x8e86fe17b63d9e69!8m2!3d25.0325764!4d121.5579893!16s%2Fg%2F11dxnq1j7d!19sChIJRXCyJMqrQjQRaZ49thf-ho4?authuser=0&hl=zh-TW&rclk=1,開啟出現錯誤:Message: \n",
      "該網址https://www.google.com/maps/place/Herbivore+A4%E4%BF%A1%E7%BE%A9%E5%BA%97+Vegan%E6%96%99%E7%90%86/data=!4m7!3m6!1s0x3442abbbcf12687d:0x64a5457fdd180360!8m2!3d25.0396424!4d121.5666917!16s%2Fg%2F11gg98tm3t!19sChIJfWgSz7urQjQRYAMY3X9FpWQ?authuser=0&hl=zh-TW&rclk=1,開啟出現錯誤:Message: \n",
      "該網址https://www.google.com/maps/place/%E6%98%8E%E6%B0%B4%E7%84%B6%E3%83%BB%E6%A8%82-%E4%BF%A1%E7%BE%A9%E6%9D%BE%E8%8F%B8%E5%BA%97/data=!4m7!3m6!1s0x3442ab67eb0d3cf7:0x7a38b2a7f6899357!8m2!3d25.0421947!4d121.5634958!16s%2Fg%2F11pdnmctx1!19sChIJ9zwN62erQjQRV5OJ9qeyOHo?authuser=0&hl=zh-TW&rclk=1,開啟出現錯誤:Message: \n",
      "該網址https://www.google.com/maps/place/%E6%AE%B5%E7%B4%94%E8%B2%9E-%E4%BF%A1%E7%BE%A9%E5%A8%81%E7%A7%80%E5%BA%97/data=!4m7!3m6!1s0x3442abb0eb407ad9:0x3dd33067c9a2ef16!8m2!3d25.0350303!4d121.5672607!16s%2Fg%2F11cmddsgjy!19sChIJ2XpA67CrQjQRFu-iyWcw0z0?authuser=0&hl=zh-TW&rclk=1,開啟出現錯誤:Message: \n",
      "該網址https://www.google.com/maps/place/%E9%A4%83%E5%AD%90%E6%A8%82+%E4%BF%A1%E7%BE%A9%E5%BA%97/data=!4m7!3m6!1s0x3442abbbf3f5b691:0xd8dd2938d36ba876!8m2!3d25.041389!4d121.566686!16s%2Fg%2F11gdgn3f9v!19sChIJkbb187urQjQRdqhr0zgp3dg?authuser=0&hl=zh-TW&rclk=1,開啟出現錯誤:Message: \n",
      "該網址https://www.google.com/maps/place/%E6%8D%8C%E4%BC%8D%E6%B7%BB%E7%AC%AC+85TD+Chinese+Restaurant/data=!4m7!3m6!1s0x3442ab49f86eabef:0xd237abef985bfc0b!8m2!3d25.033976!4d121.5645389!16s%2Fg%2F11p6byz1hh!19sChIJ76tu-EmrQjQRC_xbmO-rN9I?authuser=0&hl=zh-TW&rclk=1,開啟出現錯誤:Message: \n",
      "該網址https://www.google.com/maps/place/THE%E4%B8%8A%E6%B5%B7/data=!4m7!3m6!1s0x3442ab8b2595e0d5:0xf55122254d6e3c97!8m2!3d25.0334929!4d121.564101!16s%2Fg%2F11jrs9c9hw!19sChIJ1eCVJYurQjQRlzxuTSUiUfU?authuser=0&hl=zh-TW&rclk=1,開啟出現錯誤:Message: \n",
      "該網址https://www.google.com/maps/place/Due+Italian%EF%BC%88%E5%8F%B0%E5%8C%97%E6%96%B0%E5%85%89A4%E5%88%86%E5%BA%97%EF%BC%89/data=!4m7!3m6!1s0x3442abcd179ac5f7:0x79ecafb7c4cd76a6!8m2!3d25.0396539!4d121.5667018!16s%2Fg%2F11fd7fygrn!19sChIJ98WaF82rQjQRpnbNxLev7Hk?authuser=0&hl=zh-TW&rclk=1,開啟出現錯誤:Message: \n",
      "該網址https://www.google.com/maps/place/%E5%8F%B0%E5%8C%97%E5%90%9B%E6%82%85%E9%85%92%E5%BA%97+%E5%87%B1%E8%8F%B2%E5%B1%8B+Caf%C3%A9/data=!4m7!3m6!1s0x3442abb7a7382081:0xe7fb508e2f04c968!8m2!3d25.0351102!4d121.5621894!16s%2Fg%2F1q64qphps!19sChIJgSA4p7erQjQRaMkEL45Q--c?authuser=0&hl=zh-TW&rclk=1,開啟出現錯誤:Message: \n",
      "該網址https://www.google.com/maps/place/%E9%9A%A8%E6%84%8F%E5%95%86%E5%8B%99%E9%85%92%E5%90%A7+%E9%9A%A8%E6%84%8F%E5%90%A7+101-36F/data=!4m7!3m6!1s0x3442abb6da80a7ad:0x22f7d31f4f2dc68b!8m2!3d25.0337675!4d121.5648602!16s%2Fg%2F1pzx6fxkq!19sChIJraeA2rarQjQRi8YtTx_T9yI?authuser=0&hl=zh-TW&rclk=1,開啟出現錯誤:Message: \n",
      "該網址https://www.google.com/maps/place/%E5%8F%B2%E5%AF%86%E6%96%AF%E8%8F%AF%E5%80%AB%E6%96%AF%E5%9F%BA%E7%89%9B%E6%8E%92%E9%A4%A8+Smith+%26+Wollensky/data=!4m7!3m6!1s0x3442abefec0a2d11:0xb705f1a4ba92d51f!8m2!3d25.0342883!4d121.5673522!16s%2Fg%2F11gxxzwdq0!19sChIJES0K7O-rQjQRH9WSuqTxBbc?authuser=0&hl=zh-TW&rclk=1,開啟出現錯誤:Message: \n",
      "該網址https://www.google.com/maps/place/Saffron+46/data=!4m7!3m6!1s0x3442ab12e6ae3f01:0xd8efab3ee4ae4207!8m2!3d25.0341753!4d121.5669112!16s%2Fg%2F11h2nzmkp9!19sChIJAT-u5hKrQjQRB0Ku5D6r79g?authuser=0&hl=zh-TW&rclk=1,開啟出現錯誤:Message: \n",
      "該網址https://www.google.com/maps/place/%E9%A6%AC%E5%8F%8B%E5%8F%8B%E5%8D%B0%E5%BA%A6%E5%BB%9A%E6%88%BF+Mayur+Indian+Kitchen,+MIK-1/data=!4m7!3m6!1s0x3442abb791fc36d9:0x32e2daa7c1cb5ce9!8m2!3d25.0368668!4d121.5616201!16s%2Fg%2F1vm_vld3!19sChIJ2Tb8kberQjQR6VzLwafa4jI?authuser=0&hl=zh-TW&rclk=1,開啟出現錯誤:Message: \n",
      "該網址https://www.google.com/maps/place/%E5%81%B7%E9%A3%AF%E8%B3%8A+%E9%81%A0%E7%99%BE%E4%BF%A1%E7%BE%A9A13%E5%BA%97/data=!4m7!3m6!1s0x3442ab4aaa04e12f:0xdbfdd0eebd9f0796!8m2!3d25.0367179!4d121.5681308!16s%2Fg%2F11l7tjxq48!19sChIJL-EEqkqrQjQRlgefve7Q_ds?authuser=0&hl=zh-TW&rclk=1,開啟出現錯誤:Message: \n",
      "該網址https://www.google.com/maps/place/%E6%B5%B7%E5%BA%95%E6%92%88%E7%81%AB%E9%8D%8B+%E4%BF%A1%E7%BE%A9%E5%BA%97/data=!4m7!3m6!1s0x3442abd6a99a9a67:0x1e2ecd843db87306!8m2!3d25.03531!4d121.5660665!16s%2Fg%2F11fj479qn0!19sChIJZ5qaqdarQjQRBnO4PYTNLh4?authuser=0&hl=zh-TW&rclk=1,開啟出現錯誤:Message: \n",
      "該網址https://www.google.com/maps/place/%E9%BB%91%E6%B5%AE%E5%92%96%E5%95%A1+%E5%8F%B0%E5%8C%97%E4%BF%A1%E7%BE%A9ATT%E5%BA%97/data=!4m7!3m6!1s0x3442ab837ee54d59:0x9e9cac7e08cefaf2!8m2!3d25.03531!4d121.5660665!16s%2Fg%2F11m_lvffn7!19sChIJWU3lfoOrQjQR8vrOCH6snJ4?authuser=0&hl=zh-TW&rclk=1,開啟出現錯誤:Message: \n",
      "該網址https://www.google.com/maps/place/%E7%8E%96%E9%BE%8D%E5%86%B0%E5%AE%A4-%E9%A6%99%E6%B8%AF%E8%8C%B6%E9%A4%90%E5%BB%B3%7C%E4%BF%A1%E7%BE%A9%E5%8D%80%E6%B8%AF%E5%BC%8F%E9%A3%B2%E8%8C%B6%7C%E6%B8%AF%E5%BC%8F%E6%96%99%E7%90%86%7C%E7%BE%8E%E9%A3%9F%E6%8E%A8%E8%96%A6%7C%E6%B8%AF%E5%BC%8F%E6%8E%A8%E8%96%A6%7C%E5%AE%B6%E5%BA%AD%E8%81%9A%E9%A4%88%7C%E9%99%84%E8%BF%91%E7%BE%8E%E9%A3%9F/data=!4m7!3m6!1s0x3442ab86bea570a3:0x1f32b12f0f776ddd!8m2!3d25.04469!4d121.56284!16s%2Fg%2F11j126nppy!19sChIJo3ClvoarQjQR3W13Dy-xMh8?authuser=0&hl=zh-TW&rclk=1,開啟出現錯誤:Message: \n",
      "該網址https://www.google.com/maps/place/UMAMI+%E9%87%91%E8%89%B2%E4%B8%89%E9%BA%A5/data=!4m7!3m6!1s0x3442ab64b936c329:0x6a6c6c8d77fc897e!8m2!3d25.0343985!4d121.5661798!16s%2Fg%2F11h0ykl6yk!19sChIJKcM2uWSrQjQRfon8d41sbGo?authuser=0&hl=zh-TW&rclk=1,開啟出現錯誤:Message: \n",
      "該網址https://www.google.com/maps/place/%E6%BA%AB%E5%8F%A8Cafe+%26+Dining+%E5%92%96%E5%95%A1%E9%A4%90%E9%85%92%E9%A4%A8/data=!4m7!3m6!1s0x3442ab246428501b:0x3585d331f8d9590b!8m2!3d25.0445662!4d121.5614467!16s%2Fg%2F11fnyxpsrq!19sChIJG1AoZCSrQjQRC1nZ-DHThTU?authuser=0&hl=zh-TW&rclk=1,開啟出現錯誤:Message: \n",
      "該網址https://www.google.com/maps/place/%E6%B6%AE%E4%B9%83%E8%91%89+%E7%B5%B1%E4%B8%80%E6%99%82%E4%BB%A3%E5%B8%82%E5%BA%9C%E5%BA%97/data=!4m7!3m6!1s0x3442abb95faee141:0xf1fe8da35cf896b6!8m2!3d25.0406821!4d121.5651557!16s%2Fg%2F11gfjrrz37!19sChIJQeGuX7mrQjQRtpb4XKON_vE?authuser=0&hl=zh-TW&rclk=1,開啟出現錯誤:Message: \n",
      "該網址https://www.google.com/maps/place/%E8%BC%AA%E8%BC%AA1976+%E5%92%8C%E9%A3%9F%E8%8C%B6%E9%85%92%E9%A7%85%2F+Lun+Lun1976%2F%E5%A4%A7%E8%BB%8A%E8%BC%AA-%E5%8F%B0%E5%8C%97%E4%BF%A1%E7%BE%A9%E9%A4%90%E9%85%92%E9%A4%A8+%E5%8C%85%E5%BB%82%E9%A4%90%E5%BB%B3+%E4%BA%BA%E6%B0%A3%E8%A8%82%E4%BD%8D+%E7%B2%BE%E7%B7%BB%E6%97%A5%E5%BC%8F%E6%96%99%E7%90%86+%E7%B6%B2%E7%BE%8E%E8%81%9A%E9%A4%90%E6%8E%92%E9%9A%8A%E7%BE%8E%E9%A3%9F%E9%A4%90%E5%BB%B3+%E7%95%B0%E5%9C%8B%E6%96%99%E7%90%86+2023%E5%BF%85%E5%90%83%E6%8E%92%E9%9A%8A%E7%BE%8E%E9%A3%9F+%E4%BF%A1%E7%BE%A9%E5%95%86%E5%9C%88+PTT+Dcard/data=!4m7!3m6!1s0x3442ab32672f8efd:0x4cdacd1bdaaa072!8m2!3d25.0371532!4d121.5672683!16s%2Fg%2F11t503pcmz!19sChIJ_Y4vZzKrQjQRcqCqvdGszQQ?authuser=0&hl=zh-TW&rclk=1,開啟出現錯誤:Message: \n",
      "該網址https://www.google.com/maps/place/%E5%B0%8F%E5%8D%97%E9%96%80%E5%82%B3%E7%B5%B1%E7%BE%8E%E9%A3%9F%E3%80%81%E8%B1%86%E8%8A%B1+%E8%AA%A0%E5%93%81%E4%BF%A1%E7%BE%A9%E5%BA%97/data=!4m7!3m6!1s0x3442abb981825cc3:0xd8c5730c46b37814!8m2!3d25.0396669!4d121.5653555!16s%2Fg%2F1xtd_83t!19sChIJw1yCgbmrQjQRFHizRgxzxdg?authuser=0&hl=zh-TW&rclk=1,開啟出現錯誤:Message: \n",
      "該網址https://www.google.com/maps/place/GUMGUM+Beer+%26+Wings/data=!4m7!3m6!1s0x3442abc9e61bed7b:0xd8978857a512d1a6!8m2!3d25.033894!4d121.559154!16s%2Fg%2F11c709w5c_!19sChIJe-0b5smrQjQRptESpVeIl9g?authuser=0&hl=zh-TW&rclk=1,開啟出現錯誤:Message: \n",
      "該網址https://www.google.com/maps/place/Daylight%E5%85%89%E5%90%88%E7%AE%B1%E5%AD%90+%E4%BF%A1%E7%BE%A9%E5%BA%97/data=!4m7!3m6!1s0x3442abbff3f4c5f1:0x58f12da4bcef434d!8m2!3d25.0397197!4d121.5658739!16s%2Fg%2F11g2328811!19sChIJ8cX087-rQjQRTUPvvKQt8Vg?authuser=0&hl=zh-TW&rclk=1,開啟出現錯誤:Message: \n",
      "該網址https://www.google.com/maps/place/%E5%A0%A4%E8%AB%BE%E7%BE%A9%E5%A4%A7%E5%88%A9%E6%AF%94%E8%96%A9+Tino%27s+Pizza+%E5%8F%B0%E5%8C%97%E8%8E%8A%E6%95%AC%E9%96%80%E5%B8%82/data=!4m7!3m6!1s0x3442abb5953e14e7:0x4ed3e3e9ab3a36a7!8m2!3d25.0310213!4d121.5611237!16s%2Fg%2F11b5wlvldt!19sChIJ5xQ-lbWrQjQRpzY6q-nj004?authuser=0&hl=zh-TW&rclk=1,開啟出現錯誤:Message: \n",
      "該網址https://www.google.com/maps/place/%E9%87%91%E5%AD%90%E5%8D%8A%E4%B9%8B%E5%8A%A9+%E6%96%B0%E5%85%89A8%E5%BA%97/data=!4m7!3m6!1s0x3442abba47fecf2b:0xa2c53402feb62faf!8m2!3d25.0387489!4d121.5666702!16s%2Fg%2F11f3bfg5gq!19sChIJK8_-R7qrQjQRry-2_gI0xaI?authuser=0&hl=zh-TW&rclk=1,開啟出現錯誤:Message: \n",
      "該網址https://www.google.com/maps/place/%E9%8A%80%E5%BA%A7%E6%9D%8F%E5%AD%90%E6%97%A5%E5%BC%8F%E8%B1%AC%E6%8E%92-%E4%BF%A1%E7%BE%A9%E5%A8%81%E7%A7%80%E5%BA%97/data=!4m7!3m6!1s0x3442abbdb9096aab:0xe7326825ae8eb2bb!8m2!3d25.0354959!4d121.5671952!16s%2Fg%2F11bztdwy9q!19sChIJq2oJub2rQjQRu7KOriVoMuc?authuser=0&hl=zh-TW&rclk=1,開啟出現錯誤:Message: \n",
      "該網址https://www.google.com/maps/place/M+One+Cafe+A11%E9%A4%A8/data=!4m7!3m6!1s0x3442aba410f40779:0xbeafe8f4c62285ef!8m2!3d25.0371341!4d121.5671768!16s%2Fg%2F11r7grbv_x!19sChIJeQf0EKSrQjQR74UixvTor74?authuser=0&hl=zh-TW&rclk=1,開啟出現錯誤:Message: \n",
      "該網址https://www.google.com/maps/place/%E5%8D%81%E4%BA%8C%E7%B1%83+%E7%B2%A5%E7%81%AB%E9%8D%8B+%E9%80%B8%E4%BB%99%E5%BA%97/data=!4m7!3m6!1s0x3442abb903676b8b:0x591fa610d920ea28!8m2!3d25.0404906!4d121.5630033!16s%2Fg%2F11b6shcbq_!19sChIJi2tnA7mrQjQRKOog2RCmH1k?authuser=0&hl=zh-TW&rclk=1,開啟出現錯誤:Message: \n",
      "該網址https://www.google.com/maps/place/We%26Me+Cafe%E5%A5%BD%E5%A5%BD%E6%96%87%E5%8C%96%E5%89%B5%E6%84%8F/data=!4m7!3m6!1s0x3442abb94d03f33b:0xba6e0151f03746f6!8m2!3d25.0420002!4d121.5647139!16s%2Fg%2F12m96ygc6!19sChIJO_MDTbmrQjQR9kY38FEBbro?authuser=0&hl=zh-TW&rclk=1,開啟出現錯誤:Message: \n",
      "該網址https://www.google.com/maps/place/%E6%81%86%E4%B9%8B%E8%8C%B6%E5%B1%85+HANG%27S+CAFE/data=!4m7!3m6!1s0x3442abd700e869e1:0x57aace2e2e29e1ce!8m2!3d25.044751!4d121.5609268!16s%2Fg%2F11hds3fcv5!19sChIJ4WnoANerQjQRzuEpLi7Oqlc?authuser=0&hl=zh-TW&rclk=1,開啟出現錯誤:Message: \n"
     ]
    },
    {
     "data": {
      "text/plain": "                                   RESTAURANT  \\\n0                           合.shabu ∣ 信義區頂級鍋物   \n1                                Miacucina信義店   \n2    JK STUDIO Modern Asia (原JK STUDIO 新義法料理)   \n3                                         非常泰   \n4                                  JOYCE EAST   \n..                                        ...   \n115                            銀座杏子日式豬排-信義威秀店   \n116                           M One Cafe A11館   \n117                               十二籃 粥火鍋 逸仙店   \n118                          We&Me Cafe好好文化創意   \n119                          恆之茶居 HANG'S CAFE   \n\n                                                  LINK STAR_RATING  \\\n0    https://www.google.com/maps/place/%E5%90%88.sh...     4.6 星級    \n1    https://www.google.com/maps/place/Miacucina%E4...     3.9 星級    \n2    https://www.google.com/maps/place/JK+STUDIO+Mo...     4.7 星級    \n3    https://www.google.com/maps/place/%E9%9D%9E%E5...     4.2 星級    \n4    https://www.google.com/maps/place/JOYCE+EAST/d...     4.3 星級    \n..                                                 ...         ...   \n115  https://www.google.com/maps/place/%E9%8A%80%E5...     3.9 星級    \n116  https://www.google.com/maps/place/M+One+Cafe+A...     4.4 星級    \n117  https://www.google.com/maps/place/%E5%8D%81%E4...     4.3 星級    \n118  https://www.google.com/maps/place/We%26Me+Cafe...     4.2 星級    \n119  https://www.google.com/maps/place/%E6%81%86%E4...     3.3 星級    \n\n    COMMENTS_COUNT MEAL_TYPE                 ADDRESS1 ADDRESS2  \n0        3,396 則評論     涮涮鍋餐廳  4F, No. 28號松仁路信義區台北市110           \n1        2,599 則評論      素食餐廳       110台北市信義區松壽路11號2樓號           \n2        1,751 則評論        餐廳  110台北市信義區基隆路一段147巷5弄13號           \n3          691 則評論      泰國餐廳          110台北市信義區松壽路22號           \n4          580 則評論      歐洲餐廳       110台北市信義區信義路五段128號           \n..             ...       ...                      ...      ...  \n115        812 則評論   日式炸豬扒餐廳        110台北市信義區松壽路20號2樓           \n116      1,102 則評論        餐廳        110台北市信義區松壽路11號3樓           \n117      1,222 則評論      火鍋餐廳       110台北市信義區逸仙路50巷28號           \n118        657 則評論       咖啡店     110台北市信義區基隆路一段188-2號           \n119        710 則評論        餐廳                                    \n\n[120 rows x 7 columns]",
      "text/html": "<div>\n<style scoped>\n    .dataframe tbody tr th:only-of-type {\n        vertical-align: middle;\n    }\n\n    .dataframe tbody tr th {\n        vertical-align: top;\n    }\n\n    .dataframe thead th {\n        text-align: right;\n    }\n</style>\n<table border=\"1\" class=\"dataframe\">\n  <thead>\n    <tr style=\"text-align: right;\">\n      <th></th>\n      <th>RESTAURANT</th>\n      <th>LINK</th>\n      <th>STAR_RATING</th>\n      <th>COMMENTS_COUNT</th>\n      <th>MEAL_TYPE</th>\n      <th>ADDRESS1</th>\n      <th>ADDRESS2</th>\n    </tr>\n  </thead>\n  <tbody>\n    <tr>\n      <th>0</th>\n      <td>合.shabu ∣ 信義區頂級鍋物</td>\n      <td>https://www.google.com/maps/place/%E5%90%88.sh...</td>\n      <td>4.6 星級</td>\n      <td>3,396 則評論</td>\n      <td>涮涮鍋餐廳</td>\n      <td>4F, No. 28號松仁路信義區台北市110</td>\n      <td></td>\n    </tr>\n    <tr>\n      <th>1</th>\n      <td>Miacucina信義店</td>\n      <td>https://www.google.com/maps/place/Miacucina%E4...</td>\n      <td>3.9 星級</td>\n      <td>2,599 則評論</td>\n      <td>素食餐廳</td>\n      <td>110台北市信義區松壽路11號2樓號</td>\n      <td></td>\n    </tr>\n    <tr>\n      <th>2</th>\n      <td>JK STUDIO Modern Asia (原JK STUDIO 新義法料理)</td>\n      <td>https://www.google.com/maps/place/JK+STUDIO+Mo...</td>\n      <td>4.7 星級</td>\n      <td>1,751 則評論</td>\n      <td>餐廳</td>\n      <td>110台北市信義區基隆路一段147巷5弄13號</td>\n      <td></td>\n    </tr>\n    <tr>\n      <th>3</th>\n      <td>非常泰</td>\n      <td>https://www.google.com/maps/place/%E9%9D%9E%E5...</td>\n      <td>4.2 星級</td>\n      <td>691 則評論</td>\n      <td>泰國餐廳</td>\n      <td>110台北市信義區松壽路22號</td>\n      <td></td>\n    </tr>\n    <tr>\n      <th>4</th>\n      <td>JOYCE EAST</td>\n      <td>https://www.google.com/maps/place/JOYCE+EAST/d...</td>\n      <td>4.3 星級</td>\n      <td>580 則評論</td>\n      <td>歐洲餐廳</td>\n      <td>110台北市信義區信義路五段128號</td>\n      <td></td>\n    </tr>\n    <tr>\n      <th>...</th>\n      <td>...</td>\n      <td>...</td>\n      <td>...</td>\n      <td>...</td>\n      <td>...</td>\n      <td>...</td>\n      <td>...</td>\n    </tr>\n    <tr>\n      <th>115</th>\n      <td>銀座杏子日式豬排-信義威秀店</td>\n      <td>https://www.google.com/maps/place/%E9%8A%80%E5...</td>\n      <td>3.9 星級</td>\n      <td>812 則評論</td>\n      <td>日式炸豬扒餐廳</td>\n      <td>110台北市信義區松壽路20號2樓</td>\n      <td></td>\n    </tr>\n    <tr>\n      <th>116</th>\n      <td>M One Cafe A11館</td>\n      <td>https://www.google.com/maps/place/M+One+Cafe+A...</td>\n      <td>4.4 星級</td>\n      <td>1,102 則評論</td>\n      <td>餐廳</td>\n      <td>110台北市信義區松壽路11號3樓</td>\n      <td></td>\n    </tr>\n    <tr>\n      <th>117</th>\n      <td>十二籃 粥火鍋 逸仙店</td>\n      <td>https://www.google.com/maps/place/%E5%8D%81%E4...</td>\n      <td>4.3 星級</td>\n      <td>1,222 則評論</td>\n      <td>火鍋餐廳</td>\n      <td>110台北市信義區逸仙路50巷28號</td>\n      <td></td>\n    </tr>\n    <tr>\n      <th>118</th>\n      <td>We&amp;Me Cafe好好文化創意</td>\n      <td>https://www.google.com/maps/place/We%26Me+Cafe...</td>\n      <td>4.2 星級</td>\n      <td>657 則評論</td>\n      <td>咖啡店</td>\n      <td>110台北市信義區基隆路一段188-2號</td>\n      <td></td>\n    </tr>\n    <tr>\n      <th>119</th>\n      <td>恆之茶居 HANG'S CAFE</td>\n      <td>https://www.google.com/maps/place/%E6%81%86%E4...</td>\n      <td>3.3 星級</td>\n      <td>710 則評論</td>\n      <td>餐廳</td>\n      <td></td>\n      <td></td>\n    </tr>\n  </tbody>\n</table>\n<p>120 rows × 7 columns</p>\n</div>"
     },
     "execution_count": 8,
     "metadata": {},
     "output_type": "execute_result"
    }
   ],
   "source": [
    "address_scraping(driver=driver,wait=wait,Restaurant_Info=Restaurant_Info,css_selector_list=css_selector_list1,address_col=\"ADDRESS1\")\n",
    "Restaurant_Info"
   ],
   "metadata": {
    "collapsed": false,
    "ExecuteTime": {
     "end_time": "2023-08-29T13:08:01.721479200Z",
     "start_time": "2023-08-29T12:35:10.253711200Z"
    }
   },
   "id": "63a8c8d6b9e6602e"
  },
  {
   "cell_type": "code",
   "execution_count": 9,
   "outputs": [
    {
     "name": "stdout",
     "output_type": "stream",
     "text": [
      "該網址https://www.google.com/maps/place/%E5%90%88.shabu+%E2%88%A3+%E4%BF%A1%E7%BE%A9%E5%8D%80%E9%A0%82%E7%B4%9A%E9%8D%8B%E7%89%A9/data=!4m7!3m6!1s0x3442abbba86a7507:0x95ef4330b5c63da!8m2!3d25.0396219!4d121.567641!16s%2Fg%2F11g_2phpj!19sChIJB3VqqLurQjQR2mNcCzP0Xgk?authuser=0&hl=zh-TW&rclk=1,開啟出現錯誤:Message: \n",
      "該網址https://www.google.com/maps/place/Miacucina%E4%BF%A1%E7%BE%A9%E5%BA%97/data=!4m7!3m6!1s0x3442abba740a1a33:0xe886c8c9afd05088!8m2!3d25.0361121!4d121.5672692!16s%2Fg%2F11cly3t3k0!19sChIJMxoKdLqrQjQRiFDQr8nIhug?authuser=0&hl=zh-TW&rclk=1,開啟出現錯誤:Message: \n",
      "該網址https://www.google.com/maps/place/JK+STUDIO+Modern+Asia+%28%E5%8E%9FJK+STUDIO+%E6%96%B0%E7%BE%A9%E6%B3%95%E6%96%99%E7%90%86%29/data=!4m7!3m6!1s0x3442abbc19ebcfcf:0x530bb9197daa5f0f!8m2!3d25.0428905!4d121.5662123!16s%2Fg%2F11cn5mr14m!19sChIJz8_rGbyrQjQRD1-qfRm5C1M?authuser=0&hl=zh-TW&rclk=1,開啟出現錯誤:Message: \n",
      "該網址https://www.google.com/maps/place/JK+STUDIO+Modern+Asia+%28%E5%8E%9FJK+STUDIO+%E6%96%B0%E7%BE%A9%E6%B3%95%E6%96%99%E7%90%86%29/data=!4m7!3m6!1s0x3442abbc19ebcfcf:0x530bb9197daa5f0f!8m2!3d25.0428905!4d121.5662123!16s%2Fg%2F11cn5mr14m!19sChIJz8_rGbyrQjQRD1-qfRm5C1M?authuser=0&hl=zh-TW&rclk=1,開啟出現錯誤:Message: \n",
      "該網址https://www.google.com/maps/place/%E9%9D%9E%E5%B8%B8%E6%B3%B0/data=!4m7!3m6!1s0x3442abb0844fd98f:0x1515af86676ee725!8m2!3d25.0355031!4d121.56786!16s%2Fg%2F1tkv7gl3!19sChIJj9lPhLCrQjQRJeduZ4avFRU?authuser=0&hl=zh-TW&rclk=1,開啟出現錯誤:Message: \n",
      "該網址https://www.google.com/maps/place/JOYCE+EAST/data=!4m7!3m6!1s0x3442abb1b078eb93:0x88e358a4dcd451b!8m2!3d25.0324206!4d121.5692132!16s%2Fg%2F1vk6wxn5!19sChIJk-t4sLGrQjQRG0XNTYo1jgg?authuser=0&hl=zh-TW&rclk=1,開啟出現錯誤:Message: \n",
      "該網址https://www.google.com/maps/place/the+Diner+%E6%A8%82%E5%AD%90%E4%BF%A1%E7%BE%A9%E6%97%97%E8%89%A6%E5%BA%97/data=!4m7!3m6!1s0x3442abb0b0c4fc8d:0xa339102f760c962c!8m2!3d25.035347!4d121.5660706!16s%2Fg%2F11gzkv3fk!19sChIJjfzEsLCrQjQRLJYMdi8QOaM?authuser=0&hl=zh-TW&rclk=1,開啟出現錯誤:Message: \n",
      "該網址https://www.google.com/maps/place/%E6%98%9F%E6%9C%9F%E4%BA%94%E7%BE%8E%E5%BC%8F%E9%A4%90%E5%BB%B3+%E4%BF%A1%E7%BE%A9%E9%A4%90%E5%BB%B3/data=!4m7!3m6!1s0x3442abb95faee141:0x95c6e6de82336969!8m2!3d25.0407344!4d121.5653917!16s%2Fg%2F12hp5rlr7!19sChIJQeGuX7mrQjQRaWkzgt7mxpU?authuser=0&hl=zh-TW&rclk=1,開啟出現錯誤:Message: \n",
      "該網址https://www.google.com/maps/place/HOOTERS%E7%BE%8E%E5%BC%8F%E9%A4%90%E5%BB%B3+%E4%BF%A1%E7%BE%A9%E5%BA%97/data=!4m7!3m6!1s0x3442ab8cfd861c45:0x17985ef75e6b5b2d!8m2!3d25.036672!4d121.5681307!16s%2Fg%2F11j5b4rz6g!19sChIJRRyG_YyrQjQRLVtrXvdemBc?authuser=0&hl=zh-TW&rclk=1,開啟出現錯誤:Message: \n",
      "該網址https://www.google.com/maps/place/%E9%A3%9F%E4%BB%A4shabu+%E2%88%A3+%E4%BF%A1%E7%BE%A9%E5%8D%80%E9%A0%82%E7%B4%9A%E9%8D%8B%E7%89%A9+%28%E5%8F%B0%E5%8C%97101%E8%B3%BC%E7%89%A9%E4%B8%AD%E5%BF%83%29/data=!4m7!3m6!1s0x3442ababb720b911:0x661bd181279c1178!8m2!3d25.0334929!4d121.564101!16s%2Fg%2F11jmxrb9_s!19sChIJEbkgt6urQjQReBGcJ4HRG2Y?authuser=0&hl=zh-TW&rclk=1,開啟出現錯誤:Message: \n",
      "該網址https://www.google.com/maps/place/%E5%90%89%E6%AF%94%E9%AE%AE%E9%87%80%E9%A4%90%E5%BB%B3+-+%E4%BF%A1%E7%BE%A9%E5%BA%97/data=!4m7!3m6!1s0x3442abb09ec78f7d:0x6e43fb375234ebc6!8m2!3d25.0371587!4d121.5671263!16s%2Fg%2F1pzq9ptln!19sChIJfY_HnrCrQjQRxus0Ujf7Q24?authuser=0&hl=zh-TW&rclk=1,開啟出現錯誤:Message: \n",
      "該網址https://www.google.com/maps/place/KiKi%E9%A4%90%E5%BB%B3%28%E4%BF%A1%E7%BE%A9%E8%AA%A0%E5%93%81%E5%BA%97%29/data=!4m7!3m6!1s0x3442abbbd465615f:0xd37a9ffbee37a241!8m2!3d25.039664!4d121.5657554!16s%2Fg%2F11g_vrls1!19sChIJX2Fl1LurQjQRQaI37vufetM?authuser=0&hl=zh-TW&rclk=1,開啟出現錯誤:Message: \n",
      "該網址https://www.google.com/maps/place/%E6%AA%80%E5%B3%B6%E9%A6%99%E6%B8%AF%E8%8C%B6%E9%A4%90%E5%BB%B3_%E4%BF%A1%E7%BE%A9%E5%BA%97/data=!4m7!3m6!1s0x3442abba740a1973:0x59c04582fb7969cb!8m2!3d25.0368522!4d121.5672633!16s%2Fg%2F11g7ztkmq6!19sChIJcxkKdLqrQjQRy2l5-4JFwFk?authuser=0&hl=zh-TW&rclk=1,開啟出現錯誤:Message: \n",
      "該網址https://www.google.com/maps/place/%E6%97%AD%E9%9B%86+%E5%92%8C%E9%A3%9F%E9%9B%86%E9%8C%A6+%E4%BF%A1%E7%BE%A9%E5%BA%97/data=!4m7!3m6!1s0x34429fa77fff67a3:0x2e0586ed07ea419!8m2!3d25.0367178!4d121.5679135!16s%2Fg%2F11j1hjktyh!19sChIJo2f_f6efQjQRGaR-0G5Y4AI?authuser=0&hl=zh-TW&rclk=1,開啟出現錯誤:Message: \n",
      "該網址https://www.google.com/maps/place/bar+%26+restaurant+a%C2%B3+%E6%96%B0%E7%BE%A9%E5%BC%8F%E9%A4%90%E5%BB%B3/data=!4m7!3m6!1s0x3442abbba86a7507:0xb86fc4ac5d44ba0c!8m2!3d25.0396219!4d121.567641!16s%2Fg%2F1hc1pgq3d!19sChIJB3VqqLurQjQRDLpEXazEb7g?authuser=0&hl=zh-TW&rclk=1,開啟出現錯誤:Message: \n",
      "該網址https://www.google.com/maps/place/Miga+Kitchen+Pasta+.+%E7%B1%B3%E5%AE%B6%E5%BB%9A%E6%88%BF%E7%BE%A9%E5%A4%A7%E5%88%A9%E9%BA%B5/data=!4m7!3m6!1s0x3442abc9f222936d:0x7ed9c06693833816!8m2!3d25.0335769!4d121.5589501!16s%2Fg%2F11b7v3k4n0!19sChIJbZMi8smrQjQRFjiDk2bA2X4?authuser=0&hl=zh-TW&rclk=1,開啟出現錯誤:Message: \n",
      "該網址https://www.google.com/maps/place/Miga+Kitchen+Pasta+.+%E7%B1%B3%E5%AE%B6%E5%BB%9A%E6%88%BF%E7%BE%A9%E5%A4%A7%E5%88%A9%E9%BA%B5/data=!4m7!3m6!1s0x3442abc9f222936d:0x7ed9c06693833816!8m2!3d25.0335769!4d121.5589501!16s%2Fg%2F11b7v3k4n0!19sChIJbZMi8smrQjQRFjiDk2bA2X4?authuser=0&hl=zh-TW&rclk=1,開啟出現錯誤:Message: \n",
      "該網址https://www.google.com/maps/place/L%E2%80%99ATELIER+de+Jo%C3%ABl+Robuchon%E4%BE%AF%E5%B8%83%E9%9B%84%E6%B3%95%E5%BC%8F%E9%A4%90%E5%BB%B3/data=!4m7!3m6!1s0x3442abbba8fb7f31:0xfe9a2c13dc0092cb!8m2!3d25.0398624!4d121.5676195!16s%2Fg%2F1vyxg3cx!19sChIJMX_7qLurQjQRy5IA3BMsmv4?authuser=0&hl=zh-TW&rclk=1,開啟出現錯誤:Message: \n",
      "該網址https://www.google.com/maps/place/%E3%80%90The+Chips+%E4%BF%A1%E7%BE%A9%E5%BA%97%E3%80%91/data=!4m7!3m6!1s0x3442abc63cc4de1d:0x2b0bfdcf79ea3536!8m2!3d25.03531!4d121.5660665!16s%2Fg%2F12hl940sg!19sChIJHd7EPMarQjQRNjXqec_9Cys?authuser=0&hl=zh-TW&rclk=1,開啟出現錯誤:Message: \n",
      "該網址https://www.google.com/maps/place/PappaRich%E9%87%91%E7%88%B8%E7%88%B8-%E6%96%B0%E5%85%89%E4%BF%A1%E7%BE%A9A9%E5%BA%97/data=!4m7!3m6!1s0x3442abba699fcffd:0x9b31617011ad9314!8m2!3d25.0366706!4d121.5667018!16s%2Fg%2F11cnc0cbx6!19sChIJ_c-fabqrQjQRFJOtEXBhMZs?authuser=0&hl=zh-TW&rclk=1,開啟出現錯誤:Message: \n",
      "該網址https://www.google.com/maps/place/%E8%80%81%E4%B9%BE%E6%9D%AF+%E4%BF%A1%E7%BE%A9%E5%BA%97/data=!4m7!3m6!1s0x3442abb0a47226ad:0x90d88d2120616327!8m2!3d25.0365352!4d121.5667157!16s%2Fg%2F1tfb4810!19sChIJrSZypLCrQjQRJ2NhICGN2JA?authuser=0&hl=zh-TW&rclk=1,開啟出現錯誤:Message: \n",
      "該網址https://www.google.com/maps/place/%E6%B3%B0%E9%9B%86+%E5%BE%AE%E9%A2%A8%E4%BF%A1%E7%BE%A9%E5%BA%97/data=!4m7!3m6!1s0x3442abbb94cbb63d:0x515c23f3a15ad278!8m2!3d25.0405044!4d121.5668964!16s%2Fg%2F11cltvn48z!19sChIJPbbLlLurQjQReNJaofMjXFE?authuser=0&hl=zh-TW&rclk=1,開啟出現錯誤:Message: \n",
      "該網址https://www.google.com/maps/place/%E6%BA%AB%E5%BA%A6%E5%B0%8F%E9%A4%A8Chaleureux/data=!4m7!3m6!1s0x3442abb480e9ee79:0x9f1ff76bd030f122!8m2!3d25.0287577!4d121.5652633!16s%2Fg%2F11cjhsnlkk!19sChIJee7pgLSrQjQRIvEw0Gv3H58?authuser=0&hl=zh-TW&rclk=1,開啟出現錯誤:Message: \n",
      "該網址https://www.google.com/maps/place/%E6%BA%AB%E5%BA%A6%E5%B0%8F%E9%A4%A8Chaleureux/data=!4m7!3m6!1s0x3442abb480e9ee79:0x9f1ff76bd030f122!8m2!3d25.0287577!4d121.5652633!16s%2Fg%2F11cjhsnlkk!19sChIJee7pgLSrQjQRIvEw0Gv3H58?authuser=0&hl=zh-TW&rclk=1,開啟出現錯誤:Message: \n",
      "該網址https://www.google.com/maps/place/Selfish+Burger%E8%87%AA%E7%A7%81%E6%BC%A2%E5%A0%A1/data=!4m7!3m6!1s0x3442abb595396f5d:0xa2fed668f5965c3d!8m2!3d25.0310263!4d121.5611238!16s%2Fg%2F11c0r3j594!19sChIJXW85lbWrQjQRPVyW9WjW_qI?authuser=0&hl=zh-TW&rclk=1,開啟出現錯誤:Message: \n",
      "該網址https://www.google.com/maps/place/Selfish+Burger%E8%87%AA%E7%A7%81%E6%BC%A2%E5%A0%A1/data=!4m7!3m6!1s0x3442abb595396f5d:0xa2fed668f5965c3d!8m2!3d25.0310263!4d121.5611238!16s%2Fg%2F11c0r3j594!19sChIJXW85lbWrQjQRPVyW9WjW_qI?authuser=0&hl=zh-TW&rclk=1,開啟出現錯誤:Message: \n",
      "該網址https://www.google.com/maps/place/%E5%92%8C%E7%89%9B47/data=!4m7!3m6!1s0x3442ab15769689fb:0x2d67917ec3f59725!8m2!3d25.0344547!4d121.5678798!16s%2Fg%2F11g__58z2t!19sChIJ-4mWdhWrQjQRJZf1w36RZy0?authuser=0&hl=zh-TW&rclk=1,開啟出現錯誤:Message: \n",
      "該網址https://www.google.com/maps/place/Meat+Love%E6%A9%A1%E6%9C%A8%E7%82%AD%E7%81%AB%E9%9F%93%E5%9C%8B%E7%83%A4%E8%82%89+%E4%BF%A1%E7%BE%A9%E5%BA%97/data=!4m7!3m6!1s0x3442abca0295f6cb:0x57e1fd44327e882e!8m2!3d25.0328911!4d121.5591635!16s%2Fg%2F11dxdms3gv!19sChIJy_aVAsqrQjQRLoh-MkT94Vc?authuser=0&hl=zh-TW&rclk=1,開啟出現錯誤:Message: \n",
      "該網址https://www.google.com/maps/place/Meat+Love%E6%A9%A1%E6%9C%A8%E7%82%AD%E7%81%AB%E9%9F%93%E5%9C%8B%E7%83%A4%E8%82%89+%E4%BF%A1%E7%BE%A9%E5%BA%97/data=!4m7!3m6!1s0x3442abca0295f6cb:0x57e1fd44327e882e!8m2!3d25.0328911!4d121.5591635!16s%2Fg%2F11dxdms3gv!19sChIJy_aVAsqrQjQRLoh-MkT94Vc?authuser=0&hl=zh-TW&rclk=1,開啟出現錯誤:Message: \n",
      "該網址https://www.google.com/maps/place/%E5%BF%83%E6%BD%AE%E9%A3%AF%E5%BA%97/data=!4m7!3m6!1s0x3442abce7987eb23:0xd66dd276f16c59a2!8m2!3d25.0405014!4d121.5665695!16s%2Fg%2F11fqz4vll0!19sChIJI-uHec6rQjQRolls8XbSbdY?authuser=0&hl=zh-TW&rclk=1,開啟出現錯誤:Message: \n",
      "該網址https://www.google.com/maps/place/French+Windows+British+Teahouse+%E7%90%BA%E8%98%AD%E7%B6%BA%E7%91%A5%E6%9C%B5%E8%8B%B1%E5%BC%8F%E8%8C%B6%E9%A4%90%E9%A4%A8/data=!4m7!3m6!1s0x3442abbbfeda0867:0x30f250fd1290f96b!8m2!3d25.0433253!4d121.5634186!16s%2Fg%2F1pzq600pk!19sChIJZwja_rurQjQRa_mQEv1Q8jA?authuser=0&hl=zh-TW&rclk=1,開啟出現錯誤:Message: \n",
      "該網址https://www.google.com/maps/place/French+Windows+British+Teahouse+%E7%90%BA%E8%98%AD%E7%B6%BA%E7%91%A5%E6%9C%B5%E8%8B%B1%E5%BC%8F%E8%8C%B6%E9%A4%90%E9%A4%A8/data=!4m7!3m6!1s0x3442abbbfeda0867:0x30f250fd1290f96b!8m2!3d25.0433253!4d121.5634186!16s%2Fg%2F1pzq600pk!19sChIJZwja_rurQjQRa_mQEv1Q8jA?authuser=0&hl=zh-TW&rclk=1,開啟出現錯誤:Message: \n",
      "該網址https://www.google.com/maps/place/%E5%90%89%E8%B1%9A%E5%B1%8B+%E8%AA%A0%E5%93%81%E4%BF%A1%E7%BE%A9%E5%BA%97/data=!4m7!3m6!1s0x3442abbbd8e95bab:0xd10ef5e1add0def3!8m2!3d25.0397198!4d121.5658738!16s%2Fg%2F11c1q8fxt1!19sChIJq1vp2LurQjQR897QreH1DtE?authuser=0&hl=zh-TW&rclk=1,開啟出現錯誤:Message: \n",
      "該網址https://www.google.com/maps/place/%E6%B3%B0%E5%B8%82%E5%A0%B4+Spice+Market/data=!4m7!3m6!1s0x3442abbbd49807b9:0x5bea25cbb9ae71ae!8m2!3d25.0395349!4d121.5656192!16s%2Fg%2F1tfl7c41!19sChIJuQeY1LurQjQRrnGuucsl6ls?authuser=0&hl=zh-TW&rclk=1,開啟出現錯誤:Message: \n",
      "該網址https://www.google.com/maps/place/%E9%BB%9E%E9%BB%9E%E5%BF%83+%E4%BF%A1%E7%BE%A9%E5%BD%A2%E8%B1%A1%E5%BA%97/data=!4m7!3m6!1s0x3442abbb92b7e1ad:0xb9c97c495fbc99d7!8m2!3d25.0406764!4d121.5665457!16s%2Fg%2F11cmckvcj9!19sChIJreG3krurQjQR15m8X0l8ybk?authuser=0&hl=zh-TW&rclk=1,開啟出現錯誤:Message: \n",
      "該網址https://www.google.com/maps/place/%E6%A8%82%E8%BB%92%E6%9D%BE%E9%98%AA%E4%BA%AD/data=!4m7!3m6!1s0x3442ab749825aa2f:0xb1a72e3b4e20e2d!8m2!3d25.0395325!4d121.5667147!16s%2Fg%2F11f5w40y3h!19sChIJL6olmHSrQjQRLQ7itONyGgs?authuser=0&hl=zh-TW&rclk=1,開啟出現錯誤:Message: \n",
      "該網址https://www.google.com/maps/place/%E6%A9%98%E8%89%B2%E6%B6%AE%E6%B6%AE%E5%B1%8BA9%E9%A4%A8/data=!4m7!3m6!1s0x3442ab29dd20982f:0xd224611b23f03b98!8m2!3d25.0363392!4d121.5667018!16s%2Fg%2F11gmfxr2zs!19sChIJL5gg3SmrQjQRmDvwIxthJNI?authuser=0&hl=zh-TW&rclk=1,開啟出現錯誤:Message: \n",
      "該網址https://www.google.com/maps/place/L.A+PHO%E8%B6%8A%E5%8D%97%E6%B2%B3%E7%B2%89/data=!4m7!3m6!1s0x3442abb086a12369:0x233a096b968927a1!8m2!3d25.0355731!4d121.5681022!16s%2Fg%2F11hbbrqsw0!19sChIJaSOhhrCrQjQRoSeJlmsJOiM?authuser=0&hl=zh-TW&rclk=1,開啟出現錯誤:Message: \n",
      "該網址https://www.google.com/maps/place/INPARADISE+%E9%A5%97%E9%A5%97+%E4%BF%A1%E7%BE%A9%E5%BA%97/data=!4m7!3m6!1s0x3442abbbeadeeae9:0x78dbb9243e9c680a!8m2!3d25.0405099!4d121.5671637!16s%2Fg%2F11g8fl1vjd!19sChIJ6ere6rurQjQRCmicPiS523g?authuser=0&hl=zh-TW&rclk=1,開啟出現錯誤:Message: \n",
      "該網址https://www.google.com/maps/place/%E6%B7%BB%E5%A5%BD%E9%81%8B+%28%E6%96%B0%E5%85%89%E4%B8%89%E8%B6%8AA8%29/data=!4m7!3m6!1s0x3442abba377564c7:0x1edd390bee64be3f!8m2!3d25.0382241!4d121.5667909!16s%2Fg%2F11b6q8qdnc!19sChIJx2R1N7qrQjQRP75k7gs53R4?authuser=0&hl=zh-TW&rclk=1,開啟出現錯誤:Message: \n",
      "該網址https://www.google.com/maps/place/%E5%88%86%E4%BA%AB%E9%A4%90%E5%BB%B3/data=!4m7!3m6!1s0x3442aa4d335e640f:0xe7ad873992525b01!8m2!3d25.0396219!4d121.567641!16s%2Fg%2F1tdmblj5!19sChIJD2ReM02qQjQRAVtSkjmHrec?authuser=0&hl=zh-TW&rclk=1,開啟出現錯誤:Message: \n",
      "該網址https://www.google.com/maps/place/%E7%93%A6%E5%9F%8E+%E5%8F%B0%E5%8C%97%E5%BE%AE%E9%A2%A8%E4%BF%A1%E7%BE%A9%E5%BA%97/data=!4m7!3m6!1s0x3442ab07d22530e5:0xe13611fd3cc4e3cb!8m2!3d25.0406017!4d121.5670112!16s%2Fg%2F11h6yrl7j4!19sChIJ5TAl0gerQjQRy-PEPP0RNuE?authuser=0&hl=zh-TW&rclk=1,開啟出現錯誤:Message: \n",
      "該網址https://www.google.com/maps/place/%E5%8B%9E%E7%91%9E%E6%96%AF%E7%89%9B%E8%82%8B%E6%8E%92%E9%A4%90%E5%BB%B3/data=!4m7!3m6!1s0x3442abb07fd6078f:0x98a81462e0871f0!8m2!3d25.039633!4d121.5678702!16s%2Fg%2F1tggr6p7!19sChIJjwfWf7CrQjQR8HEILkaBigk?authuser=0&hl=zh-TW&rclk=1,開啟出現錯誤:Message: \n",
      "該網址https://www.google.com/maps/place/%E5%AF%AC%E5%B7%B7%E5%AD%90%E9%8D%8B%E5%93%81%E7%BE%8E%E9%A3%9F+%E5%BE%AE%E9%A2%A8%E4%BF%A1%E7%BE%A9%E5%BA%97/data=!4m7!3m6!1s0x3442abbb94bbee3b:0xff80aeb28966080b!8m2!3d25.0405444!4d121.5667909!16s%2Fg%2F11cmn7tnkn!19sChIJO-67lLurQjQRCwhmibKugP8?authuser=0&hl=zh-TW&rclk=1,開啟出現錯誤:Message: \n",
      "該網址https://www.google.com/maps/place/%E7%93%A6%E5%9F%8E%E6%B3%B0%E5%9C%8B%E6%96%99%E7%90%86+-+%E5%8F%B0%E5%8C%97%E4%B8%89%E8%B6%8A%E4%BF%A1%E7%BE%A9%E5%BA%97/data=!4m7!3m6!1s0x3442abb0a4722229:0x4c445651e4bfad0d!8m2!3d25.0366706!4d121.5667018!16s%2Fg%2F1tfzdg80!19sChIJKSJypLCrQjQRDa2_5FFWREw?authuser=0&hl=zh-TW&rclk=1,開啟出現錯誤:Message: \n",
      "該網址https://www.google.com/maps/place/%E6%96%B0%E9%AB%98%E8%BB%92%E4%BF%A1%E7%BE%A9%E5%BA%97%28A11-B2%29/data=!4m7!3m6!1s0x3442abca004f3b09:0x251b1ea1a38c3c58!8m2!3d25.0367098!4d121.567279!16s%2Fg%2F11hzy7lb_c!19sChIJCTtPAMqrQjQRWDyMo6EeGyU?authuser=0&hl=zh-TW&rclk=1,開啟出現錯誤:Message: \n",
      "該網址https://www.google.com/maps/place/%E7%B4%85%E8%B1%86%E9%A3%9F%E5%BA%9C+%E4%BF%A1%E7%BE%A9%E5%BA%97/data=!4m7!3m6!1s0x3442abb0a4722229:0xe5c7f07cd1738202!8m2!3d25.0363392!4d121.5667018!16s%2Fg%2F1tj7t2f_!19sChIJKSJypLCrQjQRAoJz0Xzwx-U?authuser=0&hl=zh-TW&rclk=1,開啟出現錯誤:Message: \n",
      "該網址https://www.google.com/maps/place/%E5%8B%9E%E7%91%9E%E6%96%AF%E7%89%9B%E8%82%8B%E6%8E%92%E9%A4%90%E5%BB%B3/data=!4m7!3m6!1s0x3442abb07fd6078f:0x98a81462e0871f0!8m2!3d25.039633!4d121.5678702!16s%2Fg%2F1tggr6p7!19sChIJjwfWf7CrQjQR8HEILkaBigk?authuser=0&hl=zh-TW&rclk=1,開啟出現錯誤:Message: \n",
      "該網址https://www.google.com/maps/place/%E9%BB%98%E7%88%BE+pasta+pizza%28%E5%8F%B0%E5%8C%97%E8%AA%A0%E5%93%81%E4%BF%A1%E7%BE%A9%E5%BA%97%29/data=!4m7!3m6!1s0x3442ab3d4575524b:0x2570d825bd5c95c0!8m2!3d25.0397197!4d121.5658739!16s%2Fg%2F11kx2smmzw!19sChIJS1J1RT2rQjQRwJVcvSXYcCU?authuser=0&hl=zh-TW&rclk=1,開啟出現錯誤:Message: \n",
      "該網址https://www.google.com/maps/place/%E5%B4%94%E5%A6%AE%E5%82%91%E6%81%A9+%E5%BE%AE%E9%A2%A8%E4%BF%A1%E7%BE%A9%E5%BA%97/data=!4m7!3m6!1s0x3442abbbeadeeae9:0x807e160cbf6effb2!8m2!3d25.040767!4d121.566845!16s%2Fg%2F11byxg5zbl!19sChIJ6ere6rurQjQRsv9uvwwWfoA?authuser=0&hl=zh-TW&rclk=1,開啟出現錯誤:Message: \n",
      "該網址https://www.google.com/maps/place/%E8%8E%AB%E7%88%BE%E9%A0%93%E7%89%9B%E6%8E%92%E9%A4%A8/data=!4m7!3m6!1s0x3442abbb94cbb63d:0x696e95c68f5262ba!8m2!3d25.0405044!4d121.5668964!16s%2Fg%2F11cmfcnd5t!19sChIJPbbLlLurQjQRumJSj8aVbmk?authuser=0&hl=zh-TW&rclk=1,開啟出現錯誤:Message: \n",
      "該網址https://www.google.com/maps/place/YKNK+club%E7%87%92%E8%82%89%E5%90%83%E5%88%B0%E9%A3%BD/data=!4m7!3m6!1s0x3442abd4e9c79125:0xf61f6ff57f43b68f!8m2!3d25.0367179!4d121.5681308!16s%2Fg%2F11hf3r7hpn!19sChIJJZHH6dSrQjQRj7ZDf_VvH_Y?authuser=0&hl=zh-TW&rclk=1,開啟出現錯誤:Message: \n",
      "該網址https://www.google.com/maps/place/%E9%A5%97%E6%B3%B0%E5%A4%9A+%E5%BE%AE%E9%A2%A8%E6%9D%BE%E9%AB%98%E5%BA%97/data=!4m7!3m6!1s0x3442abba4b902271:0x39a07169351cd6df!8m2!3d25.0387076!4d121.56729!16s%2Fg%2F11hb1ty713!19sChIJcSKQS7qrQjQR39YcNWlxoDk?authuser=0&hl=zh-TW&rclk=1,開啟出現錯誤:Message: \n",
      "該網址https://www.google.com/maps/place/%E9%96%8B%E9%A3%AF%E5%B7%9D%E9%A3%9F%E5%A0%82+%E5%B8%82%E5%BA%9C%E5%BA%97/data=!4m7!3m6!1s0x3442abb95faee141:0xc1d5f226fef09fdb!8m2!3d25.0406227!4d121.5654586!16s%2Fg%2F1pzr2k7h4!19sChIJQeGuX7mrQjQR25_w_iby1cE?authuser=0&hl=zh-TW&rclk=1,開啟出現錯誤:Message: \n",
      "該網址https://www.google.com/maps/place/1010+Hunan+Cuisine+Eslite+Xinyi+Restaurant/data=!4m7!3m6!1s0x3442abbbd49806cb:0x4ac814615eaf6055!8m2!3d25.0397197!4d121.5658739!16s%2Fg%2F1v_skyyg!19sChIJywaY1LurQjQRVWCvXmEUyEo?authuser=0&hl=zh-TW&rclk=1,開啟出現錯誤:Message: \n",
      "該網址https://www.google.com/maps/place/%E5%B8%95%E6%B3%B0%E5%AE%B6Baan+Phadthai+%E6%96%B0%E5%85%89A8%E5%BA%97/data=!4m7!3m6!1s0x3442ab76b6fc1d8f:0xcb3b25301a6b5313!8m2!3d25.0377664!4d121.5669236!16s%2Fg%2F11rwlh2j54!19sChIJjx38tnarQjQRE1NrGjAlO8s?authuser=0&hl=zh-TW&rclk=1,開啟出現錯誤:Message: \n",
      "該網址https://www.google.com/maps/place/%E8%89%BE%E6%9C%8B%E7%89%9B%E6%8E%92%E9%A4%90%E9%85%92%E9%A4%A8+%C3%80+POINT+STEAK+%26+BAR/data=!4m7!3m6!1s0x3442abbb86e23263:0x4bba0dfa5c756556!8m2!3d25.0412825!4d121.5678138!16s%2Fg%2F11gm952zgt!19sChIJYzLihrurQjQRVmV1XPoNuks?authuser=0&hl=zh-TW&rclk=1,開啟出現錯誤:Message: \n",
      "該網址https://www.google.com/maps/place/%E8%89%BE%E6%9C%8B%E7%89%9B%E6%8E%92%E9%A4%90%E9%85%92%E9%A4%A8+%C3%80+POINT+STEAK+%26+BAR/data=!4m7!3m6!1s0x3442abbb86e23263:0x4bba0dfa5c756556!8m2!3d25.0412825!4d121.5678138!16s%2Fg%2F11gm952zgt!19sChIJYzLihrurQjQRVmV1XPoNuks?authuser=0&hl=zh-TW&rclk=1,開啟出現錯誤:Message: \n",
      "該網址https://www.google.com/maps/place/%E6%AC%A3%E8%91%89%E6%97%A5%E6%9C%AC%E6%96%99%E7%90%86%E4%BF%A1%E7%BE%A9%E5%BA%97/data=!4m7!3m6!1s0x3442abb09ecf193f:0xed8a15b236144c98!8m2!3d25.0360953!4d121.567219!16s%2Fg%2F1tksl1f4!19sChIJPxnPnrCrQjQRmEwUNrIViu0?authuser=0&hl=zh-TW&rclk=1,開啟出現錯誤:Message: \n",
      "該網址https://www.google.com/maps/place/%E9%BC%8E%E6%B3%B0%E8%B1%90+101%E5%BA%97/data=!4m7!3m6!1s0x3442abb6e8257741:0x51d2055f43274319!8m2!3d25.03346!4d121.5644841!16s%2Fg%2F11gzdz57n!19sChIJQXcl6LarQjQRGUMnQ18F0lE?authuser=0&hl=zh-TW&rclk=1,開啟出現錯誤:Message: \n",
      "該網址https://www.google.com/maps/place/%E6%AC%A3%E8%91%89%E5%8F%B0%E8%8F%9C+%E4%BF%A1%E7%BE%A9%E6%96%B0%E5%A4%A9%E5%9C%B0A9%E5%BA%97/data=!4m7!3m6!1s0x3442abb0a47226ad:0xa3c29da266aed574!8m2!3d25.0366706!4d121.5667018!16s%2Fg%2F1twyx6v2!19sChIJrSZypLCrQjQRdNWuZqKdwqM?authuser=0&hl=zh-TW&rclk=1,開啟出現錯誤:Message: \n",
      "該網址https://www.google.com/maps/place/%E7%A8%BB%E8%88%8D%E9%A3%9F%E9%A4%A8+Rice+%26+Shine+%E8%AA%A0%E5%93%81%E4%BF%A1%E7%BE%A9%E5%BA%97/data=!4m7!3m6!1s0x3442ab70e64dab4b:0xe8c2e7b4b6082256!8m2!3d25.0397197!4d121.5658739!16s%2Fg%2F11q2p46_rt!19sChIJS6tN5nCrQjQRViIItrTnwug?authuser=0&hl=zh-TW&rclk=1,開啟出現錯誤:Message: \n",
      "該網址https://www.google.com/maps/place/%E7%8F%8D%E5%AF%B6%E6%B5%B7%E9%AE%AE+%E5%8F%B0%E5%8C%97%E4%BF%A1%E7%BE%A9%E5%BA%97+JUMBO+Seafood/data=!4m7!3m6!1s0x3442abba35ad0ac5:0x6ce2ca11990604cc!8m2!3d25.0387499!4d121.5667774!16s%2Fg%2F11gdlyzh82!19sChIJxQqtNbqrQjQRzAQGmRHK4mw?authuser=0&hl=zh-TW&rclk=1,開啟出現錯誤:Message: \n",
      "該網址https://www.google.com/maps/place/Pap%C3%A0Roy+%E7%BE%A9%E5%BC%8F%E6%89%8B%E4%BD%9C%E6%96%99%E7%90%86/data=!4m7!3m6!1s0x3442abd43f34d27f:0xf0bdf0480c038284!8m2!3d25.0428006!4d121.5629104!16s%2Fg%2F11fvts1zpv!19sChIJf9I0P9SrQjQRhIIDDEjwvfA?authuser=0&hl=zh-TW&rclk=1,開啟出現錯誤:Message: \n",
      "該網址https://www.google.com/maps/place/Pap%C3%A0Roy+%E7%BE%A9%E5%BC%8F%E6%89%8B%E4%BD%9C%E6%96%99%E7%90%86/data=!4m7!3m6!1s0x3442abd43f34d27f:0xf0bdf0480c038284!8m2!3d25.0428006!4d121.5629104!16s%2Fg%2F11fvts1zpv!19sChIJf9I0P9SrQjQRhIIDDEjwvfA?authuser=0&hl=zh-TW&rclk=1,開啟出現錯誤:Message: \n",
      "該網址https://www.google.com/maps/place/%E5%AE%8B%E5%BB%9A%E8%8F%9C%E9%A4%A8/data=!4m7!3m6!1s0x3442abb95596bec3:0x1feb3e03f2edcf3d!8m2!3d25.0417878!4d121.5654718!16s%2Fg%2F1tvrxdpt!19sChIJw76WVbmrQjQRPc_t8gM-6x8?authuser=0&hl=zh-TW&rclk=1,開啟出現錯誤:Message: \n",
      "該網址https://www.google.com/maps/place/%E5%AE%8B%E5%BB%9A%E8%8F%9C%E9%A4%A8/data=!4m7!3m6!1s0x3442abb95596bec3:0x1feb3e03f2edcf3d!8m2!3d25.0417878!4d121.5654718!16s%2Fg%2F1tvrxdpt!19sChIJw76WVbmrQjQRPc_t8gM-6x8?authuser=0&hl=zh-TW&rclk=1,開啟出現錯誤:Message: \n",
      "該網址https://www.google.com/maps/place/Salt+and+Stone/data=!4m7!3m6!1s0x3442ab37339ffe73:0x5ac4d593c297ca1d!8m2!3d25.0341222!4d121.5640212!16s%2Fg%2F11gzqd3gd8!19sChIJc_6fMzerQjQRHcqXwpPVxFo?authuser=0&hl=zh-TW&rclk=1,開啟出現錯誤:Message: \n",
      "該網址https://www.google.com/maps/place/%E5%8F%B0%E5%8C%97%E5%90%9B%E6%82%85%E9%85%92%E5%BA%97+ZIGA+ZAGA/data=!4m7!3m6!1s0x3442abb7a75a2dc9:0x8ed184b19b2cb270!8m2!3d25.0353371!4d121.5631414!16s%2Fg%2F1hc34lwvl!19sChIJyS1ap7erQjQRcLIsm7GE0Y4?authuser=0&hl=zh-TW&rclk=1,開啟出現錯誤:Message: \n",
      "該網址https://www.google.com/maps/place/NARA+Thai+Cuisine+%E6%B3%B0%E5%BC%8F%E6%96%99%E7%90%86+%E5%8F%B0%E5%8C%97%E7%B5%B1%E4%B8%80%E6%99%82%E4%BB%A3%E5%BA%97/data=!4m7!3m6!1s0x3442ab925f01148f:0x7ffb865ac5a4f3dc!8m2!3d25.0406227!4d121.5654586!16s%2Fg%2F11h6v33nmn!19sChIJjxQBX5KrQjQR3POkxVqG-38?authuser=0&hl=zh-TW&rclk=1,開啟出現錯誤:Message: \n",
      "該網址https://www.google.com/maps/place/%E5%8F%B0%E5%8C%97%E5%90%9B%E6%82%85%E9%85%92%E5%BA%97+ZIGA+ZAGA/data=!4m7!3m6!1s0x3442abb7a75a2dc9:0x8ed184b19b2cb270!8m2!3d25.0353371!4d121.5631414!16s%2Fg%2F1hc34lwvl!19sChIJyS1ap7erQjQRcLIsm7GE0Y4?authuser=0&hl=zh-TW&rclk=1,開啟出現錯誤:Message: \n",
      "該網址https://www.google.com/maps/place/%E9%BC%8E%E6%B3%B0%E8%B1%90+A13%E5%BA%97/data=!4m7!3m6!1s0x3442abee55b005c1:0x653b1d365b386044!8m2!3d25.0368737!4d121.5679503!16s%2Fg%2F11j8_w0dsq!19sChIJwQWwVe6rQjQRRGA4WzYdO2U?authuser=0&hl=zh-TW&rclk=1,開啟出現錯誤:Message: \n",
      "該網址https://www.google.com/maps/place/%E7%B1%8C%E5%AD%B8%E8%B2%BB%E9%A4%90%E5%BB%B3/data=!4m7!3m6!1s0x3442abc843c61ad1:0xfd31d8c62d5d9de!8m2!3d25.0369568!4d121.557991!16s%2Fg%2F1v3kf5rq!19sChIJ0RrGQ8irQjQR3tnVYowd0w8?authuser=0&hl=zh-TW&rclk=1,開啟出現錯誤:Message: \n",
      "該網址https://www.google.com/maps/place/%E7%B1%8C%E5%AD%B8%E8%B2%BB%E9%A4%90%E5%BB%B3/data=!4m7!3m6!1s0x3442abc843c61ad1:0xfd31d8c62d5d9de!8m2!3d25.0369568!4d121.557991!16s%2Fg%2F1v3kf5rq!19sChIJ0RrGQ8irQjQR3tnVYowd0w8?authuser=0&hl=zh-TW&rclk=1,開啟出現錯誤:Message: \n",
      "該網址https://www.google.com/maps/place/%E9%A5%97%E9%A3%9F%E5%A4%A9%E5%A0%82+%E5%8F%B0%E5%8C%97%E4%BF%A1%E7%BE%A9%E5%BA%97/data=!4m7!3m6!1s0x3442abb0b0c4fc8d:0xfe03d89700dc455!8m2!3d25.03531!4d121.5660665!16s%2Fg%2F11h03r221!19sChIJjfzEsLCrQjQRVcQNcIk94A8?authuser=0&hl=zh-TW&rclk=1,開啟出現錯誤:Message: \n",
      "該網址https://www.google.com/maps/place/%E5%A4%9C%E4%B8%8A%E6%B5%B7+Ye+Shanghai+%28Taipei%29/data=!4m7!3m6!1s0x3442abbbb609d58f:0x1865328c872fd50d!8m2!3d25.039787!4d121.5665893!16s%2Fg%2F11b7y6p6fd!19sChIJj9UJtrurQjQRDdUvh4wyZRg?authuser=0&hl=zh-TW&rclk=1,開啟出現錯誤:Message: \n",
      "該網址https://www.google.com/maps/place/%E9%BC%8E%E6%B3%B0%E8%B1%90+%E6%96%B0%E5%85%89A4%E5%BA%97/data=!4m7!3m6!1s0x3442abbbced155d3:0xe102c076b0599e9e!8m2!3d25.0397398!4d121.5665985!16s%2Fg%2F11bxdvtjc4!19sChIJ01XRzrurQjQRnp5ZsHbAAuE?authuser=0&hl=zh-TW&rclk=1,開啟出現錯誤:Message: \n",
      "該網址https://www.google.com/maps/place/%E6%97%A5%E6%9C%AC%E6%A9%8B%E6%B5%B7%E9%AE%AE%E4%B8%BC%E8%BE%BB%E5%8D%8A+%E5%BE%AE%E9%A2%A8%E4%BF%A1%E7%BE%A9%E5%BA%97/data=!4m7!3m6!1s0x3442ab6af4b09b55:0x1c5ad9a0eda4d2bb!8m2!3d25.0403175!4d121.5668746!16s%2Fg%2F11f62dc6z9!19sChIJVZuw9GqrQjQRu9Kk7aDZWhw?authuser=0&hl=zh-TW&rclk=1,開啟出現錯誤:Message: \n",
      "該網址https://www.google.com/maps/place/%E8%AB%8B%E8%AB%8B%E7%BE%A9%E5%A4%A7%E5%88%A9%E9%A4%90%E5%BB%B3%28%E9%80%B8%E4%BB%99%E5%BA%97%29/data=!4m7!3m6!1s0x3442abb9028cd75b:0xef994e5f95504dbb!8m2!3d25.0405367!4d121.5627951!16s%2Fg%2F11f3wrjqc0!19sChIJW9eMArmrQjQRu01QlV9Ome8?authuser=0&hl=zh-TW&rclk=1,開啟出現錯誤:Message: \n",
      "該網址https://www.google.com/maps/place/%E8%AB%8B%E8%AB%8B%E7%BE%A9%E5%A4%A7%E5%88%A9%E9%A4%90%E5%BB%B3%28%E9%80%B8%E4%BB%99%E5%BA%97%29/data=!4m7!3m6!1s0x3442abb9028cd75b:0xef994e5f95504dbb!8m2!3d25.0405367!4d121.5627951!16s%2Fg%2F11f3wrjqc0!19sChIJW9eMArmrQjQRu01QlV9Ome8?authuser=0&hl=zh-TW&rclk=1,開啟出現錯誤:Message: \n",
      "該網址https://www.google.com/maps/place/%E8%BE%9B%E6%AE%BF%E9%BA%BB%E8%BE%A3%E9%8D%8B%EF%BD%9C%E4%BF%A1%E7%BE%A9%E5%BA%97/data=!4m7!3m6!1s0x3442abb0b11fc55b:0x9893d5ac7ad71aa1!8m2!3d25.03531!4d121.5660665!16s%2Fg%2F11bcdxtf1b!19sChIJW8UfsbCrQjQRoRrXeqzVk5g?authuser=0&hl=zh-TW&rclk=1,開啟出現錯誤:Message: \n",
      "該網址https://www.google.com/maps/place/Wayne%E2%80%99s+New+York+%E7%91%8B%E6%81%A9%E7%B4%90%E7%B4%84%E7%BE%8E%E5%BC%8F%E9%BE%8D%E8%9D%A6%E7%89%9B%E6%8E%92%E9%A4%90%E5%BB%B3/data=!4m7!3m6!1s0x3442ab823343b2b7:0xc043d0a63eaeb78d!8m2!3d25.0301507!4d121.5580054!16s%2Fg%2F11fkmgvj72!19sChIJt7JDM4KrQjQRjbeuPqbQQ8A?authuser=0&hl=zh-TW&rclk=1,開啟出現錯誤:Message: \n",
      "該網址https://www.google.com/maps/place/Wayne%E2%80%99s+New+York+%E7%91%8B%E6%81%A9%E7%B4%90%E7%B4%84%E7%BE%8E%E5%BC%8F%E9%BE%8D%E8%9D%A6%E7%89%9B%E6%8E%92%E9%A4%90%E5%BB%B3/data=!4m7!3m6!1s0x3442ab823343b2b7:0xc043d0a63eaeb78d!8m2!3d25.0301507!4d121.5580054!16s%2Fg%2F11fkmgvj72!19sChIJt7JDM4KrQjQRjbeuPqbQQ8A?authuser=0&hl=zh-TW&rclk=1,開啟出現錯誤:Message: \n",
      "該網址https://www.google.com/maps/place/%E9%87%91%E8%89%B2%E4%B8%89%E9%BA%A5+%E4%BF%A1%E7%BE%A9%E8%AA%A0%E5%93%81%E5%BA%97/data=!4m7!3m6!1s0x3442abbbd49807b9:0x230ccd435b985a9c!8m2!3d25.0397223!4d121.56499!16s%2Fg%2F1tj5hvrw!19sChIJuQeY1LurQjQRnFqYW0PNDCM?authuser=0&hl=zh-TW&rclk=1,開啟出現錯誤:Message: \n",
      "該網址https://www.google.com/maps/place/%E8%81%9A%E8%81%9A%E6%A8%93+eslite+garden/data=!4m7!3m6!1s0x3442abca3d82a9c7:0x270ed261ff576abe!8m2!3d25.0445662!4d121.5614467!16s%2Fg%2F11r1vl_nqr!19sChIJx6mCPcqrQjQRvmpX_2HSDic?authuser=0&hl=zh-TW&rclk=1,開啟出現錯誤:Message: \n",
      "該網址https://www.google.com/maps/place/PACKIE%E9%8A%80%E6%9D%8F%E5%B7%9D%E9%85%92%E8%8F%9C%E9%A4%A8/data=!4m7!3m6!1s0x3442ab5e2697363d:0x778c5a3c3dd09a73!8m2!3d25.0366706!4d121.5667018!16s%2Fg%2F11fd70ln46!19sChIJPTaXJl6rQjQRc5rQPTxajHc?authuser=0&hl=zh-TW&rclk=1,開啟出現錯誤:Message: \n",
      "該網址https://www.google.com/maps/place/%E5%88%9D%E9%AD%9A%E9%90%B5%E6%9D%BF%E7%87%92-%E5%8F%B0%E5%8C%97%E4%BF%A1%E7%BE%A9A9/data=!4m7!3m6!1s0x3442ab536866991b:0xa569166e86b5383f!8m2!3d25.0366706!4d121.5667018!16s%2Fg%2F11fp1nqfh7!19sChIJG5lmaFOrQjQRPzi1hm4WaaU?authuser=0&hl=zh-TW&rclk=1,開啟出現錯誤:Message: \n",
      "該網址https://www.google.com/maps/place/%E5%B0%8F%E7%B4%85%E9%BB%9E%E6%96%B0%E5%8A%A0%E5%9D%A1%E5%BB%9A%E6%88%BF/data=!4m7!3m6!1s0x3442abb3ff075bcd:0x6fc3a18e04b4877a!8m2!3d25.0365442!4d121.567237!16s%2Fg%2F11fhz5wtz4!19sChIJzVsH_7OrQjQReoe0BI6hw28?authuser=0&hl=zh-TW&rclk=1,開啟出現錯誤:Message: \n",
      "該網址https://www.google.com/maps/place/%E5%B0%8F%E5%B7%9D%E9%8D%8B%E7%89%A9+%E6%96%B0%E5%85%89%E4%B8%89%E8%B6%8A%E4%BF%A1%E7%BE%A9A4%E5%BA%97%EF%BD%9C%E5%B0%8F%E8%BE%B2%E8%94%AC%E8%8F%9C%E7%81%AB%E9%8D%8B%EF%BD%9C%E4%BF%A1%E7%BE%A9%E5%8D%80%E7%BE%8E%E9%A3%9F+%E4%BF%A1%E7%BE%A9%E5%8D%80%E7%81%AB%E9%8D%8B+%E4%BF%A1%E7%BE%A9%E5%8D%80%E9%8D%8B%E7%89%A9+%E5%B8%82%E6%94%BF%E5%BA%9C%E7%BE%8E%E9%A3%9F+%E5%B8%82%E6%94%BF%E5%BA%9C%E7%81%AB%E9%8D%8B+%E5%B8%82%E6%94%BF%E5%BA%9C%E9%8D%8B%E7%89%A9+%E5%B0%8F%E8%BE%B2%E9%8D%8B%E7%89%A9/data=!4m7!3m6!1s0x3442ab06b63e95df:0x264dda711e12ac32!8m2!3d25.0396922!4d121.5664837!16s%2Fg%2F11j0ytv2sc!19sChIJ35U-tgarQjQRMqwSHnHaTSY?authuser=0&hl=zh-TW&rclk=1,開啟出現錯誤:Message: \n",
      "該網址https://www.google.com/maps/place/1010%E6%B9%98%E9%A3%9F%E5%A0%82+%E9%81%A0%E7%99%BE%E4%BF%A1%E7%BE%A9%E5%BA%97/data=!4m7!3m6!1s0x3442ab231b4221d1:0xf72618bb52c3e7c7!8m2!3d25.0369075!4d121.568032!16s%2Fg%2F11j0vg7thc!19sChIJ0SFCGyOrQjQRx-fDUrsYJvc?authuser=0&hl=zh-TW&rclk=1,開啟出現錯誤:Message: \n",
      "該網址https://www.google.com/maps/place/Lady+nara+%E6%9B%BC%E8%B0%B7%E6%96%B0%E6%B3%B0%E5%BC%8F%E6%96%99%E7%90%86+%E5%8F%B0%E5%8C%97%E7%B5%B1%E4%B8%80%E6%99%82%E4%BB%A3%E5%BA%97/data=!4m7!3m6!1s0x3442ab2475748553:0x798baab8ad66220b!8m2!3d25.040506!4d121.5651212!16s%2Fg%2F11fkwcxjb1!19sChIJU4V0dSSrQjQRCyJmrbiqi3k?authuser=0&hl=zh-TW&rclk=1,開啟出現錯誤:Message: \n",
      "該網址https://www.google.com/maps/place/%E5%8A%8D%E6%8C%81%E5%B1%8B+%28%E6%96%B0%E5%85%89%E4%B8%89%E8%B6%8AA4%29/data=!4m7!3m6!1s0x3442abbbb609d58f:0xf4d1c5ccd886706f!8m2!3d25.0396958!4d121.5667281!16s%2Fg%2F11btws5qs3!19sChIJj9UJtrurQjQRb3CG2MzF0fQ?authuser=0&hl=zh-TW&rclk=1,開啟出現錯誤:Message: \n",
      "該網址https://www.google.com/maps/place/%E5%B0%8F%E5%87%B1%E6%82%85%E5%8D%97%E6%9D%91%E5%B0%8F%E5%90%83%E5%BA%97/data=!4m7!3m6!1s0x3442abb5ed651da7:0x5678285f3350ff3e!8m2!3d25.0313429!4d121.5605751!16s%2Fg%2F1tfsf33y!19sChIJpx1l7bWrQjQRPv9QM18oeFY?authuser=0&hl=zh-TW&rclk=1,開啟出現錯誤:Message: \n",
      "該網址https://www.google.com/maps/place/%E5%B0%8F%E5%87%B1%E6%82%85%E5%8D%97%E6%9D%91%E5%B0%8F%E5%90%83%E5%BA%97/data=!4m7!3m6!1s0x3442abb5ed651da7:0x5678285f3350ff3e!8m2!3d25.0313429!4d121.5605751!16s%2Fg%2F1tfsf33y!19sChIJpx1l7bWrQjQRPv9QM18oeFY?authuser=0&hl=zh-TW&rclk=1,開啟出現錯誤:Message: \n",
      "該網址https://www.google.com/maps/place/Chope+Chope+Eatery/data=!4m7!3m6!1s0x3442aba659d6a701:0xa42f582f9320ea1d!8m2!3d25.0395325!4d121.5667553!16s%2Fg%2F11pxm96yrf!19sChIJAafWWaarQjQRHeogky9YL6Q?authuser=0&hl=zh-TW&rclk=1,開啟出現錯誤:Message: \n",
      "該網址https://www.google.com/maps/place/%E6%BC%BE%E7%B4%85%E8%8A%B1%E9%90%B5%E6%9D%BF%E7%87%92+%E6%96%B0%E5%85%89%E4%B8%89%E8%B6%8A%E4%BF%A1%E7%BE%A9%E6%96%B0%E5%A4%A9%E5%9C%B0A11%E5%BA%97/data=!4m7!3m6!1s0x3442abb09e8d2ea3:0xd141a9956eee7cc3!8m2!3d25.0370149!4d121.5672753!16s%2Fg%2F11c42j64jx!19sChIJoy6NnrCrQjQRw3zubpWpQdE?authuser=0&hl=zh-TW&rclk=1,開啟出現錯誤:Message: \n",
      "該網址https://www.google.com/maps/place/%E6%B6%AE%E4%B9%83%E8%91%89+%E4%BF%A1%E7%BE%A9%E9%81%A0%E7%99%BE%E5%BA%97/data=!4m7!3m6!1s0x3442abc94a673925:0x5862b2fd35913397!8m2!3d25.0368823!4d121.5681356!16s%2Fg%2F11jn4ks17j!19sChIJJTlnSsmrQjQRlzORNf2yYlg?authuser=0&hl=zh-TW&rclk=1,開啟出現錯誤:Message: \n",
      "該網址https://www.google.com/maps/place/Kame+House+%E5%A4%8F%E5%A8%81%E5%A4%B7%E9%A4%90%E5%BB%B3/data=!4m7!3m6!1s0x3442ab1c164a8815:0x2f13544b8c46e204!8m2!3d25.0399137!4d121.5625878!16s%2Fg%2F11ftw63yzr!19sChIJFYhKFhyrQjQRBOJGjEtUEy8?authuser=0&hl=zh-TW&rclk=1,開啟出現錯誤:Message: \n",
      "該網址https://www.google.com/maps/place/Kame+House+%E5%A4%8F%E5%A8%81%E5%A4%B7%E9%A4%90%E5%BB%B3/data=!4m7!3m6!1s0x3442ab1c164a8815:0x2f13544b8c46e204!8m2!3d25.0399137!4d121.5625878!16s%2Fg%2F11ftw63yzr!19sChIJFYhKFhyrQjQRBOJGjEtUEy8?authuser=0&hl=zh-TW&rclk=1,開啟出現錯誤:Message: \n",
      "該網址https://www.google.com/maps/place/%E5%A4%A7%E6%88%B6%E5%B1%8B+%E7%B5%B1%E4%B8%80%E6%99%82%E4%BB%A3%E5%8F%B0%E5%8C%97%E5%BA%97/data=!4m7!3m6!1s0x3442abb9607d6edf:0x7419b32913294dbe!8m2!3d25.0406227!4d121.5654586!16s%2Fg%2F1tf3x1wn!19sChIJ3259YLmrQjQRvk0pEymzGXQ?authuser=0&hl=zh-TW&rclk=1,開啟出現錯誤:Message: \n",
      "該網址https://www.google.com/maps/place/%E5%AF%92%E8%88%8D%E9%A3%9F%E8%AD%9C+%28%E5%8F%B0%E5%8C%97%E5%AF%92%E8%88%8D%E8%89%BE%E7%BE%8E%E9%85%92%E5%BA%97%29/data=!4m7!3m6!1s0x3442abba50d70b7b:0xfd0043d444898a1a!8m2!3d25.0382044!4d121.5680558!16s%2Fg%2F1hhj1gdg1!19sChIJewvXULqrQjQRGoqJRNRDAP0?authuser=0&hl=zh-TW&rclk=1,開啟出現錯誤:Message: \n",
      "該網址https://www.google.com/maps/place/%E5%96%9C%E6%86%A8%E5%85%92ENJOY+%E8%87%BA%E5%8C%97%E9%A4%90%E5%BB%B3/data=!4m7!3m6!1s0x3442abb9dc73545d:0x5167ff468716e829!8m2!3d25.037531!4d121.5639969!16s%2Fg%2F1t_tg_bk!19sChIJXVRz3LmrQjQRKegWh0b_Z1E?authuser=0&hl=zh-TW&rclk=1,開啟出現錯誤:Message: \n",
      "該網址https://www.google.com/maps/place/In+Between%E4%B9%8B%E9%96%93/data=!4m7!3m6!1s0x3442abbf17408db5:0x578b022dbb9c7617!8m2!3d25.044446!4d121.5618904!16s%2Fg%2F11cmqgprdg!19sChIJtY1AF7-rQjQRF3acuy0Ci1c?authuser=0&hl=zh-TW&rclk=1,開啟出現錯誤:Message: \n",
      "該網址https://www.google.com/maps/place/%E5%A6%82%E6%84%8F%E9%A4%90%E5%BB%B3+Ju-Yi+Hall/data=!4m7!3m6!1s0x3442abca24b27045:0x8e86fe17b63d9e69!8m2!3d25.0325764!4d121.5579893!16s%2Fg%2F11dxnq1j7d!19sChIJRXCyJMqrQjQRaZ49thf-ho4?authuser=0&hl=zh-TW&rclk=1,開啟出現錯誤:Message: \n",
      "該網址https://www.google.com/maps/place/Herbivore+A4%E4%BF%A1%E7%BE%A9%E5%BA%97+Vegan%E6%96%99%E7%90%86/data=!4m7!3m6!1s0x3442abbbcf12687d:0x64a5457fdd180360!8m2!3d25.0396424!4d121.5666917!16s%2Fg%2F11gg98tm3t!19sChIJfWgSz7urQjQRYAMY3X9FpWQ?authuser=0&hl=zh-TW&rclk=1,開啟出現錯誤:Message: \n",
      "該網址https://www.google.com/maps/place/%E6%98%8E%E6%B0%B4%E7%84%B6%E3%83%BB%E6%A8%82-%E4%BF%A1%E7%BE%A9%E6%9D%BE%E8%8F%B8%E5%BA%97/data=!4m7!3m6!1s0x3442ab67eb0d3cf7:0x7a38b2a7f6899357!8m2!3d25.0421947!4d121.5634958!16s%2Fg%2F11pdnmctx1!19sChIJ9zwN62erQjQRV5OJ9qeyOHo?authuser=0&hl=zh-TW&rclk=1,開啟出現錯誤:Message: \n",
      "該網址https://www.google.com/maps/place/%E6%98%8E%E6%B0%B4%E7%84%B6%E3%83%BB%E6%A8%82-%E4%BF%A1%E7%BE%A9%E6%9D%BE%E8%8F%B8%E5%BA%97/data=!4m7!3m6!1s0x3442ab67eb0d3cf7:0x7a38b2a7f6899357!8m2!3d25.0421947!4d121.5634958!16s%2Fg%2F11pdnmctx1!19sChIJ9zwN62erQjQRV5OJ9qeyOHo?authuser=0&hl=zh-TW&rclk=1,開啟出現錯誤:Message: \n",
      "該網址https://www.google.com/maps/place/%E6%AE%B5%E7%B4%94%E8%B2%9E-%E4%BF%A1%E7%BE%A9%E5%A8%81%E7%A7%80%E5%BA%97/data=!4m7!3m6!1s0x3442abb0eb407ad9:0x3dd33067c9a2ef16!8m2!3d25.0350303!4d121.5672607!16s%2Fg%2F11cmddsgjy!19sChIJ2XpA67CrQjQRFu-iyWcw0z0?authuser=0&hl=zh-TW&rclk=1,開啟出現錯誤:Message: \n",
      "該網址https://www.google.com/maps/place/%E9%A4%83%E5%AD%90%E6%A8%82+%E4%BF%A1%E7%BE%A9%E5%BA%97/data=!4m7!3m6!1s0x3442abbbf3f5b691:0xd8dd2938d36ba876!8m2!3d25.041389!4d121.566686!16s%2Fg%2F11gdgn3f9v!19sChIJkbb187urQjQRdqhr0zgp3dg?authuser=0&hl=zh-TW&rclk=1,開啟出現錯誤:Message: \n",
      "該網址https://www.google.com/maps/place/%E9%A4%83%E5%AD%90%E6%A8%82+%E4%BF%A1%E7%BE%A9%E5%BA%97/data=!4m7!3m6!1s0x3442abbbf3f5b691:0xd8dd2938d36ba876!8m2!3d25.041389!4d121.566686!16s%2Fg%2F11gdgn3f9v!19sChIJkbb187urQjQRdqhr0zgp3dg?authuser=0&hl=zh-TW&rclk=1,開啟出現錯誤:Message: \n",
      "該網址https://www.google.com/maps/place/%E6%8D%8C%E4%BC%8D%E6%B7%BB%E7%AC%AC+85TD+Chinese+Restaurant/data=!4m7!3m6!1s0x3442ab49f86eabef:0xd237abef985bfc0b!8m2!3d25.033976!4d121.5645389!16s%2Fg%2F11p6byz1hh!19sChIJ76tu-EmrQjQRC_xbmO-rN9I?authuser=0&hl=zh-TW&rclk=1,開啟出現錯誤:Message: \n",
      "該網址https://www.google.com/maps/place/THE%E4%B8%8A%E6%B5%B7/data=!4m7!3m6!1s0x3442ab8b2595e0d5:0xf55122254d6e3c97!8m2!3d25.0334929!4d121.564101!16s%2Fg%2F11jrs9c9hw!19sChIJ1eCVJYurQjQRlzxuTSUiUfU?authuser=0&hl=zh-TW&rclk=1,開啟出現錯誤:Message: \n",
      "該網址https://www.google.com/maps/place/Due+Italian%EF%BC%88%E5%8F%B0%E5%8C%97%E6%96%B0%E5%85%89A4%E5%88%86%E5%BA%97%EF%BC%89/data=!4m7!3m6!1s0x3442abcd179ac5f7:0x79ecafb7c4cd76a6!8m2!3d25.0396539!4d121.5667018!16s%2Fg%2F11fd7fygrn!19sChIJ98WaF82rQjQRpnbNxLev7Hk?authuser=0&hl=zh-TW&rclk=1,開啟出現錯誤:Message: \n",
      "該網址https://www.google.com/maps/place/%E5%8F%B0%E5%8C%97%E5%90%9B%E6%82%85%E9%85%92%E5%BA%97+%E5%87%B1%E8%8F%B2%E5%B1%8B+Caf%C3%A9/data=!4m7!3m6!1s0x3442abb7a7382081:0xe7fb508e2f04c968!8m2!3d25.0351102!4d121.5621894!16s%2Fg%2F1q64qphps!19sChIJgSA4p7erQjQRaMkEL45Q--c?authuser=0&hl=zh-TW&rclk=1,開啟出現錯誤:Message: \n",
      "該網址https://www.google.com/maps/place/%E9%9A%A8%E6%84%8F%E5%95%86%E5%8B%99%E9%85%92%E5%90%A7+%E9%9A%A8%E6%84%8F%E5%90%A7+101-36F/data=!4m7!3m6!1s0x3442abb6da80a7ad:0x22f7d31f4f2dc68b!8m2!3d25.0337675!4d121.5648602!16s%2Fg%2F1pzx6fxkq!19sChIJraeA2rarQjQRi8YtTx_T9yI?authuser=0&hl=zh-TW&rclk=1,開啟出現錯誤:Message: \n",
      "該網址https://www.google.com/maps/place/%E5%8F%B2%E5%AF%86%E6%96%AF%E8%8F%AF%E5%80%AB%E6%96%AF%E5%9F%BA%E7%89%9B%E6%8E%92%E9%A4%A8+Smith+%26+Wollensky/data=!4m7!3m6!1s0x3442abefec0a2d11:0xb705f1a4ba92d51f!8m2!3d25.0342883!4d121.5673522!16s%2Fg%2F11gxxzwdq0!19sChIJES0K7O-rQjQRH9WSuqTxBbc?authuser=0&hl=zh-TW&rclk=1,開啟出現錯誤:Message: \n",
      "該網址https://www.google.com/maps/place/Saffron+46/data=!4m7!3m6!1s0x3442ab12e6ae3f01:0xd8efab3ee4ae4207!8m2!3d25.0341753!4d121.5669112!16s%2Fg%2F11h2nzmkp9!19sChIJAT-u5hKrQjQRB0Ku5D6r79g?authuser=0&hl=zh-TW&rclk=1,開啟出現錯誤:Message: \n",
      "該網址https://www.google.com/maps/place/%E9%A6%AC%E5%8F%8B%E5%8F%8B%E5%8D%B0%E5%BA%A6%E5%BB%9A%E6%88%BF+Mayur+Indian+Kitchen,+MIK-1/data=!4m7!3m6!1s0x3442abb791fc36d9:0x32e2daa7c1cb5ce9!8m2!3d25.0368668!4d121.5616201!16s%2Fg%2F1vm_vld3!19sChIJ2Tb8kberQjQR6VzLwafa4jI?authuser=0&hl=zh-TW&rclk=1,開啟出現錯誤:Message: \n",
      "該網址https://www.google.com/maps/place/%E9%A6%AC%E5%8F%8B%E5%8F%8B%E5%8D%B0%E5%BA%A6%E5%BB%9A%E6%88%BF+Mayur+Indian+Kitchen,+MIK-1/data=!4m7!3m6!1s0x3442abb791fc36d9:0x32e2daa7c1cb5ce9!8m2!3d25.0368668!4d121.5616201!16s%2Fg%2F1vm_vld3!19sChIJ2Tb8kberQjQR6VzLwafa4jI?authuser=0&hl=zh-TW&rclk=1,開啟出現錯誤:Message: \n",
      "該網址https://www.google.com/maps/place/%E5%81%B7%E9%A3%AF%E8%B3%8A+%E9%81%A0%E7%99%BE%E4%BF%A1%E7%BE%A9A13%E5%BA%97/data=!4m7!3m6!1s0x3442ab4aaa04e12f:0xdbfdd0eebd9f0796!8m2!3d25.0367179!4d121.5681308!16s%2Fg%2F11l7tjxq48!19sChIJL-EEqkqrQjQRlgefve7Q_ds?authuser=0&hl=zh-TW&rclk=1,開啟出現錯誤:Message: \n",
      "該網址https://www.google.com/maps/place/%E6%B5%B7%E5%BA%95%E6%92%88%E7%81%AB%E9%8D%8B+%E4%BF%A1%E7%BE%A9%E5%BA%97/data=!4m7!3m6!1s0x3442abd6a99a9a67:0x1e2ecd843db87306!8m2!3d25.03531!4d121.5660665!16s%2Fg%2F11fj479qn0!19sChIJZ5qaqdarQjQRBnO4PYTNLh4?authuser=0&hl=zh-TW&rclk=1,開啟出現錯誤:Message: \n",
      "該網址https://www.google.com/maps/place/%E9%BB%91%E6%B5%AE%E5%92%96%E5%95%A1+%E5%8F%B0%E5%8C%97%E4%BF%A1%E7%BE%A9ATT%E5%BA%97/data=!4m7!3m6!1s0x3442ab837ee54d59:0x9e9cac7e08cefaf2!8m2!3d25.03531!4d121.5660665!16s%2Fg%2F11m_lvffn7!19sChIJWU3lfoOrQjQR8vrOCH6snJ4?authuser=0&hl=zh-TW&rclk=1,開啟出現錯誤:Message: \n",
      "該網址https://www.google.com/maps/place/%E7%8E%96%E9%BE%8D%E5%86%B0%E5%AE%A4-%E9%A6%99%E6%B8%AF%E8%8C%B6%E9%A4%90%E5%BB%B3%7C%E4%BF%A1%E7%BE%A9%E5%8D%80%E6%B8%AF%E5%BC%8F%E9%A3%B2%E8%8C%B6%7C%E6%B8%AF%E5%BC%8F%E6%96%99%E7%90%86%7C%E7%BE%8E%E9%A3%9F%E6%8E%A8%E8%96%A6%7C%E6%B8%AF%E5%BC%8F%E6%8E%A8%E8%96%A6%7C%E5%AE%B6%E5%BA%AD%E8%81%9A%E9%A4%88%7C%E9%99%84%E8%BF%91%E7%BE%8E%E9%A3%9F/data=!4m7!3m6!1s0x3442ab86bea570a3:0x1f32b12f0f776ddd!8m2!3d25.04469!4d121.56284!16s%2Fg%2F11j126nppy!19sChIJo3ClvoarQjQR3W13Dy-xMh8?authuser=0&hl=zh-TW&rclk=1,開啟出現錯誤:Message: \n",
      "該網址https://www.google.com/maps/place/%E7%8E%96%E9%BE%8D%E5%86%B0%E5%AE%A4-%E9%A6%99%E6%B8%AF%E8%8C%B6%E9%A4%90%E5%BB%B3%7C%E4%BF%A1%E7%BE%A9%E5%8D%80%E6%B8%AF%E5%BC%8F%E9%A3%B2%E8%8C%B6%7C%E6%B8%AF%E5%BC%8F%E6%96%99%E7%90%86%7C%E7%BE%8E%E9%A3%9F%E6%8E%A8%E8%96%A6%7C%E6%B8%AF%E5%BC%8F%E6%8E%A8%E8%96%A6%7C%E5%AE%B6%E5%BA%AD%E8%81%9A%E9%A4%88%7C%E9%99%84%E8%BF%91%E7%BE%8E%E9%A3%9F/data=!4m7!3m6!1s0x3442ab86bea570a3:0x1f32b12f0f776ddd!8m2!3d25.04469!4d121.56284!16s%2Fg%2F11j126nppy!19sChIJo3ClvoarQjQR3W13Dy-xMh8?authuser=0&hl=zh-TW&rclk=1,開啟出現錯誤:Message: \n",
      "該網址https://www.google.com/maps/place/UMAMI+%E9%87%91%E8%89%B2%E4%B8%89%E9%BA%A5/data=!4m7!3m6!1s0x3442ab64b936c329:0x6a6c6c8d77fc897e!8m2!3d25.0343985!4d121.5661798!16s%2Fg%2F11h0ykl6yk!19sChIJKcM2uWSrQjQRfon8d41sbGo?authuser=0&hl=zh-TW&rclk=1,開啟出現錯誤:Message: \n",
      "該網址https://www.google.com/maps/place/%E6%BA%AB%E5%8F%A8Cafe+%26+Dining+%E5%92%96%E5%95%A1%E9%A4%90%E9%85%92%E9%A4%A8/data=!4m7!3m6!1s0x3442ab246428501b:0x3585d331f8d9590b!8m2!3d25.0445662!4d121.5614467!16s%2Fg%2F11fnyxpsrq!19sChIJG1AoZCSrQjQRC1nZ-DHThTU?authuser=0&hl=zh-TW&rclk=1,開啟出現錯誤:Message: \n",
      "該網址https://www.google.com/maps/place/%E6%B6%AE%E4%B9%83%E8%91%89+%E7%B5%B1%E4%B8%80%E6%99%82%E4%BB%A3%E5%B8%82%E5%BA%9C%E5%BA%97/data=!4m7!3m6!1s0x3442abb95faee141:0xf1fe8da35cf896b6!8m2!3d25.0406821!4d121.5651557!16s%2Fg%2F11gfjrrz37!19sChIJQeGuX7mrQjQRtpb4XKON_vE?authuser=0&hl=zh-TW&rclk=1,開啟出現錯誤:Message: \n",
      "該網址https://www.google.com/maps/place/%E8%BC%AA%E8%BC%AA1976+%E5%92%8C%E9%A3%9F%E8%8C%B6%E9%85%92%E9%A7%85%2F+Lun+Lun1976%2F%E5%A4%A7%E8%BB%8A%E8%BC%AA-%E5%8F%B0%E5%8C%97%E4%BF%A1%E7%BE%A9%E9%A4%90%E9%85%92%E9%A4%A8+%E5%8C%85%E5%BB%82%E9%A4%90%E5%BB%B3+%E4%BA%BA%E6%B0%A3%E8%A8%82%E4%BD%8D+%E7%B2%BE%E7%B7%BB%E6%97%A5%E5%BC%8F%E6%96%99%E7%90%86+%E7%B6%B2%E7%BE%8E%E8%81%9A%E9%A4%90%E6%8E%92%E9%9A%8A%E7%BE%8E%E9%A3%9F%E9%A4%90%E5%BB%B3+%E7%95%B0%E5%9C%8B%E6%96%99%E7%90%86+2023%E5%BF%85%E5%90%83%E6%8E%92%E9%9A%8A%E7%BE%8E%E9%A3%9F+%E4%BF%A1%E7%BE%A9%E5%95%86%E5%9C%88+PTT+Dcard/data=!4m7!3m6!1s0x3442ab32672f8efd:0x4cdacd1bdaaa072!8m2!3d25.0371532!4d121.5672683!16s%2Fg%2F11t503pcmz!19sChIJ_Y4vZzKrQjQRcqCqvdGszQQ?authuser=0&hl=zh-TW&rclk=1,開啟出現錯誤:Message: \n",
      "該網址https://www.google.com/maps/place/%E8%BC%AA%E8%BC%AA1976+%E5%92%8C%E9%A3%9F%E8%8C%B6%E9%85%92%E9%A7%85%2F+Lun+Lun1976%2F%E5%A4%A7%E8%BB%8A%E8%BC%AA-%E5%8F%B0%E5%8C%97%E4%BF%A1%E7%BE%A9%E9%A4%90%E9%85%92%E9%A4%A8+%E5%8C%85%E5%BB%82%E9%A4%90%E5%BB%B3+%E4%BA%BA%E6%B0%A3%E8%A8%82%E4%BD%8D+%E7%B2%BE%E7%B7%BB%E6%97%A5%E5%BC%8F%E6%96%99%E7%90%86+%E7%B6%B2%E7%BE%8E%E8%81%9A%E9%A4%90%E6%8E%92%E9%9A%8A%E7%BE%8E%E9%A3%9F%E9%A4%90%E5%BB%B3+%E7%95%B0%E5%9C%8B%E6%96%99%E7%90%86+2023%E5%BF%85%E5%90%83%E6%8E%92%E9%9A%8A%E7%BE%8E%E9%A3%9F+%E4%BF%A1%E7%BE%A9%E5%95%86%E5%9C%88+PTT+Dcard/data=!4m7!3m6!1s0x3442ab32672f8efd:0x4cdacd1bdaaa072!8m2!3d25.0371532!4d121.5672683!16s%2Fg%2F11t503pcmz!19sChIJ_Y4vZzKrQjQRcqCqvdGszQQ?authuser=0&hl=zh-TW&rclk=1,開啟出現錯誤:Message: \n",
      "該網址https://www.google.com/maps/place/%E5%B0%8F%E5%8D%97%E9%96%80%E5%82%B3%E7%B5%B1%E7%BE%8E%E9%A3%9F%E3%80%81%E8%B1%86%E8%8A%B1+%E8%AA%A0%E5%93%81%E4%BF%A1%E7%BE%A9%E5%BA%97/data=!4m7!3m6!1s0x3442abb981825cc3:0xd8c5730c46b37814!8m2!3d25.0396669!4d121.5653555!16s%2Fg%2F1xtd_83t!19sChIJw1yCgbmrQjQRFHizRgxzxdg?authuser=0&hl=zh-TW&rclk=1,開啟出現錯誤:Message: \n",
      "該網址https://www.google.com/maps/place/GUMGUM+Beer+%26+Wings/data=!4m7!3m6!1s0x3442abc9e61bed7b:0xd8978857a512d1a6!8m2!3d25.033894!4d121.559154!16s%2Fg%2F11c709w5c_!19sChIJe-0b5smrQjQRptESpVeIl9g?authuser=0&hl=zh-TW&rclk=1,開啟出現錯誤:Message: \n",
      "該網址https://www.google.com/maps/place/GUMGUM+Beer+%26+Wings/data=!4m7!3m6!1s0x3442abc9e61bed7b:0xd8978857a512d1a6!8m2!3d25.033894!4d121.559154!16s%2Fg%2F11c709w5c_!19sChIJe-0b5smrQjQRptESpVeIl9g?authuser=0&hl=zh-TW&rclk=1,開啟出現錯誤:Message: \n",
      "該網址https://www.google.com/maps/place/Daylight%E5%85%89%E5%90%88%E7%AE%B1%E5%AD%90+%E4%BF%A1%E7%BE%A9%E5%BA%97/data=!4m7!3m6!1s0x3442abbff3f4c5f1:0x58f12da4bcef434d!8m2!3d25.0397197!4d121.5658739!16s%2Fg%2F11g2328811!19sChIJ8cX087-rQjQRTUPvvKQt8Vg?authuser=0&hl=zh-TW&rclk=1,開啟出現錯誤:Message: \n",
      "該網址https://www.google.com/maps/place/%E5%A0%A4%E8%AB%BE%E7%BE%A9%E5%A4%A7%E5%88%A9%E6%AF%94%E8%96%A9+Tino%27s+Pizza+%E5%8F%B0%E5%8C%97%E8%8E%8A%E6%95%AC%E9%96%80%E5%B8%82/data=!4m7!3m6!1s0x3442abb5953e14e7:0x4ed3e3e9ab3a36a7!8m2!3d25.0310213!4d121.5611237!16s%2Fg%2F11b5wlvldt!19sChIJ5xQ-lbWrQjQRpzY6q-nj004?authuser=0&hl=zh-TW&rclk=1,開啟出現錯誤:Message: \n",
      "該網址https://www.google.com/maps/place/%E5%A0%A4%E8%AB%BE%E7%BE%A9%E5%A4%A7%E5%88%A9%E6%AF%94%E8%96%A9+Tino%27s+Pizza+%E5%8F%B0%E5%8C%97%E8%8E%8A%E6%95%AC%E9%96%80%E5%B8%82/data=!4m7!3m6!1s0x3442abb5953e14e7:0x4ed3e3e9ab3a36a7!8m2!3d25.0310213!4d121.5611237!16s%2Fg%2F11b5wlvldt!19sChIJ5xQ-lbWrQjQRpzY6q-nj004?authuser=0&hl=zh-TW&rclk=1,開啟出現錯誤:Message: \n",
      "該網址https://www.google.com/maps/place/%E9%87%91%E5%AD%90%E5%8D%8A%E4%B9%8B%E5%8A%A9+%E6%96%B0%E5%85%89A8%E5%BA%97/data=!4m7!3m6!1s0x3442abba47fecf2b:0xa2c53402feb62faf!8m2!3d25.0387489!4d121.5666702!16s%2Fg%2F11f3bfg5gq!19sChIJK8_-R7qrQjQRry-2_gI0xaI?authuser=0&hl=zh-TW&rclk=1,開啟出現錯誤:Message: \n",
      "該網址https://www.google.com/maps/place/%E9%8A%80%E5%BA%A7%E6%9D%8F%E5%AD%90%E6%97%A5%E5%BC%8F%E8%B1%AC%E6%8E%92-%E4%BF%A1%E7%BE%A9%E5%A8%81%E7%A7%80%E5%BA%97/data=!4m7!3m6!1s0x3442abbdb9096aab:0xe7326825ae8eb2bb!8m2!3d25.0354959!4d121.5671952!16s%2Fg%2F11bztdwy9q!19sChIJq2oJub2rQjQRu7KOriVoMuc?authuser=0&hl=zh-TW&rclk=1,開啟出現錯誤:Message: \n",
      "該網址https://www.google.com/maps/place/M+One+Cafe+A11%E9%A4%A8/data=!4m7!3m6!1s0x3442aba410f40779:0xbeafe8f4c62285ef!8m2!3d25.0371341!4d121.5671768!16s%2Fg%2F11r7grbv_x!19sChIJeQf0EKSrQjQR74UixvTor74?authuser=0&hl=zh-TW&rclk=1,開啟出現錯誤:Message: \n",
      "該網址https://www.google.com/maps/place/%E5%8D%81%E4%BA%8C%E7%B1%83+%E7%B2%A5%E7%81%AB%E9%8D%8B+%E9%80%B8%E4%BB%99%E5%BA%97/data=!4m7!3m6!1s0x3442abb903676b8b:0x591fa610d920ea28!8m2!3d25.0404906!4d121.5630033!16s%2Fg%2F11b6shcbq_!19sChIJi2tnA7mrQjQRKOog2RCmH1k?authuser=0&hl=zh-TW&rclk=1,開啟出現錯誤:Message: \n",
      "該網址https://www.google.com/maps/place/%E5%8D%81%E4%BA%8C%E7%B1%83+%E7%B2%A5%E7%81%AB%E9%8D%8B+%E9%80%B8%E4%BB%99%E5%BA%97/data=!4m7!3m6!1s0x3442abb903676b8b:0x591fa610d920ea28!8m2!3d25.0404906!4d121.5630033!16s%2Fg%2F11b6shcbq_!19sChIJi2tnA7mrQjQRKOog2RCmH1k?authuser=0&hl=zh-TW&rclk=1,開啟出現錯誤:Message: \n",
      "該網址https://www.google.com/maps/place/We%26Me+Cafe%E5%A5%BD%E5%A5%BD%E6%96%87%E5%8C%96%E5%89%B5%E6%84%8F/data=!4m7!3m6!1s0x3442abb94d03f33b:0xba6e0151f03746f6!8m2!3d25.0420002!4d121.5647139!16s%2Fg%2F12m96ygc6!19sChIJO_MDTbmrQjQR9kY38FEBbro?authuser=0&hl=zh-TW&rclk=1,開啟出現錯誤:Message: \n",
      "該網址https://www.google.com/maps/place/We%26Me+Cafe%E5%A5%BD%E5%A5%BD%E6%96%87%E5%8C%96%E5%89%B5%E6%84%8F/data=!4m7!3m6!1s0x3442abb94d03f33b:0xba6e0151f03746f6!8m2!3d25.0420002!4d121.5647139!16s%2Fg%2F12m96ygc6!19sChIJO_MDTbmrQjQR9kY38FEBbro?authuser=0&hl=zh-TW&rclk=1,開啟出現錯誤:Message: \n",
      "該網址https://www.google.com/maps/place/%E6%81%86%E4%B9%8B%E8%8C%B6%E5%B1%85+HANG%27S+CAFE/data=!4m7!3m6!1s0x3442abd700e869e1:0x57aace2e2e29e1ce!8m2!3d25.044751!4d121.5609268!16s%2Fg%2F11hds3fcv5!19sChIJ4WnoANerQjQRzuEpLi7Oqlc?authuser=0&hl=zh-TW&rclk=1,開啟出現錯誤:Message: \n"
     ]
    },
    {
     "data": {
      "text/plain": "                                   RESTAURANT  \\\n0                           合.shabu ∣ 信義區頂級鍋物   \n1                                Miacucina信義店   \n2    JK STUDIO Modern Asia (原JK STUDIO 新義法料理)   \n3                                         非常泰   \n4                                  JOYCE EAST   \n..                                        ...   \n115                            銀座杏子日式豬排-信義威秀店   \n116                           M One Cafe A11館   \n117                               十二籃 粥火鍋 逸仙店   \n118                          We&Me Cafe好好文化創意   \n119                          恆之茶居 HANG'S CAFE   \n\n                                                  LINK STAR_RATING  \\\n0    https://www.google.com/maps/place/%E5%90%88.sh...     4.6 星級    \n1    https://www.google.com/maps/place/Miacucina%E4...     3.9 星級    \n2    https://www.google.com/maps/place/JK+STUDIO+Mo...     4.7 星級    \n3    https://www.google.com/maps/place/%E9%9D%9E%E5...     4.2 星級    \n4    https://www.google.com/maps/place/JOYCE+EAST/d...     4.3 星級    \n..                                                 ...         ...   \n115  https://www.google.com/maps/place/%E9%8A%80%E5...     3.9 星級    \n116  https://www.google.com/maps/place/M+One+Cafe+A...     4.4 星級    \n117  https://www.google.com/maps/place/%E5%8D%81%E4...     4.3 星級    \n118  https://www.google.com/maps/place/We%26Me+Cafe...     4.2 星級    \n119  https://www.google.com/maps/place/%E6%81%86%E4...     3.3 星級    \n\n    COMMENTS_COUNT MEAL_TYPE                 ADDRESS1       ADDRESS2  \n0        3,396 則評論     涮涮鍋餐廳  4F, No. 28號松仁路信義區台北市110                 \n1        2,599 則評論      素食餐廳       110台北市信義區松壽路11號2樓號                 \n2        1,751 則評論        餐廳  110台北市信義區基隆路一段147巷5弄13號                 \n3          691 則評論      泰國餐廳          110台北市信義區松壽路22號    所在地點：Neo 19  \n4          580 則評論      歐洲餐廳       110台北市信義區信義路五段128號  1 樓 · 新光信義傑仕堡  \n..             ...       ...                      ...            ...  \n115        812 則評論   日式炸豬扒餐廳        110台北市信義區松壽路20號2樓                 \n116      1,102 則評論        餐廳        110台北市信義區松壽路11號3樓                 \n117      1,222 則評論      火鍋餐廳       110台北市信義區逸仙路50巷28號                 \n118        657 則評論       咖啡店     110台北市信義區基隆路一段188-2號                 \n119        710 則評論        餐廳                                          \n\n[120 rows x 7 columns]",
      "text/html": "<div>\n<style scoped>\n    .dataframe tbody tr th:only-of-type {\n        vertical-align: middle;\n    }\n\n    .dataframe tbody tr th {\n        vertical-align: top;\n    }\n\n    .dataframe thead th {\n        text-align: right;\n    }\n</style>\n<table border=\"1\" class=\"dataframe\">\n  <thead>\n    <tr style=\"text-align: right;\">\n      <th></th>\n      <th>RESTAURANT</th>\n      <th>LINK</th>\n      <th>STAR_RATING</th>\n      <th>COMMENTS_COUNT</th>\n      <th>MEAL_TYPE</th>\n      <th>ADDRESS1</th>\n      <th>ADDRESS2</th>\n    </tr>\n  </thead>\n  <tbody>\n    <tr>\n      <th>0</th>\n      <td>合.shabu ∣ 信義區頂級鍋物</td>\n      <td>https://www.google.com/maps/place/%E5%90%88.sh...</td>\n      <td>4.6 星級</td>\n      <td>3,396 則評論</td>\n      <td>涮涮鍋餐廳</td>\n      <td>4F, No. 28號松仁路信義區台北市110</td>\n      <td></td>\n    </tr>\n    <tr>\n      <th>1</th>\n      <td>Miacucina信義店</td>\n      <td>https://www.google.com/maps/place/Miacucina%E4...</td>\n      <td>3.9 星級</td>\n      <td>2,599 則評論</td>\n      <td>素食餐廳</td>\n      <td>110台北市信義區松壽路11號2樓號</td>\n      <td></td>\n    </tr>\n    <tr>\n      <th>2</th>\n      <td>JK STUDIO Modern Asia (原JK STUDIO 新義法料理)</td>\n      <td>https://www.google.com/maps/place/JK+STUDIO+Mo...</td>\n      <td>4.7 星級</td>\n      <td>1,751 則評論</td>\n      <td>餐廳</td>\n      <td>110台北市信義區基隆路一段147巷5弄13號</td>\n      <td></td>\n    </tr>\n    <tr>\n      <th>3</th>\n      <td>非常泰</td>\n      <td>https://www.google.com/maps/place/%E9%9D%9E%E5...</td>\n      <td>4.2 星級</td>\n      <td>691 則評論</td>\n      <td>泰國餐廳</td>\n      <td>110台北市信義區松壽路22號</td>\n      <td>所在地點：Neo 19</td>\n    </tr>\n    <tr>\n      <th>4</th>\n      <td>JOYCE EAST</td>\n      <td>https://www.google.com/maps/place/JOYCE+EAST/d...</td>\n      <td>4.3 星級</td>\n      <td>580 則評論</td>\n      <td>歐洲餐廳</td>\n      <td>110台北市信義區信義路五段128號</td>\n      <td>1 樓 · 新光信義傑仕堡</td>\n    </tr>\n    <tr>\n      <th>...</th>\n      <td>...</td>\n      <td>...</td>\n      <td>...</td>\n      <td>...</td>\n      <td>...</td>\n      <td>...</td>\n      <td>...</td>\n    </tr>\n    <tr>\n      <th>115</th>\n      <td>銀座杏子日式豬排-信義威秀店</td>\n      <td>https://www.google.com/maps/place/%E9%8A%80%E5...</td>\n      <td>3.9 星級</td>\n      <td>812 則評論</td>\n      <td>日式炸豬扒餐廳</td>\n      <td>110台北市信義區松壽路20號2樓</td>\n      <td></td>\n    </tr>\n    <tr>\n      <th>116</th>\n      <td>M One Cafe A11館</td>\n      <td>https://www.google.com/maps/place/M+One+Cafe+A...</td>\n      <td>4.4 星級</td>\n      <td>1,102 則評論</td>\n      <td>餐廳</td>\n      <td>110台北市信義區松壽路11號3樓</td>\n      <td></td>\n    </tr>\n    <tr>\n      <th>117</th>\n      <td>十二籃 粥火鍋 逸仙店</td>\n      <td>https://www.google.com/maps/place/%E5%8D%81%E4...</td>\n      <td>4.3 星級</td>\n      <td>1,222 則評論</td>\n      <td>火鍋餐廳</td>\n      <td>110台北市信義區逸仙路50巷28號</td>\n      <td></td>\n    </tr>\n    <tr>\n      <th>118</th>\n      <td>We&amp;Me Cafe好好文化創意</td>\n      <td>https://www.google.com/maps/place/We%26Me+Cafe...</td>\n      <td>4.2 星級</td>\n      <td>657 則評論</td>\n      <td>咖啡店</td>\n      <td>110台北市信義區基隆路一段188-2號</td>\n      <td></td>\n    </tr>\n    <tr>\n      <th>119</th>\n      <td>恆之茶居 HANG'S CAFE</td>\n      <td>https://www.google.com/maps/place/%E6%81%86%E4...</td>\n      <td>3.3 星級</td>\n      <td>710 則評論</td>\n      <td>餐廳</td>\n      <td></td>\n      <td></td>\n    </tr>\n  </tbody>\n</table>\n<p>120 rows × 7 columns</p>\n</div>"
     },
     "execution_count": 9,
     "metadata": {},
     "output_type": "execute_result"
    }
   ],
   "source": [
    "address_scraping(driver=driver,wait=wait,Restaurant_Info=Restaurant_Info,css_selector_list=css_selector_list2,address_col=\"ADDRESS2\")\n",
    "Restaurant_Info"
   ],
   "metadata": {
    "collapsed": false,
    "ExecuteTime": {
     "end_time": "2023-08-29T13:43:21.613096100Z",
     "start_time": "2023-08-29T13:08:25.181269900Z"
    }
   },
   "id": "8c0687c624c74cf"
  },
  {
   "cell_type": "code",
   "execution_count": 10,
   "outputs": [],
   "source": [
    "Restaurant_Info.to_excel(r\"\\專案實作\\地區餐廳評論分析\\Google_Restaurant_Info.xlsx\")"
   ],
   "metadata": {
    "collapsed": false,
    "ExecuteTime": {
     "end_time": "2023-08-29T13:45:07.491101300Z",
     "start_time": "2023-08-29T13:45:07.362430200Z"
    }
   },
   "id": "a5f83e7e0578298e"
  }
 ],
 "metadata": {
  "kernelspec": {
   "display_name": "Python 3",
   "language": "python",
   "name": "python3"
  },
  "language_info": {
   "codemirror_mode": {
    "name": "ipython",
    "version": 2
   },
   "file_extension": ".py",
   "mimetype": "text/x-python",
   "name": "python",
   "nbconvert_exporter": "python",
   "pygments_lexer": "ipython2",
   "version": "2.7.6"
  }
 },
 "nbformat": 4,
 "nbformat_minor": 5
}
