{
 "cells": [
  {
   "cell_type": "code",
   "execution_count": 1,
   "id": "initial_id",
   "metadata": {
    "collapsed": true,
    "ExecuteTime": {
     "end_time": "2023-10-13T13:03:09.686548300Z",
     "start_time": "2023-10-13T13:03:08.514831400Z"
    }
   },
   "outputs": [],
   "source": [
    "import re\n",
    "import pandas as pd \n",
    "import os \n",
    "import jieba\n",
    "import jieba.analyse"
   ]
  },
  {
   "cell_type": "code",
   "execution_count": 15,
   "outputs": [],
   "source": [
    "comments_senti_result_path = r\"\\專案實作\\地區餐廳評論分析\\google_restaurant_comments_txt\\restaurant_comments_processed\"\n",
    "\n",
    "with open(r\"\\專案實作\\地區餐廳評論分析\\stop_word2.txt\",'r',encoding='utf-8') as file:\n",
    "    stopwords = list(file.read().splitlines())\n",
    "    \n",
    "def remove_stopword(text):\n",
    "    words = text.split('|')\n",
    "    filtered_words = [word for word in words if word not in stopwords]\n",
    "    return '|'.join(filtered_words)\n",
    "\n",
    "def comments_senti_classified_keywords(data,senti_result,keywords_amount):\n",
    "    \"\"\"\n",
    "    :param data: 要傳入的個別餐廳評論留言情感分析excel \n",
    "    :param senti_result: 情感分析結果類別(正面、負面、衝突、中性)\n",
    "    :param keywords_amount: 設定要回傳的關鍵字詞數量\n",
    "    :return: 存放關鍵字詞的列表\n",
    "    \"\"\"\n",
    "    data_senti_result = data[data['情感分析結果']==senti_result]\n",
    "    senti_result_comments_content = ' '.join(data_senti_result['評論留言停用詞去除'])\n",
    "    senti_result_comments_keywords = jieba.analyse.extract_tags(senti_result_comments_content,topK=keywords_amount)\n",
    "    return senti_result_comments_keywords\n",
    "\n",
    "Restaurant_Comments_Senti_Keywords = pd.DataFrame(columns=['RESTAURANT','SENTI_RESULT','KEYWORDS'])\n",
    "\n",
    "for root, dirs, files in os.walk(comments_senti_result_path):\n",
    "    # for dir in dirs:\n",
    "        # print(dir)\n",
    "    for file_name in files:\n",
    "        # print(os.path.join(root,file_name))\n",
    "    \n",
    "        if file_name.endswith('_result.xlsx'):\n",
    "            # print(file_name)\n",
    "            df_senti_result_path = os.path.join(root,file_name)\n",
    "            df_senti_result = pd.read_excel(df_senti_result_path)\n",
    "            \n",
    "            df_senti_result['評論留言停用詞去除'] = df_senti_result['評論留言內容斷詞'].apply(remove_stopword)\n",
    "            # print(df_senti_result)\n",
    "            \n",
    "            positive_keywords_list = comments_senti_classified_keywords(data=df_senti_result,senti_result='正面',keywords_amount=25)\n",
    "            negative_keywords_list = comments_senti_classified_keywords(data=df_senti_result,senti_result='負面',keywords_amount=25)\n",
    "            conflict_keywords_list = comments_senti_classified_keywords(data=df_senti_result,senti_result='衝突',keywords_amount=25)\n",
    "            \n",
    "            restaurant_name = file_name.replace('Comment_of_','').replace('_result.xlsx','')\n",
    "            df_senti_keywords = pd.DataFrame(columns=['RESTAURANT','SENTI_RESULT','KEYWORDS'])\n",
    "            \n",
    "            df_senti_keywords = df_senti_keywords.append({'RESTAURANT':restaurant_name,'SENTI_RESULT':'正面','KEYWORDS':'|'.join(positive_keywords_list)},ignore_index=True)\n",
    "            df_senti_keywords = df_senti_keywords.append({'RESTAURANT':restaurant_name,'SENTI_RESULT':'負面','KEYWORDS':'|'.join(negative_keywords_list)},ignore_index=True)\n",
    "            df_senti_keywords = df_senti_keywords.append({'RESTAURANT':restaurant_name,'SENTI_RESULT':'衝突','KEYWORDS':'|'.join(conflict_keywords_list)},ignore_index=True)\n",
    "            \n",
    "            df_senti_keywords.reset_index(drop=True,inplace=True)\n",
    "            Restaurant_Comments_Senti_Keywords = pd.concat([Restaurant_Comments_Senti_Keywords,df_senti_keywords],ignore_index=True)\n",
    "            \n",
    "\n",
    "# 合併給上MEAL_TYPE\n",
    "google_restaurant_senti_info = pd.read_excel(r\"\\專案實作\\地區餐廳評論分析\\data_processed\\google_restaurant_senti_info.xlsx\")\n",
    "Restaurant_Comments_Senti_Keywords = pd.merge(Restaurant_Comments_Senti_Keywords,google_restaurant_senti_info[['RESTAURANT','MEAL_TYPE']],on='RESTAURANT',how='left')\n",
    "\n",
    "Restaurant_Comments_Senti_Keywords.to_excel(r\"\\專案實作\\地區餐廳評論分析\\Restaurant_Comments_Senti_Keywords.xlsx\",index=False)\n",
    "\n",
    "# Restaurant_Comments_Senti_Keywords"
   ],
   "metadata": {
    "collapsed": false,
    "ExecuteTime": {
     "end_time": "2023-10-13T13:54:28.670026300Z",
     "start_time": "2023-10-13T13:54:19.554519600Z"
    }
   },
   "id": "1f3982b077419aaf"
  },
  {
   "cell_type": "code",
   "execution_count": 15,
   "outputs": [
    {
     "name": "stdout",
     "output_type": "stream",
     "text": [
      "['餐點', '好吃', '食材', '新鮮', '排隊', '不錯', '旭集', '干貝', '甜點', '飲料', '服務', '生魚片', '動線', '選擇', '海鮮', '候位', '整體', '高級', '訂位', '人員', '日式', '蛤蜊', '食物', '餐廳', '下午茶']\n",
      "['排隊', '動線', '服務', '時間', '人員', '餐點', '壽司', '服務員', '生魚片', '訂位', '價位', '取餐', '干貝', '態度', '服務生', '14', '菜色', '電話', '餐廳', '不錯', '飲料', '香魚', '壽星', '禮物', '旭集']\n",
      "['好吃', '動線', '餐點', '不錯', '服務', '甜點', '旭集', '排隊', '食材', '生魚片', '海鮮', '干貝', '新鮮', '時間', '人員', '飲料', '整體', '喜歡', '好喝', '壽司', '土瓶', '餐廳', '取餐', '食物', '味道']\n"
     ]
    }
   ],
   "source": [
    "\"\"\"\n",
    "測試\n",
    "    停用詞處理\n",
    "    關鍵字擷取\n",
    "\"\"\"\n",
    "\n",
    "df = pd.read_excel(r\"\\專案實作\\地區餐廳評論分析\\google_restaurant_comments_txt\\restaurant_comments_processed\\Buffet_restaurant_comments_txt\\Comment_of_旭集 和食集錦 信義店_result.xlsx\")\n",
    "\n",
    "# with open(r\"\\專案實作\\地區餐廳評論分析\\stop_word2.txt\",'r',encoding='utf-8') as file:\n",
    "#     stopwords = list(file.read().splitlines())\n",
    "# \n",
    "# pattern = '|'.join([re.escape(word) for word in stopwords])\n",
    "# df['評論留言停用詞去除'] = df['評論留言原內容處理'].apply(lambda x:re.sub(pattern,'',x))\n",
    "\n",
    "with open(r\"\\專案實作\\地區餐廳評論分析\\stop_word2.txt\",'r',encoding='utf-8') as file:\n",
    "    stopwords = list(file.read().splitlines())\n",
    "    \n",
    "def remove_stopword(text):\n",
    "    words = text.split('|')\n",
    "    filtered_words = [word for word in words if word not in stopwords]\n",
    "    return '|'.join(filtered_words)\n",
    "\n",
    "df['評論留言停用詞去除'] = df['評論留言內容斷詞'].apply(remove_stopword)\n",
    "\n",
    "def comments_senti_classified_keywords(data,senti_result,keywords_amount):\n",
    "    \"\"\"\n",
    "    :param data: 要傳入的個別餐廳評論留言情感分析excel \n",
    "    :param senti_result: 情感分析結果類別(正面、負面、衝突、中性)\n",
    "    :param keywords_amount: 設定要回傳的關鍵字詞數量\n",
    "    :return: 存放關鍵字詞的列表\n",
    "    \"\"\"\n",
    "    data_senti_result = data[data['情感分析結果']==senti_result]\n",
    "    senti_result_comments_content = ' '.join(data_senti_result['評論留言停用詞去除'])\n",
    "    senti_result_comments_keywords = jieba.analyse.extract_tags(senti_result_comments_content,topK=keywords_amount)\n",
    "    return senti_result_comments_keywords\n",
    "\n",
    "positive_keywords = comments_senti_classified_keywords(data=df,senti_result='正面',keywords_amount=25)\n",
    "print(positive_keywords)\n",
    "\n",
    "negative_keywords = comments_senti_classified_keywords(data=df,senti_result='負面',keywords_amount=25)\n",
    "print(negative_keywords)\n",
    "\n",
    "conflict_keywords = comments_senti_classified_keywords(data=df,senti_result='衝突',keywords_amount=25)\n",
    "print(conflict_keywords)"
   ],
   "metadata": {
    "collapsed": false,
    "ExecuteTime": {
     "end_time": "2023-09-28T05:32:08.091496700Z",
     "start_time": "2023-09-28T05:32:07.801577200Z"
    }
   },
   "id": "8b857c55bd660bc0"
  },
  {
   "cell_type": "code",
   "execution_count": 14,
   "outputs": [
    {
     "data": {
      "text/plain": "                                                檔案名稱 情感分析結果  \\\n0  C:\\Users\\NiuNi\\OneDrive\\桌面\\demo\\專案實作\\地區餐廳評論分析\\...     正面   \n1  C:\\Users\\NiuNi\\OneDrive\\桌面\\demo\\專案實作\\地區餐廳評論分析\\...     負面   \n2  C:\\Users\\NiuNi\\OneDrive\\桌面\\demo\\專案實作\\地區餐廳評論分析\\...     衝突   \n\n                                                 關鍵字  \n0  餐點|好吃|食材|新鮮|排隊|不錯|旭集|干貝|甜點|飲料|服務|生魚片|動線|選擇|海鮮|...  \n1  排隊|動線|服務|時間|人員|餐點|壽司|服務員|生魚片|訂位|價位|取餐|干貝|態度|服務...  \n2  好吃|動線|餐點|不錯|服務|甜點|旭集|排隊|食材|生魚片|海鮮|干貝|新鮮|時間|人員|...  ",
      "text/html": "<div>\n<style scoped>\n    .dataframe tbody tr th:only-of-type {\n        vertical-align: middle;\n    }\n\n    .dataframe tbody tr th {\n        vertical-align: top;\n    }\n\n    .dataframe thead th {\n        text-align: right;\n    }\n</style>\n<table border=\"1\" class=\"dataframe\">\n  <thead>\n    <tr style=\"text-align: right;\">\n      <th></th>\n      <th>檔案名稱</th>\n      <th>情感分析結果</th>\n      <th>關鍵字</th>\n    </tr>\n  </thead>\n  <tbody>\n    <tr>\n      <th>0</th>\n      <td>C:\\Users\\NiuNi\\OneDrive\\桌面\\demo\\專案實作\\地區餐廳評論分析\\...</td>\n      <td>正面</td>\n      <td>餐點|好吃|食材|新鮮|排隊|不錯|旭集|干貝|甜點|飲料|服務|生魚片|動線|選擇|海鮮|...</td>\n    </tr>\n    <tr>\n      <th>1</th>\n      <td>C:\\Users\\NiuNi\\OneDrive\\桌面\\demo\\專案實作\\地區餐廳評論分析\\...</td>\n      <td>負面</td>\n      <td>排隊|動線|服務|時間|人員|餐點|壽司|服務員|生魚片|訂位|價位|取餐|干貝|態度|服務...</td>\n    </tr>\n    <tr>\n      <th>2</th>\n      <td>C:\\Users\\NiuNi\\OneDrive\\桌面\\demo\\專案實作\\地區餐廳評論分析\\...</td>\n      <td>衝突</td>\n      <td>好吃|動線|餐點|不錯|服務|甜點|旭集|排隊|食材|生魚片|海鮮|干貝|新鮮|時間|人員|...</td>\n    </tr>\n  </tbody>\n</table>\n</div>"
     },
     "execution_count": 14,
     "metadata": {},
     "output_type": "execute_result"
    }
   ],
   "source": [
    "import pandas as pd\n",
    "import jieba.analyse\n",
    "import re\n",
    "\n",
    "# Define the file path\n",
    "file_path = r\"\\專案實作\\地區餐廳評論分析\\google_restaurant_comments_txt\\restaurant_comments_processed\\Buffet_restaurant_comments_txt\\Comment_of_旭集 和食集錦 信義店_result.xlsx\"\n",
    "\n",
    "# Read the Excel file into a DataFrame\n",
    "df = pd.read_excel(file_path)\n",
    "\n",
    "# Define the path to the stopwords file\n",
    "stopwords_path = r\"\\專案實作\\地區餐廳評論分析\\stop_word2.txt\"\n",
    "\n",
    "# Define a function to remove stopwords from text\n",
    "def remove_stopword(text):\n",
    "    words = text.split('|')\n",
    "    filtered_words = [word for word in words if word not in stopwords]\n",
    "    return '|'.join(filtered_words)\n",
    "\n",
    "# Read stopwords into a list\n",
    "with open(stopwords_path, 'r', encoding='utf-8') as file:\n",
    "    stopwords = list(file.read().splitlines())\n",
    "\n",
    "# Apply the remove_stopword function to the '評論留言內容斷詞' column\n",
    "df['評論留言停用詞去除'] = df['評論留言內容斷詞'].apply(remove_stopword)\n",
    "\n",
    "# Define a function to extract keywords based on sentiment\n",
    "def comments_senti_classified_keywords(data, senti_result, keywords_amount):\n",
    "    data_senti_result = data[data['情感分析結果'] == senti_result]\n",
    "    senti_result_comments_content = ' '.join(data_senti_result['評論留言停用詞去除'])\n",
    "    senti_result_comments_keywords = jieba.analyse.extract_tags(senti_result_comments_content, topK=keywords_amount)\n",
    "    return senti_result_comments_keywords\n",
    "\n",
    "# Create empty lists to store keywords for each sentiment category\n",
    "positive_keywords = comments_senti_classified_keywords(data=df, senti_result='正面', keywords_amount=25)\n",
    "negative_keywords = comments_senti_classified_keywords(data=df, senti_result='負面', keywords_amount=25)\n",
    "conflict_keywords = comments_senti_classified_keywords(data=df, senti_result='衝突', keywords_amount=25)\n",
    "\n",
    "# Create a new DataFrame to store the results\n",
    "result_df = pd.DataFrame(columns=['檔案名稱', '情感分析結果', '關鍵字'])\n",
    "\n",
    "# Append data for positive sentiment\n",
    "result_df = result_df.append({'檔案名稱': file_path, '情感分析結果': '正面', '關鍵字': '|'.join(positive_keywords)}, ignore_index=True)\n",
    "\n",
    "# Append data for negative sentiment\n",
    "result_df = result_df.append({'檔案名稱': file_path, '情感分析結果': '負面', '關鍵字': '|'.join(negative_keywords)}, ignore_index=True)\n",
    "\n",
    "# Append data for conflict sentiment\n",
    "result_df = result_df.append({'檔案名稱': file_path, '情感分析結果': '衝突', '關鍵字': '|'.join(conflict_keywords)}, ignore_index=True)\n",
    "\n",
    "# Print the resulting DataFrame\n",
    "result_df\n",
    "\n",
    "# Export the DataFrame to an Excel file if needed\n",
    "# result_df.to_excel('result_keywords.xlsx', index=False)"
   ],
   "metadata": {
    "collapsed": false,
    "ExecuteTime": {
     "end_time": "2023-09-28T05:31:44.757553600Z",
     "start_time": "2023-09-28T05:31:44.499154500Z"
    }
   },
   "id": "a1bd34e2c2ee7894"
  }
 ],
 "metadata": {
  "kernelspec": {
   "display_name": "Python 3",
   "language": "python",
   "name": "python3"
  },
  "language_info": {
   "codemirror_mode": {
    "name": "ipython",
    "version": 2
   },
   "file_extension": ".py",
   "mimetype": "text/x-python",
   "name": "python",
   "nbconvert_exporter": "python",
   "pygments_lexer": "ipython2",
   "version": "2.7.6"
  }
 },
 "nbformat": 4,
 "nbformat_minor": 5
}
