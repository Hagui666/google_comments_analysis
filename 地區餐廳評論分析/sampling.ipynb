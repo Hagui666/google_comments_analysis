{
 "cells": [
  {
   "cell_type": "code",
   "execution_count": 1,
   "id": "initial_id",
   "metadata": {
    "collapsed": true,
    "ExecuteTime": {
     "end_time": "2023-10-16T06:39:54.153920500Z",
     "start_time": "2023-10-16T06:39:52.798944600Z"
    }
   },
   "outputs": [],
   "source": [
    "import pandas as pd\n",
    "import os\n",
    "import random"
   ]
  },
  {
   "cell_type": "code",
   "execution_count": 2,
   "outputs": [
    {
     "data": {
      "text/plain": "                                                 評論留言原內容  \\\n0      ['看YT每個網紅去都有麵包蟹，結果我假日晚餐時段去居然沒有提供\\n\\n還有整層樓的男廁馬桶...   \n1       '昨天帶父母去，下午茶才兩小時，早去了排隊進場就多浪費10幾分，不是很難訂嗎，目測還有一半...   \n2                                                   '好的'   \n3                                                 '便宜好吃'   \n4       '在高雄吃兩次旭集 這次特地北上來比較看看\\n和家人感想都是旭集新鮮度 生食 壽司 炸蝦 ...   \n...                                                  ...   \n13500                 '去年開始，連續兩次不悅的用餐，服務團隊有很大的問題！不可能再去了'   \n13501   '今天多人聚餐，所以選擇分享方式點餐，牛排直接選了戰斧，3分熟美味又軟嫩，完全沒有血味，超...   \n13502   '帶女友慶生，服務人員很熱情，餐點部分招待的麵包鬆軟好吃，搭配上特製奶油整個風味又更美味，...   \n13503                 '沒有不好吃，但是跟其他同價位牛排比起來還是有差距，所以只有四星。'   \n13504   '2017年曾訪問過\\n至今還是很美好的回憶\\n依稀記得\\n服務員拿著一個巨大的菜單向我們...   \n\n                                               評論留言原內容處理  \\\n0         看YT每個網紅去都有麵包蟹，結果我假日晚餐時段去居然沒有提供還有整層樓的男廁馬桶居然只有一個   \n1       昨天帶父母去，下午茶才兩小時，早去了排隊進場就多浪費10幾分，不是很難訂嗎，目測還有一半沒...   \n2                                                     好的   \n3                                                   便宜好吃   \n4       在高雄吃兩次旭集 這次特地北上來比較看看和家人感想都是旭集新鮮度 生食 壽司 炸蝦 揚物都...   \n...                                                  ...   \n13500                   去年開始，連續兩次不悅的用餐，服務團隊有很大的問題 不可能再去了   \n13501   今天多人聚餐，所以選擇分享方式點餐，牛排直接選了戰斧，3分熟美味又軟嫩，完全沒有血味，超推...   \n13502   帶女友慶生，服務人員很熱情，餐點部分招待的麵包鬆軟好吃，搭配上特製奶油整個風味又更美味，主...   \n13503                   沒有不好吃，但是跟其他同價位牛排比起來還是有差距，所以只有四星    \n13504   2017年曾訪問過至今還是很美好的回憶依稀記得服務員拿著一個巨大的菜單向我們介紹真的很有趣...   \n\n                                                評論留言內容斷詞 情感分析結果  \n0      看|YT|每|個|網紅|去|都|有|麵包|蟹|，|結果|我|假日|晚餐|時段|去|居然|沒有...     負面  \n1       |昨天|帶|父母|去|，|下午茶|才|兩|小時|，|早|去|了|排隊|進場|就|多|浪費|...     負面  \n2                                                   |好|的     正面  \n3                                                 |便宜|好吃     正面  \n4       |在|高雄|吃|兩|次|旭集 |這|次|特地|北上|來|比較|看看|和|家人|感想|都|是...     正面  \n...                                                  ...    ...  \n13500   |去年|開始|，|連續|兩|次|不悅|的|用餐|，|服務|團隊|有|很|大|的|問題|！|...     負面  \n13501   |今天|多|人|聚餐|，|所以|選擇|分享|方式|點餐|，|牛排|直接|選|了|戰斧|，|...     正面  \n13502   |帶|女友|慶生|，|服務|人員|很|熱情|，|餐點|部分|招待|的|麵包|鬆軟|好吃|，...     正面  \n13503   |沒有|不|好吃|，|但是|跟|其他|同|價位|牛排|比起來|還是|有|差距|，|所以|只...     衝突  \n13504   2017年|曾|訪問|過|至今|還是|很|美好|的|回憶|依稀|記得|服務員|拿|著|一|...     正面  \n\n[13505 rows x 4 columns]",
      "text/html": "<div>\n<style scoped>\n    .dataframe tbody tr th:only-of-type {\n        vertical-align: middle;\n    }\n\n    .dataframe tbody tr th {\n        vertical-align: top;\n    }\n\n    .dataframe thead th {\n        text-align: right;\n    }\n</style>\n<table border=\"1\" class=\"dataframe\">\n  <thead>\n    <tr style=\"text-align: right;\">\n      <th></th>\n      <th>評論留言原內容</th>\n      <th>評論留言原內容處理</th>\n      <th>評論留言內容斷詞</th>\n      <th>情感分析結果</th>\n    </tr>\n  </thead>\n  <tbody>\n    <tr>\n      <th>0</th>\n      <td>['看YT每個網紅去都有麵包蟹，結果我假日晚餐時段去居然沒有提供\\n\\n還有整層樓的男廁馬桶...</td>\n      <td>看YT每個網紅去都有麵包蟹，結果我假日晚餐時段去居然沒有提供還有整層樓的男廁馬桶居然只有一個</td>\n      <td>看|YT|每|個|網紅|去|都|有|麵包|蟹|，|結果|我|假日|晚餐|時段|去|居然|沒有...</td>\n      <td>負面</td>\n    </tr>\n    <tr>\n      <th>1</th>\n      <td>'昨天帶父母去，下午茶才兩小時，早去了排隊進場就多浪費10幾分，不是很難訂嗎，目測還有一半...</td>\n      <td>昨天帶父母去，下午茶才兩小時，早去了排隊進場就多浪費10幾分，不是很難訂嗎，目測還有一半沒...</td>\n      <td>|昨天|帶|父母|去|，|下午茶|才|兩|小時|，|早|去|了|排隊|進場|就|多|浪費|...</td>\n      <td>負面</td>\n    </tr>\n    <tr>\n      <th>2</th>\n      <td>'好的'</td>\n      <td>好的</td>\n      <td>|好|的</td>\n      <td>正面</td>\n    </tr>\n    <tr>\n      <th>3</th>\n      <td>'便宜好吃'</td>\n      <td>便宜好吃</td>\n      <td>|便宜|好吃</td>\n      <td>正面</td>\n    </tr>\n    <tr>\n      <th>4</th>\n      <td>'在高雄吃兩次旭集 這次特地北上來比較看看\\n和家人感想都是旭集新鮮度 生食 壽司 炸蝦 ...</td>\n      <td>在高雄吃兩次旭集 這次特地北上來比較看看和家人感想都是旭集新鮮度 生食 壽司 炸蝦 揚物都...</td>\n      <td>|在|高雄|吃|兩|次|旭集 |這|次|特地|北上|來|比較|看看|和|家人|感想|都|是...</td>\n      <td>正面</td>\n    </tr>\n    <tr>\n      <th>...</th>\n      <td>...</td>\n      <td>...</td>\n      <td>...</td>\n      <td>...</td>\n    </tr>\n    <tr>\n      <th>13500</th>\n      <td>'去年開始，連續兩次不悅的用餐，服務團隊有很大的問題！不可能再去了'</td>\n      <td>去年開始，連續兩次不悅的用餐，服務團隊有很大的問題 不可能再去了</td>\n      <td>|去年|開始|，|連續|兩|次|不悅|的|用餐|，|服務|團隊|有|很|大|的|問題|！|...</td>\n      <td>負面</td>\n    </tr>\n    <tr>\n      <th>13501</th>\n      <td>'今天多人聚餐，所以選擇分享方式點餐，牛排直接選了戰斧，3分熟美味又軟嫩，完全沒有血味，超...</td>\n      <td>今天多人聚餐，所以選擇分享方式點餐，牛排直接選了戰斧，3分熟美味又軟嫩，完全沒有血味，超推...</td>\n      <td>|今天|多|人|聚餐|，|所以|選擇|分享|方式|點餐|，|牛排|直接|選|了|戰斧|，|...</td>\n      <td>正面</td>\n    </tr>\n    <tr>\n      <th>13502</th>\n      <td>'帶女友慶生，服務人員很熱情，餐點部分招待的麵包鬆軟好吃，搭配上特製奶油整個風味又更美味，...</td>\n      <td>帶女友慶生，服務人員很熱情，餐點部分招待的麵包鬆軟好吃，搭配上特製奶油整個風味又更美味，主...</td>\n      <td>|帶|女友|慶生|，|服務|人員|很|熱情|，|餐點|部分|招待|的|麵包|鬆軟|好吃|，...</td>\n      <td>正面</td>\n    </tr>\n    <tr>\n      <th>13503</th>\n      <td>'沒有不好吃，但是跟其他同價位牛排比起來還是有差距，所以只有四星。'</td>\n      <td>沒有不好吃，但是跟其他同價位牛排比起來還是有差距，所以只有四星</td>\n      <td>|沒有|不|好吃|，|但是|跟|其他|同|價位|牛排|比起來|還是|有|差距|，|所以|只...</td>\n      <td>衝突</td>\n    </tr>\n    <tr>\n      <th>13504</th>\n      <td>'2017年曾訪問過\\n至今還是很美好的回憶\\n依稀記得\\n服務員拿著一個巨大的菜單向我們...</td>\n      <td>2017年曾訪問過至今還是很美好的回憶依稀記得服務員拿著一個巨大的菜單向我們介紹真的很有趣...</td>\n      <td>2017年|曾|訪問|過|至今|還是|很|美好|的|回憶|依稀|記得|服務員|拿|著|一|...</td>\n      <td>正面</td>\n    </tr>\n  </tbody>\n</table>\n<p>13505 rows × 4 columns</p>\n</div>"
     },
     "execution_count": 2,
     "metadata": {},
     "output_type": "execute_result"
    }
   ],
   "source": [
    "folder_path = r\"\\專案實作\\地區餐廳評論分析\\google_restaurant_comments_txt\\restaurant_comments_processed\"\n",
    "\n",
    "all_df_senti_result = []\n",
    "\n",
    "for root, dirs, files in os.walk(folder_path):\n",
    "    # for dir in dirs:\n",
    "        # print(dir)\n",
    "    for file_name in files:\n",
    "        # print(os.path.join(root,file_name))\n",
    "        if file_name.endswith('_result.xlsx'):\n",
    "            excel_path = os.path.join(root,file_name)\n",
    "            df_senti_result = pd.read_excel(excel_path)\n",
    "            all_df_senti_result.append(df_senti_result)\n",
    "            \n",
    "all_df_senti_result = pd.concat(all_df_senti_result,ignore_index=True)\n",
    "\n",
    "all_df_senti_result\n",
    "            "
   ],
   "metadata": {
    "collapsed": false,
    "ExecuteTime": {
     "end_time": "2023-10-16T06:39:56.448332200Z",
     "start_time": "2023-10-16T06:39:54.144895700Z"
    }
   },
   "id": "5547fe35c0bf1e4c"
  },
  {
   "cell_type": "code",
   "execution_count": 3,
   "outputs": [
    {
     "data": {
      "text/plain": "                                                 評論留言原內容  \\\n7411                                             '雙響動好吃'   \n9171    '今天下午帶家人來用餐，服務態度真的很優！\\n1、其中有道醬炒高麗菜不小心做成辣的，跟店員...   \n12799   '我們想說我們第一次在這家餐廳的經歷並不那麼愉快。我們預訂的是下午 5 點的早晚餐。我們到...   \n7629                                          '厚切里肌豬排好吃'   \n7402                                              '五星好評'   \n...                                                  ...   \n3252          '東西好吃，品項多，餐廳氛圍很不錯，適合朋友相聚，家庭聚餐，非假日時段停車算方便。'   \n12755                                          '下班聚會好地方'   \n11057   '2023/08/04 商業午餐，飲料無限暢飲，美食加秀色，外加呼拉圈表演，結帳時又送一堆...   \n4420    '超值吃到飽。\\n比例也很大。我們有很多肉沒有太多機會訂購其他東西。您還可以訂購冰淇淋和布...   \n5519                             '滿意的桌邊服務， 好吃的燒肉懷石， 棒棒~'   \n\n                                               評論留言原內容處理  \\\n7411                                               雙響動好吃   \n9171    今天下午帶家人來用餐，服務態度真的很優 1、其中有道醬炒高麗菜不小心做成辣的，跟店員說沒關...   \n12799   我們想說我們第一次在這家餐廳的經歷並不那麼愉快 我們預訂的是下午 5 點的早晚餐 我們到達...   \n7629                                            厚切里肌豬排好吃   \n7402                                                五星好評   \n...                                                  ...   \n3252            東西好吃，品項多，餐廳氛圍很不錯，適合朋友相聚，家庭聚餐，非假日時段停車算方便    \n12755                                            下班聚會好地方   \n11057   2023/08/04 商業午餐，飲料無限暢飲，美食加秀色，外加呼拉圈表演，結帳時又送一堆的...   \n4420    超值吃到飽 比例也很大 我們有很多肉沒有太多機會訂購其他東西 您還可以訂購冰淇淋和布丁 食...   \n5519                               滿意的桌邊服務， 好吃的燒肉懷石， 棒棒    \n\n                                                評論留言內容斷詞 情感分析結果  \n7411                                             |雙響動|好吃     正面  \n9171    |今天|下午|帶|家人|來|用餐|，|服務|態度|真的|很|優|！|1|、|其中|有|道|...     正面  \n12799   |我們|想說|我們|第一|次|在|這|家|餐廳|的|經歷|並|不|那麼|愉快|。|我們|預...     衝突  \n7629                                        |厚切|里肌|豬排|好吃     正面  \n7402                                             |五|星|好評     正面  \n...                                                  ...    ...  \n3252    |東西|好吃|，|品項|多|，|餐廳|氛圍|很|不錯|，|適合|朋友|相聚|，|家庭|聚餐...     正面  \n12755                                        |下班|聚會|好|地方     正面  \n11057   2023/08/04 |商業|午餐|，|飲料|無限|暢飲|，|美食|加|秀色|，|外加|呼...     正面  \n4420    |超值|吃|到|飽|。|比例|也|很|大|。|我們|有|很多|肉|沒有|太多|機會|訂購|...     正面  \n5519                |滿意|的|桌|邊|服務|，| |好吃|的|燒肉|懷石|，| |棒棒|~     正面  \n\n[100 rows x 4 columns]",
      "text/html": "<div>\n<style scoped>\n    .dataframe tbody tr th:only-of-type {\n        vertical-align: middle;\n    }\n\n    .dataframe tbody tr th {\n        vertical-align: top;\n    }\n\n    .dataframe thead th {\n        text-align: right;\n    }\n</style>\n<table border=\"1\" class=\"dataframe\">\n  <thead>\n    <tr style=\"text-align: right;\">\n      <th></th>\n      <th>評論留言原內容</th>\n      <th>評論留言原內容處理</th>\n      <th>評論留言內容斷詞</th>\n      <th>情感分析結果</th>\n    </tr>\n  </thead>\n  <tbody>\n    <tr>\n      <th>7411</th>\n      <td>'雙響動好吃'</td>\n      <td>雙響動好吃</td>\n      <td>|雙響動|好吃</td>\n      <td>正面</td>\n    </tr>\n    <tr>\n      <th>9171</th>\n      <td>'今天下午帶家人來用餐，服務態度真的很優！\\n1、其中有道醬炒高麗菜不小心做成辣的，跟店員...</td>\n      <td>今天下午帶家人來用餐，服務態度真的很優 1、其中有道醬炒高麗菜不小心做成辣的，跟店員說沒關...</td>\n      <td>|今天|下午|帶|家人|來|用餐|，|服務|態度|真的|很|優|！|1|、|其中|有|道|...</td>\n      <td>正面</td>\n    </tr>\n    <tr>\n      <th>12799</th>\n      <td>'我們想說我們第一次在這家餐廳的經歷並不那麼愉快。我們預訂的是下午 5 點的早晚餐。我們到...</td>\n      <td>我們想說我們第一次在這家餐廳的經歷並不那麼愉快 我們預訂的是下午 5 點的早晚餐 我們到達...</td>\n      <td>|我們|想說|我們|第一|次|在|這|家|餐廳|的|經歷|並|不|那麼|愉快|。|我們|預...</td>\n      <td>衝突</td>\n    </tr>\n    <tr>\n      <th>7629</th>\n      <td>'厚切里肌豬排好吃'</td>\n      <td>厚切里肌豬排好吃</td>\n      <td>|厚切|里肌|豬排|好吃</td>\n      <td>正面</td>\n    </tr>\n    <tr>\n      <th>7402</th>\n      <td>'五星好評'</td>\n      <td>五星好評</td>\n      <td>|五|星|好評</td>\n      <td>正面</td>\n    </tr>\n    <tr>\n      <th>...</th>\n      <td>...</td>\n      <td>...</td>\n      <td>...</td>\n      <td>...</td>\n    </tr>\n    <tr>\n      <th>3252</th>\n      <td>'東西好吃，品項多，餐廳氛圍很不錯，適合朋友相聚，家庭聚餐，非假日時段停車算方便。'</td>\n      <td>東西好吃，品項多，餐廳氛圍很不錯，適合朋友相聚，家庭聚餐，非假日時段停車算方便</td>\n      <td>|東西|好吃|，|品項|多|，|餐廳|氛圍|很|不錯|，|適合|朋友|相聚|，|家庭|聚餐...</td>\n      <td>正面</td>\n    </tr>\n    <tr>\n      <th>12755</th>\n      <td>'下班聚會好地方'</td>\n      <td>下班聚會好地方</td>\n      <td>|下班|聚會|好|地方</td>\n      <td>正面</td>\n    </tr>\n    <tr>\n      <th>11057</th>\n      <td>'2023/08/04 商業午餐，飲料無限暢飲，美食加秀色，外加呼拉圈表演，結帳時又送一堆...</td>\n      <td>2023/08/04 商業午餐，飲料無限暢飲，美食加秀色，外加呼拉圈表演，結帳時又送一堆的...</td>\n      <td>2023/08/04 |商業|午餐|，|飲料|無限|暢飲|，|美食|加|秀色|，|外加|呼...</td>\n      <td>正面</td>\n    </tr>\n    <tr>\n      <th>4420</th>\n      <td>'超值吃到飽。\\n比例也很大。我們有很多肉沒有太多機會訂購其他東西。您還可以訂購冰淇淋和布...</td>\n      <td>超值吃到飽 比例也很大 我們有很多肉沒有太多機會訂購其他東西 您還可以訂購冰淇淋和布丁 食...</td>\n      <td>|超值|吃|到|飽|。|比例|也|很|大|。|我們|有|很多|肉|沒有|太多|機會|訂購|...</td>\n      <td>正面</td>\n    </tr>\n    <tr>\n      <th>5519</th>\n      <td>'滿意的桌邊服務， 好吃的燒肉懷石， 棒棒~'</td>\n      <td>滿意的桌邊服務， 好吃的燒肉懷石， 棒棒</td>\n      <td>|滿意|的|桌|邊|服務|，| |好吃|的|燒肉|懷石|，| |棒棒|~</td>\n      <td>正面</td>\n    </tr>\n  </tbody>\n</table>\n<p>100 rows × 4 columns</p>\n</div>"
     },
     "execution_count": 3,
     "metadata": {},
     "output_type": "execute_result"
    }
   ],
   "source": [
    "# sample_size = 100\n",
    "# random.seed()\n",
    "# random_set = random.sample(range(len(all_df_senti_result)),sample_size)\n",
    "# \n",
    "# sample_1 = all_df_senti_result.iloc[random_set]\n",
    "# sample_1.to_excel(r\"\\專案實作\\地區餐廳評論分析\\data_processed\\senti_result_sampling_1.xlsx\")\n",
    "# sample_1\n"
   ],
   "metadata": {
    "collapsed": false,
    "ExecuteTime": {
     "end_time": "2023-10-16T06:39:56.544631Z",
     "start_time": "2023-10-16T06:39:56.439356100Z"
    }
   },
   "id": "952af691ea59e02c"
  },
  {
   "cell_type": "code",
   "execution_count": 4,
   "outputs": [
    {
     "ename": "PermissionError",
     "evalue": "[Errno 13] Permission denied: 'C:\\\\Users\\\\NiuNi\\\\OneDrive\\\\桌面\\\\demo\\\\專案實作\\\\地區餐廳評論分析\\\\data_processed\\\\senti_result_sampling_2.xlsx'",
     "output_type": "error",
     "traceback": [
      "\u001B[1;31m---------------------------------------------------------------------------\u001B[0m",
      "\u001B[1;31mPermissionError\u001B[0m                           Traceback (most recent call last)",
      "Cell \u001B[1;32mIn[4], line 6\u001B[0m\n\u001B[0;32m      3\u001B[0m random_set \u001B[38;5;241m=\u001B[39m random\u001B[38;5;241m.\u001B[39msample(\u001B[38;5;28mrange\u001B[39m(\u001B[38;5;28mlen\u001B[39m(all_df_senti_result)),sample_size)\n\u001B[0;32m      5\u001B[0m sample_1 \u001B[38;5;241m=\u001B[39m all_df_senti_result\u001B[38;5;241m.\u001B[39miloc[random_set]\n\u001B[1;32m----> 6\u001B[0m \u001B[43msample_1\u001B[49m\u001B[38;5;241;43m.\u001B[39;49m\u001B[43mto_excel\u001B[49m\u001B[43m(\u001B[49m\u001B[38;5;124;43mr\u001B[39;49m\u001B[38;5;124;43m\"\u001B[39;49m\u001B[38;5;124;43mC:\u001B[39;49m\u001B[38;5;124;43m\\\u001B[39;49m\u001B[38;5;124;43mUsers\u001B[39;49m\u001B[38;5;124;43m\\\u001B[39;49m\u001B[38;5;124;43mNiuNi\u001B[39;49m\u001B[38;5;124;43m\\\u001B[39;49m\u001B[38;5;124;43mOneDrive\u001B[39;49m\u001B[38;5;124;43m\\\u001B[39;49m\u001B[38;5;124;43m桌面\u001B[39;49m\u001B[38;5;124;43m\\\u001B[39;49m\u001B[38;5;124;43mdemo\u001B[39;49m\u001B[38;5;124;43m\\\u001B[39;49m\u001B[38;5;124;43m專案實作\u001B[39;49m\u001B[38;5;124;43m\\\u001B[39;49m\u001B[38;5;124;43m地區餐廳評論分析\u001B[39;49m\u001B[38;5;124;43m\\\u001B[39;49m\u001B[38;5;124;43mdata_processed\u001B[39;49m\u001B[38;5;124;43m\\\u001B[39;49m\u001B[38;5;124;43msenti_result_sampling_2.xlsx\u001B[39;49m\u001B[38;5;124;43m\"\u001B[39;49m\u001B[43m)\u001B[49m\n\u001B[0;32m      7\u001B[0m sample_1\n",
      "File \u001B[1;32mc:\\users\\niuni\\onedrive\\桌面\\py_venv_zone\\jieba_venv\\lib\\site-packages\\pandas\\core\\generic.py:2189\u001B[0m, in \u001B[0;36mNDFrame.to_excel\u001B[1;34m(self, excel_writer, sheet_name, na_rep, float_format, columns, header, index, index_label, startrow, startcol, engine, merge_cells, encoding, inf_rep, verbose, freeze_panes, storage_options)\u001B[0m\n\u001B[0;32m   2176\u001B[0m \u001B[38;5;28;01mfrom\u001B[39;00m \u001B[38;5;21;01mpandas\u001B[39;00m\u001B[38;5;21;01m.\u001B[39;00m\u001B[38;5;21;01mio\u001B[39;00m\u001B[38;5;21;01m.\u001B[39;00m\u001B[38;5;21;01mformats\u001B[39;00m\u001B[38;5;21;01m.\u001B[39;00m\u001B[38;5;21;01mexcel\u001B[39;00m \u001B[38;5;28;01mimport\u001B[39;00m ExcelFormatter\n\u001B[0;32m   2178\u001B[0m formatter \u001B[38;5;241m=\u001B[39m ExcelFormatter(\n\u001B[0;32m   2179\u001B[0m     df,\n\u001B[0;32m   2180\u001B[0m     na_rep\u001B[38;5;241m=\u001B[39mna_rep,\n\u001B[1;32m   (...)\u001B[0m\n\u001B[0;32m   2187\u001B[0m     inf_rep\u001B[38;5;241m=\u001B[39minf_rep,\n\u001B[0;32m   2188\u001B[0m )\n\u001B[1;32m-> 2189\u001B[0m \u001B[43mformatter\u001B[49m\u001B[38;5;241;43m.\u001B[39;49m\u001B[43mwrite\u001B[49m\u001B[43m(\u001B[49m\n\u001B[0;32m   2190\u001B[0m \u001B[43m    \u001B[49m\u001B[43mexcel_writer\u001B[49m\u001B[43m,\u001B[49m\n\u001B[0;32m   2191\u001B[0m \u001B[43m    \u001B[49m\u001B[43msheet_name\u001B[49m\u001B[38;5;241;43m=\u001B[39;49m\u001B[43msheet_name\u001B[49m\u001B[43m,\u001B[49m\n\u001B[0;32m   2192\u001B[0m \u001B[43m    \u001B[49m\u001B[43mstartrow\u001B[49m\u001B[38;5;241;43m=\u001B[39;49m\u001B[43mstartrow\u001B[49m\u001B[43m,\u001B[49m\n\u001B[0;32m   2193\u001B[0m \u001B[43m    \u001B[49m\u001B[43mstartcol\u001B[49m\u001B[38;5;241;43m=\u001B[39;49m\u001B[43mstartcol\u001B[49m\u001B[43m,\u001B[49m\n\u001B[0;32m   2194\u001B[0m \u001B[43m    \u001B[49m\u001B[43mfreeze_panes\u001B[49m\u001B[38;5;241;43m=\u001B[39;49m\u001B[43mfreeze_panes\u001B[49m\u001B[43m,\u001B[49m\n\u001B[0;32m   2195\u001B[0m \u001B[43m    \u001B[49m\u001B[43mengine\u001B[49m\u001B[38;5;241;43m=\u001B[39;49m\u001B[43mengine\u001B[49m\u001B[43m,\u001B[49m\n\u001B[0;32m   2196\u001B[0m \u001B[43m    \u001B[49m\u001B[43mstorage_options\u001B[49m\u001B[38;5;241;43m=\u001B[39;49m\u001B[43mstorage_options\u001B[49m\u001B[43m,\u001B[49m\n\u001B[0;32m   2197\u001B[0m \u001B[43m\u001B[49m\u001B[43m)\u001B[49m\n",
      "File \u001B[1;32mc:\\users\\niuni\\onedrive\\桌面\\py_venv_zone\\jieba_venv\\lib\\site-packages\\pandas\\io\\formats\\excel.py:815\u001B[0m, in \u001B[0;36mExcelFormatter.write\u001B[1;34m(self, writer, sheet_name, startrow, startcol, freeze_panes, engine, storage_options)\u001B[0m\n\u001B[0;32m    810\u001B[0m     need_save \u001B[38;5;241m=\u001B[39m \u001B[38;5;28;01mFalse\u001B[39;00m\n\u001B[0;32m    811\u001B[0m \u001B[38;5;28;01melse\u001B[39;00m:\n\u001B[0;32m    812\u001B[0m     \u001B[38;5;66;03m# pandas\\io\\formats\\excel.py:808: error: Cannot instantiate\u001B[39;00m\n\u001B[0;32m    813\u001B[0m     \u001B[38;5;66;03m# abstract class 'ExcelWriter' with abstract attributes 'engine',\u001B[39;00m\n\u001B[0;32m    814\u001B[0m     \u001B[38;5;66;03m# 'save', 'supported_extensions' and 'write_cells'  [abstract]\u001B[39;00m\n\u001B[1;32m--> 815\u001B[0m     writer \u001B[38;5;241m=\u001B[39m \u001B[43mExcelWriter\u001B[49m\u001B[43m(\u001B[49m\u001B[43m  \u001B[49m\u001B[38;5;66;43;03m# type: ignore[abstract]\u001B[39;49;00m\n\u001B[0;32m    816\u001B[0m \u001B[43m        \u001B[49m\u001B[43mwriter\u001B[49m\u001B[43m,\u001B[49m\u001B[43m \u001B[49m\u001B[43mengine\u001B[49m\u001B[38;5;241;43m=\u001B[39;49m\u001B[43mengine\u001B[49m\u001B[43m,\u001B[49m\u001B[43m \u001B[49m\u001B[43mstorage_options\u001B[49m\u001B[38;5;241;43m=\u001B[39;49m\u001B[43mstorage_options\u001B[49m\n\u001B[0;32m    817\u001B[0m \u001B[43m    \u001B[49m\u001B[43m)\u001B[49m\n\u001B[0;32m    818\u001B[0m     need_save \u001B[38;5;241m=\u001B[39m \u001B[38;5;28;01mTrue\u001B[39;00m\n\u001B[0;32m    820\u001B[0m \u001B[38;5;28;01mtry\u001B[39;00m:\n",
      "File \u001B[1;32mc:\\users\\niuni\\onedrive\\桌面\\py_venv_zone\\jieba_venv\\lib\\site-packages\\pandas\\io\\excel\\_openpyxl.py:32\u001B[0m, in \u001B[0;36mOpenpyxlWriter.__init__\u001B[1;34m(self, path, engine, mode, storage_options, **engine_kwargs)\u001B[0m\n\u001B[0;32m     21\u001B[0m \u001B[38;5;28;01mdef\u001B[39;00m \u001B[38;5;21m__init__\u001B[39m(\n\u001B[0;32m     22\u001B[0m     \u001B[38;5;28mself\u001B[39m,\n\u001B[0;32m     23\u001B[0m     path,\n\u001B[1;32m   (...)\u001B[0m\n\u001B[0;32m     28\u001B[0m ):\n\u001B[0;32m     29\u001B[0m     \u001B[38;5;66;03m# Use the openpyxl module as the Excel writer.\u001B[39;00m\n\u001B[0;32m     30\u001B[0m     \u001B[38;5;28;01mfrom\u001B[39;00m \u001B[38;5;21;01mopenpyxl\u001B[39;00m\u001B[38;5;21;01m.\u001B[39;00m\u001B[38;5;21;01mworkbook\u001B[39;00m \u001B[38;5;28;01mimport\u001B[39;00m Workbook\n\u001B[1;32m---> 32\u001B[0m     \u001B[38;5;28;43msuper\u001B[39;49m\u001B[43m(\u001B[49m\u001B[43m)\u001B[49m\u001B[38;5;241;43m.\u001B[39;49m\u001B[38;5;21;43m__init__\u001B[39;49m\u001B[43m(\u001B[49m\n\u001B[0;32m     33\u001B[0m \u001B[43m        \u001B[49m\u001B[43mpath\u001B[49m\u001B[43m,\u001B[49m\u001B[43m \u001B[49m\u001B[43mmode\u001B[49m\u001B[38;5;241;43m=\u001B[39;49m\u001B[43mmode\u001B[49m\u001B[43m,\u001B[49m\u001B[43m \u001B[49m\u001B[43mstorage_options\u001B[49m\u001B[38;5;241;43m=\u001B[39;49m\u001B[43mstorage_options\u001B[49m\u001B[43m,\u001B[49m\u001B[43m \u001B[49m\u001B[38;5;241;43m*\u001B[39;49m\u001B[38;5;241;43m*\u001B[39;49m\u001B[43mengine_kwargs\u001B[49m\n\u001B[0;32m     34\u001B[0m \u001B[43m    \u001B[49m\u001B[43m)\u001B[49m\n\u001B[0;32m     36\u001B[0m     \u001B[38;5;66;03m# ExcelWriter replaced \"a\" by \"r+\" to allow us to first read the excel file from\u001B[39;00m\n\u001B[0;32m     37\u001B[0m     \u001B[38;5;66;03m# the file and later write to it\u001B[39;00m\n\u001B[0;32m     38\u001B[0m     \u001B[38;5;28;01mif\u001B[39;00m \u001B[38;5;124m\"\u001B[39m\u001B[38;5;124mr+\u001B[39m\u001B[38;5;124m\"\u001B[39m \u001B[38;5;129;01min\u001B[39;00m \u001B[38;5;28mself\u001B[39m\u001B[38;5;241m.\u001B[39mmode:  \u001B[38;5;66;03m# Load from existing workbook\u001B[39;00m\n",
      "File \u001B[1;32mc:\\users\\niuni\\onedrive\\桌面\\py_venv_zone\\jieba_venv\\lib\\site-packages\\pandas\\io\\excel\\_base.py:819\u001B[0m, in \u001B[0;36mExcelWriter.__init__\u001B[1;34m(self, path, engine, date_format, datetime_format, mode, storage_options, **engine_kwargs)\u001B[0m\n\u001B[0;32m    817\u001B[0m \u001B[38;5;28mself\u001B[39m\u001B[38;5;241m.\u001B[39mhandles \u001B[38;5;241m=\u001B[39m IOHandles(cast(Buffer, path), compression\u001B[38;5;241m=\u001B[39m{\u001B[38;5;124m\"\u001B[39m\u001B[38;5;124mcopression\u001B[39m\u001B[38;5;124m\"\u001B[39m: \u001B[38;5;28;01mNone\u001B[39;00m})\n\u001B[0;32m    818\u001B[0m \u001B[38;5;28;01mif\u001B[39;00m \u001B[38;5;129;01mnot\u001B[39;00m \u001B[38;5;28misinstance\u001B[39m(path, ExcelWriter):\n\u001B[1;32m--> 819\u001B[0m     \u001B[38;5;28mself\u001B[39m\u001B[38;5;241m.\u001B[39mhandles \u001B[38;5;241m=\u001B[39m \u001B[43mget_handle\u001B[49m\u001B[43m(\u001B[49m\n\u001B[0;32m    820\u001B[0m \u001B[43m        \u001B[49m\u001B[43mpath\u001B[49m\u001B[43m,\u001B[49m\u001B[43m \u001B[49m\u001B[43mmode\u001B[49m\u001B[43m,\u001B[49m\u001B[43m \u001B[49m\u001B[43mstorage_options\u001B[49m\u001B[38;5;241;43m=\u001B[39;49m\u001B[43mstorage_options\u001B[49m\u001B[43m,\u001B[49m\u001B[43m \u001B[49m\u001B[43mis_text\u001B[49m\u001B[38;5;241;43m=\u001B[39;49m\u001B[38;5;28;43;01mFalse\u001B[39;49;00m\n\u001B[0;32m    821\u001B[0m \u001B[43m    \u001B[49m\u001B[43m)\u001B[49m\n\u001B[0;32m    822\u001B[0m \u001B[38;5;28mself\u001B[39m\u001B[38;5;241m.\u001B[39msheets: Dict[\u001B[38;5;28mstr\u001B[39m, Any] \u001B[38;5;241m=\u001B[39m {}\n\u001B[0;32m    823\u001B[0m \u001B[38;5;28mself\u001B[39m\u001B[38;5;241m.\u001B[39mcur_sheet \u001B[38;5;241m=\u001B[39m \u001B[38;5;28;01mNone\u001B[39;00m\n",
      "File \u001B[1;32mc:\\users\\niuni\\onedrive\\桌面\\py_venv_zone\\jieba_venv\\lib\\site-packages\\pandas\\io\\common.py:656\u001B[0m, in \u001B[0;36mget_handle\u001B[1;34m(path_or_buf, mode, encoding, compression, memory_map, is_text, errors, storage_options)\u001B[0m\n\u001B[0;32m    647\u001B[0m         handle \u001B[38;5;241m=\u001B[39m \u001B[38;5;28mopen\u001B[39m(\n\u001B[0;32m    648\u001B[0m             handle,\n\u001B[0;32m    649\u001B[0m             ioargs\u001B[38;5;241m.\u001B[39mmode,\n\u001B[1;32m   (...)\u001B[0m\n\u001B[0;32m    652\u001B[0m             newline\u001B[38;5;241m=\u001B[39m\u001B[38;5;124m\"\u001B[39m\u001B[38;5;124m\"\u001B[39m,\n\u001B[0;32m    653\u001B[0m         )\n\u001B[0;32m    654\u001B[0m     \u001B[38;5;28;01melse\u001B[39;00m:\n\u001B[0;32m    655\u001B[0m         \u001B[38;5;66;03m# Binary mode\u001B[39;00m\n\u001B[1;32m--> 656\u001B[0m         handle \u001B[38;5;241m=\u001B[39m \u001B[38;5;28;43mopen\u001B[39;49m\u001B[43m(\u001B[49m\u001B[43mhandle\u001B[49m\u001B[43m,\u001B[49m\u001B[43m \u001B[49m\u001B[43mioargs\u001B[49m\u001B[38;5;241;43m.\u001B[39;49m\u001B[43mmode\u001B[49m\u001B[43m)\u001B[49m\n\u001B[0;32m    657\u001B[0m     handles\u001B[38;5;241m.\u001B[39mappend(handle)\n\u001B[0;32m    659\u001B[0m \u001B[38;5;66;03m# Convert BytesIO or file objects passed with an encoding\u001B[39;00m\n",
      "\u001B[1;31mPermissionError\u001B[0m: [Errno 13] Permission denied: 'C:\\\\Users\\\\NiuNi\\\\OneDrive\\\\桌面\\\\demo\\\\專案實作\\\\地區餐廳評論分析\\\\data_processed\\\\senti_result_sampling_2.xlsx'"
     ]
    }
   ],
   "source": [
    "# sample_size = 100\n",
    "# random.seed(12)\n",
    "# random_set = random.sample(range(len(all_df_senti_result)),sample_size)\n",
    "# \n",
    "# sample_1 = all_df_senti_result.iloc[random_set]\n",
    "# sample_1.to_excel(r\"\\專案實作\\地區餐廳評論分析\\data_processed\\senti_result_sampling_2.xlsx\")\n",
    "# sample_1"
   ],
   "metadata": {
    "collapsed": false,
    "ExecuteTime": {
     "end_time": "2023-10-16T06:39:57.207158800Z",
     "start_time": "2023-10-16T06:39:56.487121200Z"
    }
   },
   "id": "7398c3d8e607960c"
  },
  {
   "cell_type": "code",
   "execution_count": null,
   "outputs": [],
   "source": [
    "# sample_size = 100\n",
    "# random.seed(13)\n",
    "# random_set = random.sample(range(len(all_df_senti_result)),sample_size)\n",
    "# \n",
    "# sample_1 = all_df_senti_result.iloc[random_set]\n",
    "# sample_1.to_excel(r\"\\專案實作\\地區餐廳評論分析\\data_processed\\senti_result_sampling_3.xlsx\")\n",
    "# sample_1"
   ],
   "metadata": {
    "collapsed": false,
    "ExecuteTime": {
     "start_time": "2023-10-16T06:39:57.192198300Z"
    }
   },
   "id": "103144f43de9a1c9"
  },
  {
   "cell_type": "code",
   "execution_count": 5,
   "outputs": [
    {
     "data": {
      "text/plain": "                                                 評論留言原內容  \\\n1750                                         '讚 好吃 環境很棒'   \n10090   '紅藜飯吃到飽耶~\\n正港台灣原生的健康紅藜飯作得超好，竟然敢讓人配泰式咖哩雞吃到飽不加價...   \n11511                                   '好吃但是服務還好，很趕著收桌'   \n12373   '幫朋友求婚來這用餐，牛排很讚，肉的鮮甜味跟嫩度都很完美，而且服務員顏值都很高，服務也很好...   \n10683                      '咖哩雞的雞肉燉的很軟爛，連帶的骨頭也是很好咬，味道不錯'   \n...                                                  ...   \n1523                                           '上餐速度快好吃'   \n6966    '肉品質很好，服務生烤得很好吃，態度也好，但有一位長頭髮頭上綁像貓咪耳朵的服務生，端釜飯的...   \n7871    '來了幾次都沒失望 餐點精緻也好吃 酒品表現也不錯 是適合台灣人的南洋料理 比吃不懂的JL...   \n11229          '很🎉的餐廳，謝謝優質的服務人員Ryan、Cathy，用餐非常愉快，期待再來用餐'   \n2758    '食材新鮮，菜盤裡的地瓜、南瓜、番茄、紅蘿蔔、白蘿蔔、玉米筍等，即使煮久也不會爛在鍋底，還...   \n\n                                               評論留言原內容處理  \\\n1750                                           讚 好吃 環境很棒   \n10090   紅藜飯吃到飽耶 正港台灣原生的健康紅藜飯作得超好，竟然敢讓人配泰式咖哩雞吃到飽不加價，嚇死...   \n11511                                     好吃但是服務還好，很趕著收桌   \n12373   幫朋友求婚來這用餐，牛排很讚，肉的鮮甜味跟嫩度都很完美，而且服務員顏值都很高，服務也很好，...   \n10683                        咖哩雞的雞肉燉的很軟爛，連帶的骨頭也是很好咬，味道不錯   \n...                                                  ...   \n1523                                             上餐速度快好吃   \n6966    肉品質很好，服務生烤得很好吃，態度也好，但有一位長頭髮頭上綁像貓咪耳朵的服務生，端釜飯的時...   \n7871    來了幾次都沒失望 餐點精緻也好吃 酒品表現也不錯 是適合台灣人的南洋料理 比吃不懂的JL ...   \n11229             很的餐廳，謝謝優質的服務人員Ryan、Cathy，用餐非常愉快，期待再來用餐   \n2758    食材新鮮，菜盤裡的地瓜、南瓜、番茄、紅蘿蔔、白蘿蔔、玉米筍等，即使煮久也不會爛在鍋底，還吃...   \n\n                                                評論留言內容斷詞 情感分析結果  \n1750                                     讚| |好吃| |環境|很|棒     正面  \n10090   |紅藜飯|吃|到|飽|耶|~|正港|台灣|原生|的|健康|紅藜飯|作|得|超|好|，|竟然...     正面  \n11511                            |好吃|但是|服務|還好|，|很|趕著|收|桌     正面  \n12373   |幫|朋友|求婚|來|這|用餐|，|牛排|很|讚|，|肉|的|鮮甜味|跟|嫩度|都|很|完...     正面  \n10683    |咖哩雞|的|雞肉|燉|的|很|軟|爛|，|連帶|的|骨頭|也|是|很|好|咬|，|味道|不錯     正面  \n...                                                  ...    ...  \n1523                                        |上|餐|速度|快|好吃     正面  \n6966    肉|品質|很|好|，|服務生|烤|得|很|好吃|，|態度|也好|，|但|有|一|位|長|頭...     衝突  \n7871    |來|了|幾|次|都|沒|失望| |餐點|精緻|也|好吃| |酒品|表現|也|不錯| |是...     正面  \n11229   |很|的|餐廳|，|謝謝|優質|的|服務|人員|Ryan|、|Cathy|，|用餐|非常|...     正面  \n2758    |食材|新鮮|，|菜盤|裡|的|地瓜|、|南瓜|、|番茄|、|紅蘿蔔|、|白蘿蔔|、|玉米...     正面  \n\n[100 rows x 4 columns]",
      "text/html": "<div>\n<style scoped>\n    .dataframe tbody tr th:only-of-type {\n        vertical-align: middle;\n    }\n\n    .dataframe tbody tr th {\n        vertical-align: top;\n    }\n\n    .dataframe thead th {\n        text-align: right;\n    }\n</style>\n<table border=\"1\" class=\"dataframe\">\n  <thead>\n    <tr style=\"text-align: right;\">\n      <th></th>\n      <th>評論留言原內容</th>\n      <th>評論留言原內容處理</th>\n      <th>評論留言內容斷詞</th>\n      <th>情感分析結果</th>\n    </tr>\n  </thead>\n  <tbody>\n    <tr>\n      <th>1750</th>\n      <td>'讚 好吃 環境很棒'</td>\n      <td>讚 好吃 環境很棒</td>\n      <td>讚| |好吃| |環境|很|棒</td>\n      <td>正面</td>\n    </tr>\n    <tr>\n      <th>10090</th>\n      <td>'紅藜飯吃到飽耶~\\n正港台灣原生的健康紅藜飯作得超好，竟然敢讓人配泰式咖哩雞吃到飽不加價...</td>\n      <td>紅藜飯吃到飽耶 正港台灣原生的健康紅藜飯作得超好，竟然敢讓人配泰式咖哩雞吃到飽不加價，嚇死...</td>\n      <td>|紅藜飯|吃|到|飽|耶|~|正港|台灣|原生|的|健康|紅藜飯|作|得|超|好|，|竟然...</td>\n      <td>正面</td>\n    </tr>\n    <tr>\n      <th>11511</th>\n      <td>'好吃但是服務還好，很趕著收桌'</td>\n      <td>好吃但是服務還好，很趕著收桌</td>\n      <td>|好吃|但是|服務|還好|，|很|趕著|收|桌</td>\n      <td>正面</td>\n    </tr>\n    <tr>\n      <th>12373</th>\n      <td>'幫朋友求婚來這用餐，牛排很讚，肉的鮮甜味跟嫩度都很完美，而且服務員顏值都很高，服務也很好...</td>\n      <td>幫朋友求婚來這用餐，牛排很讚，肉的鮮甜味跟嫩度都很完美，而且服務員顏值都很高，服務也很好，...</td>\n      <td>|幫|朋友|求婚|來|這|用餐|，|牛排|很|讚|，|肉|的|鮮甜味|跟|嫩度|都|很|完...</td>\n      <td>正面</td>\n    </tr>\n    <tr>\n      <th>10683</th>\n      <td>'咖哩雞的雞肉燉的很軟爛，連帶的骨頭也是很好咬，味道不錯'</td>\n      <td>咖哩雞的雞肉燉的很軟爛，連帶的骨頭也是很好咬，味道不錯</td>\n      <td>|咖哩雞|的|雞肉|燉|的|很|軟|爛|，|連帶|的|骨頭|也|是|很|好|咬|，|味道|不錯</td>\n      <td>正面</td>\n    </tr>\n    <tr>\n      <th>...</th>\n      <td>...</td>\n      <td>...</td>\n      <td>...</td>\n      <td>...</td>\n    </tr>\n    <tr>\n      <th>1523</th>\n      <td>'上餐速度快好吃'</td>\n      <td>上餐速度快好吃</td>\n      <td>|上|餐|速度|快|好吃</td>\n      <td>正面</td>\n    </tr>\n    <tr>\n      <th>6966</th>\n      <td>'肉品質很好，服務生烤得很好吃，態度也好，但有一位長頭髮頭上綁像貓咪耳朵的服務生，端釜飯的...</td>\n      <td>肉品質很好，服務生烤得很好吃，態度也好，但有一位長頭髮頭上綁像貓咪耳朵的服務生，端釜飯的時...</td>\n      <td>肉|品質|很|好|，|服務生|烤|得|很|好吃|，|態度|也好|，|但|有|一|位|長|頭...</td>\n      <td>衝突</td>\n    </tr>\n    <tr>\n      <th>7871</th>\n      <td>'來了幾次都沒失望 餐點精緻也好吃 酒品表現也不錯 是適合台灣人的南洋料理 比吃不懂的JL...</td>\n      <td>來了幾次都沒失望 餐點精緻也好吃 酒品表現也不錯 是適合台灣人的南洋料理 比吃不懂的JL ...</td>\n      <td>|來|了|幾|次|都|沒|失望| |餐點|精緻|也|好吃| |酒品|表現|也|不錯| |是...</td>\n      <td>正面</td>\n    </tr>\n    <tr>\n      <th>11229</th>\n      <td>'很🎉的餐廳，謝謝優質的服務人員Ryan、Cathy，用餐非常愉快，期待再來用餐'</td>\n      <td>很的餐廳，謝謝優質的服務人員Ryan、Cathy，用餐非常愉快，期待再來用餐</td>\n      <td>|很|的|餐廳|，|謝謝|優質|的|服務|人員|Ryan|、|Cathy|，|用餐|非常|...</td>\n      <td>正面</td>\n    </tr>\n    <tr>\n      <th>2758</th>\n      <td>'食材新鮮，菜盤裡的地瓜、南瓜、番茄、紅蘿蔔、白蘿蔔、玉米筍等，即使煮久也不會爛在鍋底，還...</td>\n      <td>食材新鮮，菜盤裡的地瓜、南瓜、番茄、紅蘿蔔、白蘿蔔、玉米筍等，即使煮久也不會爛在鍋底，還吃...</td>\n      <td>|食材|新鮮|，|菜盤|裡|的|地瓜|、|南瓜|、|番茄|、|紅蘿蔔|、|白蘿蔔|、|玉米...</td>\n      <td>正面</td>\n    </tr>\n  </tbody>\n</table>\n<p>100 rows × 4 columns</p>\n</div>"
     },
     "execution_count": 5,
     "metadata": {},
     "output_type": "execute_result"
    }
   ],
   "source": [
    "# sample_size = 100\n",
    "# random.seed(14)\n",
    "# random_set = random.sample(range(len(all_df_senti_result)),sample_size)\n",
    "# \n",
    "# sample_1 = all_df_senti_result.iloc[random_set]\n",
    "# sample_1.to_excel(r\"\\專案實作\\地區餐廳評論分析\\data_processed\\senti_result_sampling_4.xlsx\")\n",
    "# sample_1"
   ],
   "metadata": {
    "collapsed": false,
    "ExecuteTime": {
     "end_time": "2023-10-16T06:40:56.985908800Z",
     "start_time": "2023-10-16T06:40:56.881687700Z"
    }
   },
   "id": "201f4b2def2bb313"
  },
  {
   "cell_type": "code",
   "execution_count": 6,
   "outputs": [
    {
     "data": {
      "text/plain": "                                                 評論留言原內容  \\\n3423    '服務很好，青菜總類算不上多樣，飲料bar還可以。\\n肉類加點上菜很快值得稱讚，肉質雖然略...   \n190     '服務人員態度都很好，餐點也不錯，乾淨，上樓動線需要調整雖然電梯上樓速度很快，但是只有一部...   \n8541                '有著該米其林餐廳一貫的美味餐點，用餐環境桌數密，相對鄰桌交談聲較明顯'   \n12058   '打卡送飲料。\\n下述經驗本想改一星，但我有喝飲料。\\n等店員確認打卡後，還需要跟店員提醒...   \n592                '師傅內場服務好！外場Benny也很不錯，但收盤速度有點快，速度可放慢點'   \n...                                                  ...   \n7234                                '生蠔牛肉燒真的很好吃，讓人回味無窮！'   \n12809   'GBA 多次造訪不同分店，一如冀望不讓人失望，基本上，沒有地雷餐，用餐氣氛始終熱鬧，適合...   \n1215    '牛肉丸上插了一根頭髮送給我\\n某男服務生好幾次一聲不吭把餐點推到你桌上\\n兩人桌就已經夠...   \n12406                             '巴松酥脆可口！通心粉奶酪多汁且有奶酪味。'   \n13044                                              '還好！'   \n\n                                               評論留言原內容處理  \\\n3423    服務很好，青菜總類算不上多樣，飲料bar還可以 肉類加點上菜很快值得稱讚，肉質雖然略遜於m...   \n190     服務人員態度都很好，餐點也不錯，乾淨，上樓動線需要調整雖然電梯上樓速度很快，但是只有一部電...   \n8541                  有著該米其林餐廳一貫的美味餐點，用餐環境桌數密，相對鄰桌交談聲較明顯   \n12058   打卡送飲料 下述經驗本想改一星，但我有喝飲料 等店員確認打卡後，還需要跟店員提醒三次感覺才...   \n592                  師傅內場服務好 外場Benny也很不錯，但收盤速度有點快，速度可放慢點   \n...                                                  ...   \n7234                                  生蠔牛肉燒真的很好吃，讓人回味無窮    \n12809   GBA 多次造訪不同分店，一如冀望不讓人失望，基本上，沒有地雷餐，用餐氣氛始終熱鬧，適合喝...   \n1215    牛肉丸上插了一根頭髮送給我某男服務生好幾次一聲不吭把餐點推到你桌上兩人桌就已經夠小了 還很...   \n12406                               巴松酥脆可口 通心粉奶酪多汁且有奶酪味    \n13044                                                還好    \n\n                                                評論留言內容斷詞 情感分析結果  \n3423    |服務|很|好|，|青菜|總類|算不上|多樣|，|飲料|bar|還可以|。|肉類|加|點|...     衝突  \n190     |服務|人員|態度|都|很|好|，|餐點|也|不錯|，|乾淨|，|上樓|動線|需要|調整|...     衝突  \n8541    |有|著|該|米其林|餐廳|一貫|的|美味|餐點|，|用餐|環境|桌數|密|，|相對|鄰桌...     衝突  \n12058   |打卡|送|飲料|。|下述|經驗|本|想|改|一|星|，|但|我|有|喝|飲料|。|等|店...     正面  \n592     |師傅|內|場|服務|好|！|外|場|Benny|也|很|不錯|，|但|收盤|速度|有點|...     衝突  \n...                                                  ...    ...  \n7234                      |生蠔|牛肉|燒|真的|很|好吃|，|讓|人|回味|無窮|！     正面  \n12809   GBA |多|次|造訪|不同|分店|，|一如|冀望|不|讓|人|失望|，|基本|上|，|沒...     正面  \n1215    |牛肉丸|上|插|了|一|根|頭髮|送給|我|某|男|服務生|好幾|次|一聲不吭|把|餐點...     負面  \n12406                     巴松|酥脆|可口|！|通心粉|奶酪|多汁|且|有|奶酪味|。     正面  \n13044                                              |還好|！     正面  \n\n[100 rows x 4 columns]",
      "text/html": "<div>\n<style scoped>\n    .dataframe tbody tr th:only-of-type {\n        vertical-align: middle;\n    }\n\n    .dataframe tbody tr th {\n        vertical-align: top;\n    }\n\n    .dataframe thead th {\n        text-align: right;\n    }\n</style>\n<table border=\"1\" class=\"dataframe\">\n  <thead>\n    <tr style=\"text-align: right;\">\n      <th></th>\n      <th>評論留言原內容</th>\n      <th>評論留言原內容處理</th>\n      <th>評論留言內容斷詞</th>\n      <th>情感分析結果</th>\n    </tr>\n  </thead>\n  <tbody>\n    <tr>\n      <th>3423</th>\n      <td>'服務很好，青菜總類算不上多樣，飲料bar還可以。\\n肉類加點上菜很快值得稱讚，肉質雖然略...</td>\n      <td>服務很好，青菜總類算不上多樣，飲料bar還可以 肉類加點上菜很快值得稱讚，肉質雖然略遜於m...</td>\n      <td>|服務|很|好|，|青菜|總類|算不上|多樣|，|飲料|bar|還可以|。|肉類|加|點|...</td>\n      <td>衝突</td>\n    </tr>\n    <tr>\n      <th>190</th>\n      <td>'服務人員態度都很好，餐點也不錯，乾淨，上樓動線需要調整雖然電梯上樓速度很快，但是只有一部...</td>\n      <td>服務人員態度都很好，餐點也不錯，乾淨，上樓動線需要調整雖然電梯上樓速度很快，但是只有一部電...</td>\n      <td>|服務|人員|態度|都|很|好|，|餐點|也|不錯|，|乾淨|，|上樓|動線|需要|調整|...</td>\n      <td>衝突</td>\n    </tr>\n    <tr>\n      <th>8541</th>\n      <td>'有著該米其林餐廳一貫的美味餐點，用餐環境桌數密，相對鄰桌交談聲較明顯'</td>\n      <td>有著該米其林餐廳一貫的美味餐點，用餐環境桌數密，相對鄰桌交談聲較明顯</td>\n      <td>|有|著|該|米其林|餐廳|一貫|的|美味|餐點|，|用餐|環境|桌數|密|，|相對|鄰桌...</td>\n      <td>衝突</td>\n    </tr>\n    <tr>\n      <th>12058</th>\n      <td>'打卡送飲料。\\n下述經驗本想改一星，但我有喝飲料。\\n等店員確認打卡後，還需要跟店員提醒...</td>\n      <td>打卡送飲料 下述經驗本想改一星，但我有喝飲料 等店員確認打卡後，還需要跟店員提醒三次感覺才...</td>\n      <td>|打卡|送|飲料|。|下述|經驗|本|想|改|一|星|，|但|我|有|喝|飲料|。|等|店...</td>\n      <td>正面</td>\n    </tr>\n    <tr>\n      <th>592</th>\n      <td>'師傅內場服務好！外場Benny也很不錯，但收盤速度有點快，速度可放慢點'</td>\n      <td>師傅內場服務好 外場Benny也很不錯，但收盤速度有點快，速度可放慢點</td>\n      <td>|師傅|內|場|服務|好|！|外|場|Benny|也|很|不錯|，|但|收盤|速度|有點|...</td>\n      <td>衝突</td>\n    </tr>\n    <tr>\n      <th>...</th>\n      <td>...</td>\n      <td>...</td>\n      <td>...</td>\n      <td>...</td>\n    </tr>\n    <tr>\n      <th>7234</th>\n      <td>'生蠔牛肉燒真的很好吃，讓人回味無窮！'</td>\n      <td>生蠔牛肉燒真的很好吃，讓人回味無窮</td>\n      <td>|生蠔|牛肉|燒|真的|很|好吃|，|讓|人|回味|無窮|！</td>\n      <td>正面</td>\n    </tr>\n    <tr>\n      <th>12809</th>\n      <td>'GBA 多次造訪不同分店，一如冀望不讓人失望，基本上，沒有地雷餐，用餐氣氛始終熱鬧，適合...</td>\n      <td>GBA 多次造訪不同分店，一如冀望不讓人失望，基本上，沒有地雷餐，用餐氣氛始終熱鬧，適合喝...</td>\n      <td>GBA |多|次|造訪|不同|分店|，|一如|冀望|不|讓|人|失望|，|基本|上|，|沒...</td>\n      <td>正面</td>\n    </tr>\n    <tr>\n      <th>1215</th>\n      <td>'牛肉丸上插了一根頭髮送給我\\n某男服務生好幾次一聲不吭把餐點推到你桌上\\n兩人桌就已經夠...</td>\n      <td>牛肉丸上插了一根頭髮送給我某男服務生好幾次一聲不吭把餐點推到你桌上兩人桌就已經夠小了 還很...</td>\n      <td>|牛肉丸|上|插|了|一|根|頭髮|送給|我|某|男|服務生|好幾|次|一聲不吭|把|餐點...</td>\n      <td>負面</td>\n    </tr>\n    <tr>\n      <th>12406</th>\n      <td>'巴松酥脆可口！通心粉奶酪多汁且有奶酪味。'</td>\n      <td>巴松酥脆可口 通心粉奶酪多汁且有奶酪味</td>\n      <td>巴松|酥脆|可口|！|通心粉|奶酪|多汁|且|有|奶酪味|。</td>\n      <td>正面</td>\n    </tr>\n    <tr>\n      <th>13044</th>\n      <td>'還好！'</td>\n      <td>還好</td>\n      <td>|還好|！</td>\n      <td>正面</td>\n    </tr>\n  </tbody>\n</table>\n<p>100 rows × 4 columns</p>\n</div>"
     },
     "execution_count": 6,
     "metadata": {},
     "output_type": "execute_result"
    }
   ],
   "source": [
    "sample_size = 100\n",
    "random.seed(15)\n",
    "random_set = random.sample(range(len(all_df_senti_result)),sample_size)\n",
    "\n",
    "sample_1 = all_df_senti_result.iloc[random_set]\n",
    "sample_1.to_excel(r\"\\專案實作\\地區餐廳評論分析\\data_processed\\senti_result_sampling_5.xlsx\")\n",
    "sample_1"
   ],
   "metadata": {
    "collapsed": false,
    "ExecuteTime": {
     "end_time": "2023-10-16T06:52:48.620063400Z",
     "start_time": "2023-10-16T06:52:48.510094700Z"
    }
   },
   "id": "89965e22139efb82"
  }
 ],
 "metadata": {
  "kernelspec": {
   "display_name": "Python 3",
   "language": "python",
   "name": "python3"
  },
  "language_info": {
   "codemirror_mode": {
    "name": "ipython",
    "version": 2
   },
   "file_extension": ".py",
   "mimetype": "text/x-python",
   "name": "python",
   "nbconvert_exporter": "python",
   "pygments_lexer": "ipython2",
   "version": "2.7.6"
  }
 },
 "nbformat": 4,
 "nbformat_minor": 5
}
